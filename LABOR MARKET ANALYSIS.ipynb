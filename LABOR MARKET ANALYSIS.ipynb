{
 "cells": [
  {
   "cell_type": "markdown",
   "id": "d94e1f1d",
   "metadata": {},
   "source": [
    "# Description"
   ]
  },
  {
   "cell_type": "markdown",
   "id": "3d01306c",
   "metadata": {},
   "source": [
    "- Here we have 3 Datasets these datasets are the data of the job offers by companies in the field of software development and engineering from the famous website Wuzzuf \n",
    "- The aim of the project is to discover the most needed fields and jobs in the software industry and the requirements of the labor market"
   ]
  },
  {
   "cell_type": "markdown",
   "id": "1674b49a",
   "metadata": {},
   "source": [
    "# Gathering"
   ]
  },
  {
   "cell_type": "code",
   "execution_count": 765,
   "id": "883aef77",
   "metadata": {},
   "outputs": [],
   "source": [
    "import pandas as pd\n",
    "import numpy as np\n",
    "import matplotlib.pyplot as plt\n",
    "import re\n",
    "\n",
    "\n",
    "df_14_16=pd.read_excel('wuzzuf14_16.xlsx')\n",
    "df_20=pd.read_excel('wuzzuf2020.xlsx')\n",
    "df_21=pd.read_csv('ًwuzzaf9_8_2021.csv')\n"
   ]
  },
  {
   "cell_type": "markdown",
   "id": "1ce73d64",
   "metadata": {},
   "source": [
    "# Assess"
   ]
  },
  {
   "cell_type": "markdown",
   "id": "6506df89",
   "metadata": {},
   "source": [
    "#### Wuzzuf 2021 dataset"
   ]
  },
  {
   "cell_type": "code",
   "execution_count": 766,
   "id": "5c1d66b7",
   "metadata": {
    "scrolled": true
   },
   "outputs": [
    {
     "data": {
      "text/html": [
       "<div>\n",
       "<style scoped>\n",
       "    .dataframe tbody tr th:only-of-type {\n",
       "        vertical-align: middle;\n",
       "    }\n",
       "\n",
       "    .dataframe tbody tr th {\n",
       "        vertical-align: top;\n",
       "    }\n",
       "\n",
       "    .dataframe thead th {\n",
       "        text-align: right;\n",
       "    }\n",
       "</style>\n",
       "<table border=\"1\" class=\"dataframe\">\n",
       "  <thead>\n",
       "    <tr style=\"text-align: right;\">\n",
       "      <th></th>\n",
       "      <th>page_URL</th>\n",
       "      <th>job_title</th>\n",
       "      <th>company_names</th>\n",
       "      <th>job_link</th>\n",
       "      <th>job_link_link</th>\n",
       "      <th>job_description</th>\n",
       "      <th>location</th>\n",
       "    </tr>\n",
       "  </thead>\n",
       "  <tbody>\n",
       "    <tr>\n",
       "      <th>0</th>\n",
       "      <td>https://wuzzuf.net/a/IT-Software-Development-J...</td>\n",
       "      <td>Business Development Specialist - Upper Egypt</td>\n",
       "      <td>golden</td>\n",
       "      <td>Business Development Specialist - Upper Egypt</td>\n",
       "      <td>https://wuzzuf.net/jobs/p/1623d22c-3de2-455a-...</td>\n",
       "      <td>Full Time · Experienced · 2+ Yrs of Exp · Bus...</td>\n",
       "      <td>- Aswan- Egypt</td>\n",
       "    </tr>\n",
       "    <tr>\n",
       "      <th>1</th>\n",
       "      <td>https://wuzzuf.net/a/IT-Software-Development-...</td>\n",
       "      <td>Senior/Intermediate .NET Core Developer (Remo...</td>\n",
       "      <td>Confidential</td>\n",
       "      <td>Senior/Intermediate .NET Core Developer (Remo...</td>\n",
       "      <td>https://wuzzuf.net/jobs/p/0efb55cc-3264-47b4-...</td>\n",
       "      <td>Full Time · Experienced · 4+ Yrs of Exp · Sof...</td>\n",
       "      <td>- Cairo- Egypt</td>\n",
       "    </tr>\n",
       "    <tr>\n",
       "      <th>2</th>\n",
       "      <td>https://wuzzuf.net/a/IT-Software-Development-...</td>\n",
       "      <td>Senior Software Developer</td>\n",
       "      <td>Bnsights</td>\n",
       "      <td>Senior Software Developer</td>\n",
       "      <td>https://wuzzuf.net/jobs/p/d76caa63-bc76-4839-...</td>\n",
       "      <td>Full Time · Experienced · 6-10 Yrs of Exp · S...</td>\n",
       "      <td>- New Cairo- Cairo</td>\n",
       "    </tr>\n",
       "    <tr>\n",
       "      <th>3</th>\n",
       "      <td>https://wuzzuf.net/a/IT-Software-Development-...</td>\n",
       "      <td>Software Developer / Desktop Development</td>\n",
       "      <td>ITS</td>\n",
       "      <td>Software Developer / Desktop Development</td>\n",
       "      <td>https://wuzzuf.net/jobs/p/2ffe3403-b147-4b38-...</td>\n",
       "      <td>Full Time · Entry Level · 0-2 Yrs of Exp · Co...</td>\n",
       "      <td>- Nasr City- Cairo</td>\n",
       "    </tr>\n",
       "    <tr>\n",
       "      <th>4</th>\n",
       "      <td>https://wuzzuf.net/a/IT-Software-Development-...</td>\n",
       "      <td>Senior Software Developer -Dynamics 365...</td>\n",
       "      <td>CrossWorkers</td>\n",
       "      <td>Senior Software Developer -Dynamics 365...</td>\n",
       "      <td>https://wuzzuf.net/jobs/p/b6ae6a6a-47b8-47f7-...</td>\n",
       "      <td>Full Time · Experienced · 4-12 Yrs of Exp · A...</td>\n",
       "      <td>- New Cairo- Cairo</td>\n",
       "    </tr>\n",
       "  </tbody>\n",
       "</table>\n",
       "</div>"
      ],
      "text/plain": [
       "                                           page_URL   \\\n",
       "0  https://wuzzuf.net/a/IT-Software-Development-J...   \n",
       "1   https://wuzzuf.net/a/IT-Software-Development-...   \n",
       "2   https://wuzzuf.net/a/IT-Software-Development-...   \n",
       "3   https://wuzzuf.net/a/IT-Software-Development-...   \n",
       "4   https://wuzzuf.net/a/IT-Software-Development-...   \n",
       "\n",
       "                                          job_title  company_names   \\\n",
       "0      Business Development Specialist - Upper Egypt         golden   \n",
       "1   Senior/Intermediate .NET Core Developer (Remo...   Confidential   \n",
       "2                          Senior Software Developer       Bnsights   \n",
       "3           Software Developer / Desktop Development            ITS   \n",
       "4         Senior Software Developer -Dynamics 365...   CrossWorkers   \n",
       "\n",
       "                                           job_link   \\\n",
       "0      Business Development Specialist - Upper Egypt   \n",
       "1   Senior/Intermediate .NET Core Developer (Remo...   \n",
       "2                          Senior Software Developer   \n",
       "3           Software Developer / Desktop Development   \n",
       "4         Senior Software Developer -Dynamics 365...   \n",
       "\n",
       "                                       job_link_link  \\\n",
       "0   https://wuzzuf.net/jobs/p/1623d22c-3de2-455a-...   \n",
       "1   https://wuzzuf.net/jobs/p/0efb55cc-3264-47b4-...   \n",
       "2   https://wuzzuf.net/jobs/p/d76caa63-bc76-4839-...   \n",
       "3   https://wuzzuf.net/jobs/p/2ffe3403-b147-4b38-...   \n",
       "4   https://wuzzuf.net/jobs/p/b6ae6a6a-47b8-47f7-...   \n",
       "\n",
       "                                     job_description             location  \n",
       "0   Full Time · Experienced · 2+ Yrs of Exp · Bus...       - Aswan- Egypt  \n",
       "1   Full Time · Experienced · 4+ Yrs of Exp · Sof...       - Cairo- Egypt  \n",
       "2   Full Time · Experienced · 6-10 Yrs of Exp · S...   - New Cairo- Cairo  \n",
       "3   Full Time · Entry Level · 0-2 Yrs of Exp · Co...   - Nasr City- Cairo  \n",
       "4   Full Time · Experienced · 4-12 Yrs of Exp · A...   - New Cairo- Cairo  "
      ]
     },
     "execution_count": 766,
     "metadata": {},
     "output_type": "execute_result"
    }
   ],
   "source": [
    "df_21.head(5)"
   ]
  },
  {
   "cell_type": "code",
   "execution_count": 767,
   "id": "783c98a1",
   "metadata": {},
   "outputs": [
    {
     "data": {
      "text/plain": [
       "(2635, 7)"
      ]
     },
     "execution_count": 767,
     "metadata": {},
     "output_type": "execute_result"
    }
   ],
   "source": [
    "df_21.shape"
   ]
  },
  {
   "cell_type": "code",
   "execution_count": 768,
   "id": "b7a60403",
   "metadata": {},
   "outputs": [
    {
     "data": {
      "text/plain": [
       "Index(['page_URL ', 'job_title ', 'company_names ', 'job_link ',\n",
       "       'job_link_link', ' job_description', 'location'],\n",
       "      dtype='object')"
      ]
     },
     "execution_count": 768,
     "metadata": {},
     "output_type": "execute_result"
    }
   ],
   "source": [
    "df_21.columns"
   ]
  },
  {
   "cell_type": "code",
   "execution_count": 769,
   "id": "a6ea7bd7",
   "metadata": {
    "scrolled": false
   },
   "outputs": [
    {
     "name": "stdout",
     "output_type": "stream",
     "text": [
      " Full Time · Experienced · 2+ Yrs of Exp · Business Development · Sales Skills · Sales · Sales Target · Architecture · Interior Designing · Marketing · Market Research · Marketing Analysis · English - June 16/ 2021 \n",
      "\n",
      " Full Time · Experienced · 4+ Yrs of Exp · Software · Software Engineering · Software Development · Web Development · .Net · ASP.Net · Web Application · jQuery · Javascript · Ajax - June 27/ 2021 \n",
      "\n",
      " Full Time · Experienced · 6-10 Yrs of Exp · Software Development · Information Technology (IT) · Computer Science · SQL · MVC · Angular · C# · .NET · Programming · Design · Software · javaScript - June 30/ 2021 \n",
      "\n",
      " Full Time · Entry Level · 0-2 Yrs of Exp · Computer Science · Information Technology (IT) · Software Development · .NET · C# · SQL · WCF · OOP · Debugging · Oracle · Architecture · javaScript - July 29/ 2021 \n",
      "\n",
      " Full Time · Experienced · 4-12 Yrs of Exp · AL Language · Azure SQL · C# · Computer Science · Dynamics 365 · Software Development · VS Code · IT/Software Development - July 27/ 2021 \n",
      "\n"
     ]
    }
   ],
   "source": [
    "for i in range(5):\n",
    "    print(df_21[' job_description'][i],'\\n')\n"
   ]
  },
  {
   "cell_type": "code",
   "execution_count": 770,
   "id": "4f6994bb",
   "metadata": {},
   "outputs": [
    {
     "name": "stdout",
     "output_type": "stream",
     "text": [
      "<class 'pandas.core.frame.DataFrame'>\n",
      "RangeIndex: 2635 entries, 0 to 2634\n",
      "Data columns (total 7 columns):\n",
      " #   Column            Non-Null Count  Dtype \n",
      "---  ------            --------------  ----- \n",
      " 0   page_URL          2635 non-null   object\n",
      " 1   job_title         2635 non-null   object\n",
      " 2   company_names     2635 non-null   object\n",
      " 3   job_link          2635 non-null   object\n",
      " 4   job_link_link     2635 non-null   object\n",
      " 5    job_description  2635 non-null   object\n",
      " 6   location          2635 non-null   object\n",
      "dtypes: object(7)\n",
      "memory usage: 144.2+ KB\n"
     ]
    }
   ],
   "source": [
    "df_21.info()"
   ]
  },
  {
   "cell_type": "code",
   "execution_count": 771,
   "id": "33f24d65",
   "metadata": {},
   "outputs": [
    {
     "data": {
      "text/plain": [
       "Index(['page_URL ', 'job_title ', 'company_names ', 'job_link ',\n",
       "       'job_link_link', ' job_description', 'location'],\n",
       "      dtype='object')"
      ]
     },
     "execution_count": 771,
     "metadata": {},
     "output_type": "execute_result"
    }
   ],
   "source": [
    "df_21.columns"
   ]
  },
  {
   "cell_type": "code",
   "execution_count": 772,
   "id": "b4401d84",
   "metadata": {},
   "outputs": [
    {
     "data": {
      "text/plain": [
       "page_URL            0\n",
       "job_title           0\n",
       "company_names       0\n",
       "job_link            0\n",
       "job_link_link       0\n",
       " job_description    0\n",
       "location            0\n",
       "dtype: int64"
      ]
     },
     "execution_count": 772,
     "metadata": {},
     "output_type": "execute_result"
    }
   ],
   "source": [
    "# check for null values\n",
    "df_21.isnull().sum()"
   ]
  },
  {
   "cell_type": "code",
   "execution_count": 773,
   "id": "2ab8f9f7",
   "metadata": {},
   "outputs": [
    {
     "data": {
      "text/plain": [
       "0"
      ]
     },
     "execution_count": 773,
     "metadata": {},
     "output_type": "execute_result"
    }
   ],
   "source": [
    "#check for duplicates\n",
    "df_21.duplicated().sum()"
   ]
  },
  {
   "cell_type": "code",
   "execution_count": 774,
   "id": "9798669c",
   "metadata": {},
   "outputs": [
    {
     "data": {
      "text/plain": [
       " IT Specialist                                      21\n",
       " Business Analyst                                   18\n",
       " Front End Developer                                15\n",
       " IT Help Desk Specialist                            14\n",
       " Graphic Designer                                   13\n",
       "                                                    ..\n",
       " Senior Python Django Full Stack Developer Remot     1\n",
       " Senior Software Developer – C# + Blazor             1\n",
       " Full Stack Team Leader (Node.js)                    1\n",
       " Application Development Team Leader                 1\n",
       " Plant Manager                                       1\n",
       "Name: job_title , Length: 1910, dtype: int64"
      ]
     },
     "execution_count": 774,
     "metadata": {},
     "output_type": "execute_result"
    }
   ],
   "source": [
    "df_21['job_title '].value_counts()"
   ]
  },
  {
   "cell_type": "code",
   "execution_count": 775,
   "id": "4812d137",
   "metadata": {},
   "outputs": [
    {
     "data": {
      "text/plain": [
       " Confidential                                   273\n",
       " FlairsTech                                      42\n",
       " Cegedim                                         31\n",
       " Fawry Banking & Payment Technology Services     20\n",
       " Perfect Presentation                            18\n",
       "                                               ... \n",
       " Innovito                                         1\n",
       " ALM-Atef Lamie&Co.                               1\n",
       " Maxab                                            1\n",
       " Max Muscle                                       1\n",
       " Hi Tech for medical devices and supplies         1\n",
       "Name: company_names , Length: 987, dtype: int64"
      ]
     },
     "execution_count": 775,
     "metadata": {},
     "output_type": "execute_result"
    }
   ],
   "source": [
    "df_21['company_names '].value_counts()"
   ]
  },
  {
   "cell_type": "markdown",
   "id": "5dd28a37",
   "metadata": {},
   "source": [
    "#### Wuzzuf 2020 dataset"
   ]
  },
  {
   "cell_type": "code",
   "execution_count": 776,
   "id": "a6cd18c6",
   "metadata": {},
   "outputs": [
    {
     "data": {
      "text/html": [
       "<div>\n",
       "<style scoped>\n",
       "    .dataframe tbody tr th:only-of-type {\n",
       "        vertical-align: middle;\n",
       "    }\n",
       "\n",
       "    .dataframe tbody tr th {\n",
       "        vertical-align: top;\n",
       "    }\n",
       "\n",
       "    .dataframe thead th {\n",
       "        text-align: right;\n",
       "    }\n",
       "</style>\n",
       "<table border=\"1\" class=\"dataframe\">\n",
       "  <thead>\n",
       "    <tr style=\"text-align: right;\">\n",
       "      <th></th>\n",
       "      <th>#PAGE_URL</th>\n",
       "      <th>title</th>\n",
       "      <th>company-name</th>\n",
       "      <th>job-link</th>\n",
       "      <th>job-link_link</th>\n",
       "      <th>short-description-</th>\n",
       "      <th>location</th>\n",
       "    </tr>\n",
       "  </thead>\n",
       "  <tbody>\n",
       "    <tr>\n",
       "      <th>0</th>\n",
       "      <td>https://wuzzuf.net/a/IT-Software-Development-J...</td>\n",
       "      <td>Sales Supervisor - North Upper Egypt</td>\n",
       "      <td>PepsiCo International</td>\n",
       "      <td>Sales Supervisor - North Upper Egypt</td>\n",
       "      <td>https://wuzzuf.net/jobs/p/cc5848eb-a2c4-4055-9...</td>\n",
       "      <td>Full Time · Manager · 1-3 Yrs of Exp · FMCG · ...</td>\n",
       "      <td>Beni Suef, Egypt</td>\n",
       "    </tr>\n",
       "    <tr>\n",
       "      <th>1</th>\n",
       "      <td>https://wuzzuf.net/a/IT-Software-Development-J...</td>\n",
       "      <td>Junior Technical Support Engineer - Upper Egypt</td>\n",
       "      <td>MigrationIT.com</td>\n",
       "      <td>Junior Technical Support Engineer - Upper Egypt</td>\n",
       "      <td>https://wuzzuf.net/jobs/p/39a68f94-611c-4a07-9...</td>\n",
       "      <td>Full Time · Entry Level · 1-2 Yrs of Exp · ITI...</td>\n",
       "      <td>Assiut, Egypt</td>\n",
       "    </tr>\n",
       "    <tr>\n",
       "      <th>2</th>\n",
       "      <td>https://wuzzuf.net/a/IT-Software-Development-J...</td>\n",
       "      <td>Software Developer</td>\n",
       "      <td>Rednet It Services</td>\n",
       "      <td>Software Developer</td>\n",
       "      <td>https://wuzzuf.net/jobs/p/7f3aec8d-1724-4f0c-9...</td>\n",
       "      <td>Full Time · Experienced · 2-3 Yrs of Exp · Sof...</td>\n",
       "      <td>Maadi, Cairo</td>\n",
       "    </tr>\n",
       "    <tr>\n",
       "      <th>3</th>\n",
       "      <td>https://wuzzuf.net/a/IT-Software-Development-J...</td>\n",
       "      <td>Senior Software Quality Control Engineer</td>\n",
       "      <td>Bnsights</td>\n",
       "      <td>Senior Software Quality Control Engineer</td>\n",
       "      <td>https://wuzzuf.net/jobs/p/bbc5d1cb-33ff-4c10-a...</td>\n",
       "      <td>Full Time · Experienced · 3-5 Yrs of Exp · Com...</td>\n",
       "      <td>New Cairo, Cairo</td>\n",
       "    </tr>\n",
       "    <tr>\n",
       "      <th>4</th>\n",
       "      <td>https://wuzzuf.net/a/IT-Software-Development-J...</td>\n",
       "      <td>Senior E-Commerce Software Developer (Magento 2)</td>\n",
       "      <td>shop4build</td>\n",
       "      <td>Senior E-Commerce Software Developer (Magento 2)</td>\n",
       "      <td>https://wuzzuf.net/jobs/p/2be88ac7-5a6c-4a5a-8...</td>\n",
       "      <td>Full Time · Part Time · Work From Home · Exper...</td>\n",
       "      <td>Maadi, Cairo</td>\n",
       "    </tr>\n",
       "  </tbody>\n",
       "</table>\n",
       "</div>"
      ],
      "text/plain": [
       "                                           #PAGE_URL  \\\n",
       "0  https://wuzzuf.net/a/IT-Software-Development-J...   \n",
       "1  https://wuzzuf.net/a/IT-Software-Development-J...   \n",
       "2  https://wuzzuf.net/a/IT-Software-Development-J...   \n",
       "3  https://wuzzuf.net/a/IT-Software-Development-J...   \n",
       "4  https://wuzzuf.net/a/IT-Software-Development-J...   \n",
       "\n",
       "                                              title           company-name  \\\n",
       "0              Sales Supervisor - North Upper Egypt  PepsiCo International   \n",
       "1   Junior Technical Support Engineer - Upper Egypt        MigrationIT.com   \n",
       "2                                Software Developer     Rednet It Services   \n",
       "3          Senior Software Quality Control Engineer               Bnsights   \n",
       "4  Senior E-Commerce Software Developer (Magento 2)             shop4build   \n",
       "\n",
       "                                           job-link  \\\n",
       "0              Sales Supervisor - North Upper Egypt   \n",
       "1   Junior Technical Support Engineer - Upper Egypt   \n",
       "2                                Software Developer   \n",
       "3          Senior Software Quality Control Engineer   \n",
       "4  Senior E-Commerce Software Developer (Magento 2)   \n",
       "\n",
       "                                       job-link_link  \\\n",
       "0  https://wuzzuf.net/jobs/p/cc5848eb-a2c4-4055-9...   \n",
       "1  https://wuzzuf.net/jobs/p/39a68f94-611c-4a07-9...   \n",
       "2  https://wuzzuf.net/jobs/p/7f3aec8d-1724-4f0c-9...   \n",
       "3  https://wuzzuf.net/jobs/p/bbc5d1cb-33ff-4c10-a...   \n",
       "4  https://wuzzuf.net/jobs/p/2be88ac7-5a6c-4a5a-8...   \n",
       "\n",
       "                                  short-description-          location  \n",
       "0  Full Time · Manager · 1-3 Yrs of Exp · FMCG · ...  Beni Suef, Egypt  \n",
       "1  Full Time · Entry Level · 1-2 Yrs of Exp · ITI...     Assiut, Egypt  \n",
       "2  Full Time · Experienced · 2-3 Yrs of Exp · Sof...      Maadi, Cairo  \n",
       "3  Full Time · Experienced · 3-5 Yrs of Exp · Com...  New Cairo, Cairo  \n",
       "4  Full Time · Part Time · Work From Home · Exper...      Maadi, Cairo  "
      ]
     },
     "execution_count": 776,
     "metadata": {},
     "output_type": "execute_result"
    }
   ],
   "source": [
    "df_20.head(5)"
   ]
  },
  {
   "cell_type": "code",
   "execution_count": 777,
   "id": "9dd882d3",
   "metadata": {},
   "outputs": [
    {
     "data": {
      "text/plain": [
       "Index(['#PAGE_URL', 'title', 'company-name', 'job-link', 'job-link_link',\n",
       "       'short-description-', 'location'],\n",
       "      dtype='object')"
      ]
     },
     "execution_count": 777,
     "metadata": {},
     "output_type": "execute_result"
    }
   ],
   "source": [
    "df_20.columns"
   ]
  },
  {
   "cell_type": "code",
   "execution_count": 778,
   "id": "5ab80eba",
   "metadata": {},
   "outputs": [
    {
     "name": "stdout",
     "output_type": "stream",
     "text": [
      "Full Time · Manager · 1-3 Yrs of Exp · FMCG · Sales · Retail · Sales Skills · Sales/Retail - October 2 \n",
      "\n",
      "Full Time · Entry Level · 1-2 Yrs of Exp · ITIL · Technical Support · Information Technology (IT) · Computer Science · Engineering · Computer Engineering · Software · Hardware - Novembe \n",
      "\n",
      "Full Time · Experienced · 2-3 Yrs of Exp · Software Development · C# · .NET · OOP · ADO.NET · SSRS · SSIS · Computer Engineering · Computer Science · Windows Forms · XML · javaScrip \n",
      "\n",
      "Full Time · Experienced · 3-5 Yrs of Exp · Computer Science · Quality Control · Information Technology (IT) · Quality Assurance · Software Testing · Testing · Software Development · ISTQB ·  \n",
      "\n",
      "Full Time · Part Time · Work From Home · Experienced · 2+ Yrs of Exp · E-Commerce · PHP · MySQL · Agile · Information Technology (IT) · Computer Science · Software · CSS · javaScript \n",
      "\n"
     ]
    }
   ],
   "source": [
    "for i in range(5):\n",
    "    print(df_20['short-description-'][i],'\\n')\n"
   ]
  },
  {
   "cell_type": "code",
   "execution_count": 779,
   "id": "e6488b48",
   "metadata": {},
   "outputs": [
    {
     "name": "stdout",
     "output_type": "stream",
     "text": [
      "<class 'pandas.core.frame.DataFrame'>\n",
      "RangeIndex: 2580 entries, 0 to 2579\n",
      "Data columns (total 7 columns):\n",
      " #   Column              Non-Null Count  Dtype \n",
      "---  ------              --------------  ----- \n",
      " 0   #PAGE_URL           2580 non-null   object\n",
      " 1   title               2580 non-null   object\n",
      " 2   company-name        2580 non-null   object\n",
      " 3   job-link            2580 non-null   object\n",
      " 4   job-link_link       2580 non-null   object\n",
      " 5   short-description-  2580 non-null   object\n",
      " 6   location            2580 non-null   object\n",
      "dtypes: object(7)\n",
      "memory usage: 141.2+ KB\n"
     ]
    }
   ],
   "source": [
    "df_20.info()"
   ]
  },
  {
   "cell_type": "code",
   "execution_count": 780,
   "id": "dd2346dc",
   "metadata": {},
   "outputs": [
    {
     "data": {
      "text/plain": [
       "#PAGE_URL             0\n",
       "title                 0\n",
       "company-name          0\n",
       "job-link              0\n",
       "job-link_link         0\n",
       "short-description-    0\n",
       "location              0\n",
       "dtype: int64"
      ]
     },
     "execution_count": 780,
     "metadata": {},
     "output_type": "execute_result"
    }
   ],
   "source": [
    "# check for null values\n",
    "df_20.isnull().sum()"
   ]
  },
  {
   "cell_type": "code",
   "execution_count": 781,
   "id": "1817a4c5",
   "metadata": {},
   "outputs": [
    {
     "data": {
      "text/plain": [
       "20"
      ]
     },
     "execution_count": 781,
     "metadata": {},
     "output_type": "execute_result"
    }
   ],
   "source": [
    "#check for duplicates\n",
    "df_20.duplicated().sum()"
   ]
  },
  {
   "cell_type": "code",
   "execution_count": 782,
   "id": "438ffb4b",
   "metadata": {},
   "outputs": [
    {
     "data": {
      "text/plain": [
       "Maadi, Cairo            439\n",
       "Cairo, Egypt            340\n",
       "Nasr City, Cairo        328\n",
       "New Cairo, Cairo        288\n",
       "Heliopolis, Cairo       144\n",
       "                       ... \n",
       "Victoria, Alexandria      1\n",
       "Dammam, Saudi Arabia      1\n",
       "Rehab City, Cairo         1\n",
       "Minya, Egypt              1\n",
       "Zagazig, Sharqia          1\n",
       "Name: location, Length: 113, dtype: int64"
      ]
     },
     "execution_count": 782,
     "metadata": {},
     "output_type": "execute_result"
    }
   ],
   "source": [
    "df_20.location.value_counts()"
   ]
  },
  {
   "cell_type": "code",
   "execution_count": 783,
   "id": "35591fad",
   "metadata": {},
   "outputs": [
    {
     "data": {
      "text/plain": [
       "                                                    277\n",
       "Ghassan Ahmed Alsulaiman for Electronic Services     21\n",
       "Cegedim                                              20\n",
       "Flairstech                                           20\n",
       "CrossWorkers                                         16\n",
       "                                                   ... \n",
       "Heliopolis University                                 1\n",
       "Concrete For Real Estate                              1\n",
       "digitex                                               1\n",
       "Ghyma for Tourism                                     1\n",
       "Zahran Market                                         1\n",
       "Name: company-name, Length: 983, dtype: int64"
      ]
     },
     "execution_count": 783,
     "metadata": {},
     "output_type": "execute_result"
    }
   ],
   "source": [
    "df_20['company-name'].value_counts()"
   ]
  },
  {
   "cell_type": "markdown",
   "id": "56a88d87",
   "metadata": {},
   "source": [
    "#### Wuzzuf 2014 - 2016 dataset"
   ]
  },
  {
   "cell_type": "code",
   "execution_count": 784,
   "id": "ca379789",
   "metadata": {},
   "outputs": [
    {
     "data": {
      "text/plain": [
       "Per Month    14548\n",
       "Per Year       107\n",
       "Per Hour        51\n",
       "Per Day         16\n",
       "Per Week         3\n",
       "Name: payment_period, dtype: int64"
      ]
     },
     "execution_count": 784,
     "metadata": {},
     "output_type": "execute_result"
    }
   ],
   "source": [
    "df_14_16.payment_period.value_counts()"
   ]
  },
  {
   "cell_type": "code",
   "execution_count": 785,
   "id": "dd3d09a0",
   "metadata": {
    "scrolled": true
   },
   "outputs": [
    {
     "data": {
      "text/html": [
       "<div>\n",
       "<style scoped>\n",
       "    .dataframe tbody tr th:only-of-type {\n",
       "        vertical-align: middle;\n",
       "    }\n",
       "\n",
       "    .dataframe tbody tr th {\n",
       "        vertical-align: top;\n",
       "    }\n",
       "\n",
       "    .dataframe thead th {\n",
       "        text-align: right;\n",
       "    }\n",
       "</style>\n",
       "<table border=\"1\" class=\"dataframe\">\n",
       "  <thead>\n",
       "    <tr style=\"text-align: right;\">\n",
       "      <th></th>\n",
       "      <th>id</th>\n",
       "      <th>city</th>\n",
       "      <th>job_title</th>\n",
       "      <th>job_category1</th>\n",
       "      <th>job_category2</th>\n",
       "      <th>job_category3</th>\n",
       "      <th>job_industry1</th>\n",
       "      <th>job_industry2</th>\n",
       "      <th>job_industry3</th>\n",
       "      <th>salary_minimum</th>\n",
       "      <th>salary_maximum</th>\n",
       "      <th>num_vacancies</th>\n",
       "      <th>career_level</th>\n",
       "      <th>experience_years</th>\n",
       "      <th>post_date</th>\n",
       "      <th>views</th>\n",
       "      <th>job_description</th>\n",
       "      <th>job_requirements</th>\n",
       "      <th>payment_period</th>\n",
       "      <th>currency</th>\n",
       "    </tr>\n",
       "  </thead>\n",
       "  <tbody>\n",
       "    <tr>\n",
       "      <th>1</th>\n",
       "      <td>a361ef59</td>\n",
       "      <td>Cairo</td>\n",
       "      <td>German Training Coordinator</td>\n",
       "      <td>Customer Service/Support</td>\n",
       "      <td>Administration</td>\n",
       "      <td>Human Resources</td>\n",
       "      <td>Translation and Localization</td>\n",
       "      <td>Business Services - Other</td>\n",
       "      <td>Education</td>\n",
       "      <td>1000.0</td>\n",
       "      <td>5000.0</td>\n",
       "      <td>8.0</td>\n",
       "      <td>Entry Level</td>\n",
       "      <td>0-2</td>\n",
       "      <td>2014-01-01 20:01:00</td>\n",
       "      <td>2213.0</td>\n",
       "      <td>&lt;p&gt;&amp;bull;Placing jobs' ads on various websites...</td>\n",
       "      <td>NaN</td>\n",
       "      <td>Per Month</td>\n",
       "      <td>Egyptian Pound</td>\n",
       "    </tr>\n",
       "    <tr>\n",
       "      <th>2</th>\n",
       "      <td>7226ce78</td>\n",
       "      <td>Cairo</td>\n",
       "      <td>Junior Software Developer</td>\n",
       "      <td>IT/Software Development</td>\n",
       "      <td>Select</td>\n",
       "      <td>Select</td>\n",
       "      <td>Computer Software</td>\n",
       "      <td>Select</td>\n",
       "      <td>Select</td>\n",
       "      <td>2000.0</td>\n",
       "      <td>2500.0</td>\n",
       "      <td>1.0</td>\n",
       "      <td>Entry Level</td>\n",
       "      <td>2</td>\n",
       "      <td>2014-01-02 11:01:00</td>\n",
       "      <td>2940.0</td>\n",
       "      <td>&lt;span style=\"text-decoration: underline;\"&gt;&lt;str...</td>\n",
       "      <td>NaN</td>\n",
       "      <td>Per Month</td>\n",
       "      <td>Egyptian Pound</td>\n",
       "    </tr>\n",
       "    <tr>\n",
       "      <th>3</th>\n",
       "      <td>f4b2bcd6</td>\n",
       "      <td>Cairo</td>\n",
       "      <td>Application Support Engineer</td>\n",
       "      <td>IT/Software Development</td>\n",
       "      <td>Select</td>\n",
       "      <td>Select</td>\n",
       "      <td>Telecommunications Services</td>\n",
       "      <td>Select</td>\n",
       "      <td>Select</td>\n",
       "      <td>2000.0</td>\n",
       "      <td>3500.0</td>\n",
       "      <td>1.0</td>\n",
       "      <td>Entry Level</td>\n",
       "      <td>2-Jan</td>\n",
       "      <td>2014-01-02 12:01:00</td>\n",
       "      <td>2042.0</td>\n",
       "      <td>&lt;strong&gt;&lt;span style=\"text-decoration: underlin...</td>\n",
       "      <td>NaN</td>\n",
       "      <td>Per Month</td>\n",
       "      <td>Egyptian Pound</td>\n",
       "    </tr>\n",
       "    <tr>\n",
       "      <th>4</th>\n",
       "      <td>3fee6f73</td>\n",
       "      <td>Alexandria</td>\n",
       "      <td>Electrical Maintenance Engineer</td>\n",
       "      <td>Engineering</td>\n",
       "      <td>Select</td>\n",
       "      <td>Select</td>\n",
       "      <td>Food and Beverage Production</td>\n",
       "      <td>Select</td>\n",
       "      <td>Select</td>\n",
       "      <td>5000.0</td>\n",
       "      <td>8000.0</td>\n",
       "      <td>1.0</td>\n",
       "      <td>Experienced (Non-Manager)</td>\n",
       "      <td>3-Jan</td>\n",
       "      <td>2014-01-21 13:45:00</td>\n",
       "      <td>5684.0</td>\n",
       "      <td>Job Title: Electrical Maintenance Engineer&lt;br ...</td>\n",
       "      <td>NaN</td>\n",
       "      <td>Per Month</td>\n",
       "      <td>Egyptian Pound</td>\n",
       "    </tr>\n",
       "    <tr>\n",
       "      <th>5</th>\n",
       "      <td>22eb5fcb</td>\n",
       "      <td>Cairo</td>\n",
       "      <td>IT Adminstrator</td>\n",
       "      <td>IT/Software Development</td>\n",
       "      <td>Select</td>\n",
       "      <td>Select</td>\n",
       "      <td>Retail</td>\n",
       "      <td>Select</td>\n",
       "      <td>Select</td>\n",
       "      <td>3000.0</td>\n",
       "      <td>5000.0</td>\n",
       "      <td>1.0</td>\n",
       "      <td>Manager</td>\n",
       "      <td>5-Mar</td>\n",
       "      <td>2014-01-02 17:00:00</td>\n",
       "      <td>1644.0</td>\n",
       "      <td>&amp;bull; Maintain the IT Retail Management Syste...</td>\n",
       "      <td>NaN</td>\n",
       "      <td>Per Month</td>\n",
       "      <td>Egyptian Pound</td>\n",
       "    </tr>\n",
       "  </tbody>\n",
       "</table>\n",
       "</div>"
      ],
      "text/plain": [
       "         id        city                        job_title  \\\n",
       "1  a361ef59       Cairo     German Training Coordinator    \n",
       "2  7226ce78       Cairo       Junior Software Developer    \n",
       "3  f4b2bcd6       Cairo     Application Support Engineer   \n",
       "4  3fee6f73  Alexandria  Electrical Maintenance Engineer   \n",
       "5  22eb5fcb       Cairo                  IT Adminstrator   \n",
       "\n",
       "              job_category1   job_category2    job_category3  \\\n",
       "1  Customer Service/Support  Administration  Human Resources   \n",
       "2   IT/Software Development          Select           Select   \n",
       "3   IT/Software Development          Select           Select   \n",
       "4               Engineering          Select           Select   \n",
       "5   IT/Software Development          Select           Select   \n",
       "\n",
       "                     job_industry1              job_industry2 job_industry3  \\\n",
       "1  Translation and Localization     Business Services - Other     Education   \n",
       "2                Computer Software                     Select        Select   \n",
       "3      Telecommunications Services                     Select        Select   \n",
       "4     Food and Beverage Production                     Select        Select   \n",
       "5                           Retail                     Select        Select   \n",
       "\n",
       "   salary_minimum  salary_maximum  num_vacancies               career_level  \\\n",
       "1          1000.0          5000.0            8.0                Entry Level   \n",
       "2          2000.0          2500.0            1.0                Entry Level   \n",
       "3          2000.0          3500.0            1.0                Entry Level   \n",
       "4          5000.0          8000.0            1.0  Experienced (Non-Manager)   \n",
       "5          3000.0          5000.0            1.0                    Manager   \n",
       "\n",
       "  experience_years           post_date   views  \\\n",
       "1              0-2 2014-01-01 20:01:00  2213.0   \n",
       "2                2 2014-01-02 11:01:00  2940.0   \n",
       "3            2-Jan 2014-01-02 12:01:00  2042.0   \n",
       "4            3-Jan 2014-01-21 13:45:00  5684.0   \n",
       "5            5-Mar 2014-01-02 17:00:00  1644.0   \n",
       "\n",
       "                                     job_description job_requirements  \\\n",
       "1  <p>&bull;Placing jobs' ads on various websites...              NaN   \n",
       "2  <span style=\"text-decoration: underline;\"><str...              NaN   \n",
       "3  <strong><span style=\"text-decoration: underlin...              NaN   \n",
       "4  Job Title: Electrical Maintenance Engineer<br ...              NaN   \n",
       "5  &bull; Maintain the IT Retail Management Syste...              NaN   \n",
       "\n",
       "  payment_period        currency  \n",
       "1      Per Month  Egyptian Pound  \n",
       "2      Per Month  Egyptian Pound  \n",
       "3      Per Month  Egyptian Pound  \n",
       "4      Per Month  Egyptian Pound  \n",
       "5      Per Month  Egyptian Pound  "
      ]
     },
     "execution_count": 785,
     "metadata": {},
     "output_type": "execute_result"
    }
   ],
   "source": [
    "df_14_16.drop(0,inplace=True)\n",
    "df_14_16.head(5)\n"
   ]
  },
  {
   "cell_type": "code",
   "execution_count": 786,
   "id": "0c91d485",
   "metadata": {},
   "outputs": [
    {
     "name": "stdout",
     "output_type": "stream",
     "text": [
      "<class 'pandas.core.frame.DataFrame'>\n",
      "Int64Index: 21921 entries, 1 to 21921\n",
      "Data columns (total 20 columns):\n",
      " #   Column            Non-Null Count  Dtype         \n",
      "---  ------            --------------  -----         \n",
      " 0   id                14799 non-null  object        \n",
      " 1   city              14732 non-null  object        \n",
      " 2   job_title         14731 non-null  object        \n",
      " 3   job_category1     14731 non-null  object        \n",
      " 4   job_category2     14730 non-null  object        \n",
      " 5   job_category3     14730 non-null  object        \n",
      " 6   job_industry1     14730 non-null  object        \n",
      " 7   job_industry2     14730 non-null  object        \n",
      " 8   job_industry3     14730 non-null  object        \n",
      " 9   salary_minimum    14730 non-null  float64       \n",
      " 10  salary_maximum    14730 non-null  float64       \n",
      " 11  num_vacancies     14730 non-null  float64       \n",
      " 12  career_level      14730 non-null  object        \n",
      " 13  experience_years  14730 non-null  object        \n",
      " 14  post_date         14730 non-null  datetime64[ns]\n",
      " 15  views             14730 non-null  float64       \n",
      " 16  job_description   14540 non-null  object        \n",
      " 17  job_requirements  12922 non-null  object        \n",
      " 18  payment_period    14725 non-null  object        \n",
      " 19  currency          14725 non-null  object        \n",
      "dtypes: datetime64[ns](1), float64(4), object(15)\n",
      "memory usage: 3.5+ MB\n"
     ]
    }
   ],
   "source": [
    "df_14_16.info()"
   ]
  },
  {
   "cell_type": "code",
   "execution_count": 787,
   "id": "a90d1493",
   "metadata": {},
   "outputs": [
    {
     "data": {
      "text/plain": [
       "id                  7122\n",
       "city                7189\n",
       "job_title           7190\n",
       "job_category1       7190\n",
       "job_category2       7191\n",
       "job_category3       7191\n",
       "job_industry1       7191\n",
       "job_industry2       7191\n",
       "job_industry3       7191\n",
       "salary_minimum      7191\n",
       "salary_maximum      7191\n",
       "num_vacancies       7191\n",
       "career_level        7191\n",
       "experience_years    7191\n",
       "post_date           7191\n",
       "views               7191\n",
       "job_description     7381\n",
       "job_requirements    8999\n",
       "payment_period      7196\n",
       "currency            7196\n",
       "dtype: int64"
      ]
     },
     "execution_count": 787,
     "metadata": {},
     "output_type": "execute_result"
    }
   ],
   "source": [
    "# check for null values\n",
    "df_14_16.isnull().sum()"
   ]
  },
  {
   "cell_type": "code",
   "execution_count": 788,
   "id": "dd7fcc47",
   "metadata": {},
   "outputs": [
    {
     "data": {
      "text/plain": [
       "7132"
      ]
     },
     "execution_count": 788,
     "metadata": {},
     "output_type": "execute_result"
    }
   ],
   "source": [
    "#check for duplicates\n",
    "df_14_16.duplicated().sum()"
   ]
  },
  {
   "cell_type": "code",
   "execution_count": 789,
   "id": "503312b8",
   "metadata": {},
   "outputs": [
    {
     "data": {
      "text/plain": [
       "Index(['id', 'city', 'job_title', 'job_category1', 'job_category2',\n",
       "       'job_category3', 'job_industry1', 'job_industry2', 'job_industry3',\n",
       "       'salary_minimum', 'salary_maximum', 'num_vacancies', 'career_level',\n",
       "       'experience_years', 'post_date', 'views', 'job_description',\n",
       "       'job_requirements', 'payment_period', 'currency'],\n",
       "      dtype='object')"
      ]
     },
     "execution_count": 789,
     "metadata": {},
     "output_type": "execute_result"
    }
   ],
   "source": [
    "df_14_16.columns"
   ]
  },
  {
   "cell_type": "code",
   "execution_count": 790,
   "id": "a61228ed",
   "metadata": {
    "scrolled": true
   },
   "outputs": [
    {
     "name": "stdout",
     "output_type": "stream",
     "text": [
      "<p>&bull;Placing jobs' ads on various websites for the purpose of creating a big pool of candidates<br />&bull;Handling CV&rsquo;s whether electronic or hard copy from receipt to short listing and filing.<br />&bull;Generating a pool of qualified candidates, according to customer requirements.<br />&bull;Following up with both clients and short listed candidates till the end of the recruitment process<br />&bull;Keeping social media means up to date (Face book, website)<br />&bull;Updating recruitment system to make searching for the right candidate easier<br />&bull;Maintaining and updating all recruitment contracts and invoices filing<br />&bull;Maintains Employee Handbook with updated resolutions and other pertinent information, as needed.<br />&bull;Assisting the admin and personnel department when necessary<br />&bull;Self motivated and willing to learn and grow<br />&bull;Business oriented, achiever with proven track record<br />&bull;Ability to learn new tasks quickly, creativity, Presentable<br />&bull;Ability to work under pressure<br />&bull;Ability to work individually or as an active team member<br />&bull;Ability to build excellent relations.</p>_x000D_\n",
      "<p><strong>Job Qualification:</strong></p>_x000D_\n",
      "<ul>_x000D_\n",
      "<li>BACHELOR DEGREE is MUST</li>_x000D_\n",
      "<li>Fresh graduates max in last 2 years</li>_x000D_\n",
      "<li>Good in ENGLISH written &amp; speaking</li>_x000D_\n",
      "<li>Very good GERMAN language written &amp; speaking</li>_x000D_\n",
      "</ul>_x000D_\n",
      "<p>&nbsp;</p> \n",
      "\n",
      "<span style=\"text-decoration: underline;\"><strong>1. JOB SUMMARY<br /><br /></strong></span>_x000D_\n",
      "<p>&bull; Software developers are the brains behind the development, design, installation, testing and maintenance of software codes, systems and programs.<br />&bull; As software codes, has an important part in making a business more efficient and helping to provide a better IT service.<br />&bull; He/she might be responsible for the replacement of a whole system based on the specifications provided by an IT analyst, in addition to modifying it and integrating it into the existing network.<br />&bull; The code should be created to link the systems together.<br /><br /><span style=\"text-decoration: underline;\"><strong>2. SKILLS REQUIRED<br /><br /></strong></span></p>_x000D_\n",
      "<p>&bull; Has the ability to interpret and follow technical plans.<br />&bull; Creative approach to problem solving.<br />&bull; Has the ability to work with people at all levels, including non-technical staff.<br />&bull; He has the ability to work under pressure and meet deadlines.<br />&bull; An understanding of confidentiality and data protection issues.<br />&bull; Ability to solve problems quickly and completely.<br />&bull; Good communications skills.<br />&bull; Team-working skills.<br />&bull; An appreciation of the bigger business picture, not just its IT requirements.<br />&bull; Analytical and commercial experience.<br />&bull; Any organizational skills.<br /><br /><br /><span style=\"text-decoration: underline;\"><strong>3.JOB DUTIES AND RESPONSIBILITIES<br /><br /></strong></span></p>_x000D_\n",
      "<p>&bull; Develop programming systems making specific determinations about system performance.<br />&bull; Review and repair legacy code.<br />&bull; Expected to conduct system analysis and development, with limited support from professional staff, to keep our systems current with changing technologies.<br />&bull; Research and recommend software tools to management.<br />&bull; Review, to the extent possible, changes in code and the environment that will affect system performance.<br />&bull; Provide recommendations to management concerning issues of programmer productivity and software development management.<br /><br /><br /><span style=\"text-decoration: underline;\"><strong>4. EDUCATIONS AND EXPERIENCE<br /><br /></strong></span></p>_x000D_\n",
      "<p>&bull; Graduated from the faculty of Engineering - Computer Science Section.<br />&bull; Good Knowledge of Multi-threading &amp; Parallel programming<br />&bull; Deep understanding of the .Net Framework (3.5, 4 and 4.5) and related technologies<br />&bull; Has very good knowledge in Database development skills (SQL, Oracle).<br />&bull; Object-oriented analysis, design and development<br />&bull; Has very good skills with:<br />&bull; C++<br />&bull; C#<br />&bull; UML<br />&bull; .NET<br />&bull; Ajax<br />&bull; LINQ<br />&bull; WPF<br />&bull; MVVM<br />&bull; WCF<br />&bull; ADO Entity Framework<br />&bull; Design Patterns<br />&bull; Dependency Injection<br />Web service</p> \n",
      "\n"
     ]
    }
   ],
   "source": [
    "for i in range(1,3):\n",
    "    print(df_14_16['job_description'][i],'\\n')"
   ]
  },
  {
   "cell_type": "code",
   "execution_count": 791,
   "id": "01e81483",
   "metadata": {
    "scrolled": true
   },
   "outputs": [
    {
     "name": "stdout",
     "output_type": "stream",
     "text": [
      "Translation and Localization   \n",
      "Business Services - Other\n",
      "Education \n",
      "\n",
      "Computer Software\n",
      "Select\n",
      "Select \n",
      "\n",
      "Telecommunications Services\n",
      "Select\n",
      "Select \n",
      "\n",
      "Food and Beverage Production\n",
      "Select\n",
      "Select \n",
      "\n",
      "Retail\n",
      "Select\n",
      "Select \n",
      "\n",
      "Computer Software\n",
      "Select\n",
      "Select \n",
      "\n",
      "Chemicals/Petro-Chemicals\n",
      "Oil and Energy   \n",
      "Select \n",
      "\n",
      "Computer Software\n",
      "Information Technology Services   \n",
      "Select \n",
      "\n",
      "Chemicals/Petro-Chemicals\n",
      "Select\n",
      "Select \n",
      "\n"
     ]
    }
   ],
   "source": [
    "for i in range(1,10):\n",
    "    print(df_14_16['job_industry1'][i])\n",
    "    print(df_14_16['job_industry2'][i])\n",
    "    print(df_14_16['job_industry3'][i],'\\n')\n",
    "\n"
   ]
  },
  {
   "cell_type": "code",
   "execution_count": 792,
   "id": "a0408b62",
   "metadata": {
    "scrolled": true
   },
   "outputs": [
    {
     "name": "stdout",
     "output_type": "stream",
     "text": [
      "Customer Service/Support\n",
      "Administration\n",
      "Human Resources \n",
      "\n",
      "IT/Software Development\n",
      "Select\n",
      "Select \n",
      "\n",
      "IT/Software Development\n",
      "Select\n",
      "Select \n",
      "\n",
      "Engineering\n",
      "Select\n",
      "Select \n",
      "\n",
      "IT/Software Development\n",
      "Select\n",
      "Select \n",
      "\n",
      "IT/Software Development\n",
      "Select\n",
      "Select \n",
      "\n",
      "Engineering\n",
      "Select\n",
      "Select \n",
      "\n",
      "IT/Software Development\n",
      "Engineering\n",
      "Select \n",
      "\n",
      "Engineering\n",
      "Select\n",
      "Select \n",
      "\n"
     ]
    }
   ],
   "source": [
    "for i in range(1,10):\n",
    "    print(df_14_16['job_category1'][i])\n",
    "    print(df_14_16['job_category2'][i])\n",
    "    print(df_14_16['job_category3'][i],'\\n')\n",
    "\n"
   ]
  },
  {
   "cell_type": "code",
   "execution_count": 793,
   "id": "9ac97fb3",
   "metadata": {},
   "outputs": [
    {
     "data": {
      "text/plain": [
       "Cairo                                          10034\n",
       "Giza                                            2593\n",
       "Alexandria                                       719\n",
       "Mansoura                                          70\n",
       "10th of Ramadan                                   68\n",
       "                                               ...  \n",
       "Matrouh & ÙAlexandar                              1\n",
       "Sadat Industrial City, Monufia Governorate.        1\n",
       "Ismailia ,Mansoura                                 1\n",
       "giza mohandseen                                    1\n",
       "Cairo or Alexandria or any                         1\n",
       "Name: city, Length: 355, dtype: int64"
      ]
     },
     "execution_count": 793,
     "metadata": {},
     "output_type": "execute_result"
    }
   ],
   "source": [
    "df_14_16.city.value_counts()"
   ]
  },
  {
   "cell_type": "code",
   "execution_count": 794,
   "id": "c4f77f32",
   "metadata": {},
   "outputs": [
    {
     "data": {
      "text/plain": [
       "Graphic Designer                                       363\n",
       "Web Developer                                          146\n",
       "PHP Developer                                          127\n",
       "Web Designer                                           127\n",
       "Senior PHP Developer                                    94\n",
       "                                                      ... \n",
       "Field Application Engineer                               1\n",
       "C# Software Engineer                                     1\n",
       "Technical Support Engineer - Electrical Engineering      1\n",
       "IT/Software                                              1\n",
       "Quality Control Engineer (Alexandria)                    1\n",
       "Name: job_title, Length: 7365, dtype: int64"
      ]
     },
     "execution_count": 794,
     "metadata": {},
     "output_type": "execute_result"
    }
   ],
   "source": [
    "df_14_16.job_title.value_counts()"
   ]
  },
  {
   "cell_type": "code",
   "execution_count": 795,
   "id": "c7971dde",
   "metadata": {},
   "outputs": [
    {
     "data": {
      "text/plain": [
       "IT/Software Development                 5557\n",
       "Engineering                             2753\n",
       "Creative/Design                         1576\n",
       "Customer Service/Support                1043\n",
       "Marketing                                655\n",
       "Quality Assurance/Quality Control        471\n",
       "Editorial/Writing                        414\n",
       "Administration                           358\n",
       "Project/Program Management               260\n",
       "Sales/Retail/Business Development        258\n",
       "Installation/Maintenance/Repair          230\n",
       "Manufacturing/Production/Operations      180\n",
       "Education/Training                       143\n",
       "Medical                                   93\n",
       "Biotech/R&D/Science                       85\n",
       "Pharmaceutical                            80\n",
       "Research                                  79\n",
       "Logistics/Transportation                  64\n",
       "Building Construction/Skilled Trades      62\n",
       "Management                                61\n",
       "Business                                  55\n",
       "Media/Journalism/Publishing               55\n",
       "Tourism/Travel                            49\n",
       "Food Services/Hospitality                 42\n",
       "Accounting/Finance/Insurance              39\n",
       "Human Resources                           23\n",
       "Banking                                   21\n",
       "Sports and Leisure                        10\n",
       "Fashion                                   10\n",
       "Legal                                      4\n",
       "Egyptian Pound                             1\n",
       "Name: job_category1, dtype: int64"
      ]
     },
     "execution_count": 795,
     "metadata": {},
     "output_type": "execute_result"
    }
   ],
   "source": [
    "df_14_16.job_category1.value_counts()"
   ]
  },
  {
   "cell_type": "code",
   "execution_count": 796,
   "id": "b3d59916",
   "metadata": {},
   "outputs": [
    {
     "data": {
      "text/plain": [
       "Select                             7489\n",
       "Engineering                        1201\n",
       "IT/Software Development             819\n",
       "Installation/Maintenance/Repair     812\n",
       "Creative/Design                     503\n",
       "Name: job_category2, dtype: int64"
      ]
     },
     "execution_count": 796,
     "metadata": {},
     "output_type": "execute_result"
    }
   ],
   "source": [
    "df_14_16.job_category2.value_counts().head(5)"
   ]
  },
  {
   "cell_type": "code",
   "execution_count": 797,
   "id": "a4303c27",
   "metadata": {},
   "outputs": [
    {
     "data": {
      "text/plain": [
       "Select                             12760\n",
       "Engineering                          249\n",
       "Customer Service/Support             146\n",
       "IT/Software Development              139\n",
       "Installation/Maintenance/Repair      136\n",
       "Name: job_category3, dtype: int64"
      ]
     },
     "execution_count": 797,
     "metadata": {},
     "output_type": "execute_result"
    }
   ],
   "source": [
    "df_14_16.job_category3.value_counts().head(5)"
   ]
  },
  {
   "cell_type": "code",
   "execution_count": 798,
   "id": "7029ec7f",
   "metadata": {},
   "outputs": [
    {
     "data": {
      "text/plain": [
       "Computer Software                     2509\n",
       "Information Technology Services       1652\n",
       "Computer/IT Services                   811\n",
       "Advertising and PR Services            618\n",
       "Engineering Services                   498\n",
       "                                      ... \n",
       "Public Policy                            1\n",
       "Waste Management                         1\n",
       "Music                                    1\n",
       "Religious Institutions                   1\n",
       "Select                                   1\n",
       "Name: job_industry1, Length: 112, dtype: int64"
      ]
     },
     "execution_count": 798,
     "metadata": {},
     "output_type": "execute_result"
    }
   ],
   "source": [
    "df_14_16.job_industry1.value_counts()"
   ]
  },
  {
   "cell_type": "code",
   "execution_count": 799,
   "id": "0df488ba",
   "metadata": {},
   "outputs": [
    {
     "data": {
      "text/plain": [
       "Select                                8605\n",
       "Computer/IT Services                   764\n",
       "Computer Software                      738\n",
       "Information Technology Services        503\n",
       "Engineering Services                   309\n",
       "Name: job_industry2, dtype: int64"
      ]
     },
     "execution_count": 799,
     "metadata": {},
     "output_type": "execute_result"
    }
   ],
   "source": [
    "df_14_16.job_industry2.value_counts().head()"
   ]
  },
  {
   "cell_type": "code",
   "execution_count": 800,
   "id": "4c55758a",
   "metadata": {},
   "outputs": [
    {
     "data": {
      "text/plain": [
       "Select                                12032\n",
       "Information Technology Services         307\n",
       "Computer/IT Services                    296\n",
       "Computer Software                       161\n",
       "Engineering Services                    141\n",
       "Name: job_industry3, dtype: int64"
      ]
     },
     "execution_count": 800,
     "metadata": {},
     "output_type": "execute_result"
    }
   ],
   "source": [
    "df_14_16.job_industry3.value_counts().head()"
   ]
  },
  {
   "cell_type": "code",
   "execution_count": 801,
   "id": "23439665",
   "metadata": {},
   "outputs": [
    {
     "data": {
      "text/plain": [
       "1.0    8889\n",
       "2.0    2573\n",
       "3.0    1119\n",
       "5.0     604\n",
       "8.0     520\n",
       "Name: num_vacancies, dtype: int64"
      ]
     },
     "execution_count": 801,
     "metadata": {},
     "output_type": "execute_result"
    }
   ],
   "source": [
    "df_14_16.num_vacancies.value_counts().head()"
   ]
  },
  {
   "cell_type": "code",
   "execution_count": 802,
   "id": "4ea98cf7",
   "metadata": {},
   "outputs": [
    {
     "data": {
      "text/plain": [
       "Experienced (Non-Manager)           9718\n",
       "Entry Level                         3627\n",
       "Manager                             1197\n",
       "Student                              132\n",
       "Senior Management (e.g. VP, CEO)      56\n",
       "Name: career_level, dtype: int64"
      ]
     },
     "execution_count": 802,
     "metadata": {},
     "output_type": "execute_result"
    }
   ],
   "source": [
    "df_14_16.career_level.value_counts().head()"
   ]
  },
  {
   "cell_type": "code",
   "execution_count": 803,
   "id": "a7889fb7",
   "metadata": {},
   "outputs": [
    {
     "data": {
      "text/plain": [
       "Egyptian Pound          14414\n",
       "United States Dollar      218\n",
       "Saudi Arabian Riyal        57\n",
       "U.A. Emirates Dirham       11\n",
       "Euro                        8\n",
       "Name: currency, dtype: int64"
      ]
     },
     "execution_count": 803,
     "metadata": {},
     "output_type": "execute_result"
    }
   ],
   "source": [
    "df_14_16.currency.value_counts().head()"
   ]
  },
  {
   "cell_type": "markdown",
   "id": "266f2755",
   "metadata": {},
   "source": [
    "## Assessing Results"
   ]
  },
  {
   "cell_type": "markdown",
   "id": "e1ebc96d",
   "metadata": {},
   "source": [
    "##### `IT and Software jobs 2021` dataset\n",
    "\n",
    "- We need to rename some columns\n",
    "\n",
    "- Discription column and title column will be divided to several columns\n",
    "\n",
    "- some columns needed to be removed\n",
    "\n",
    "- some companies hide their names \n",
    "\n",
    "- we need to add a column for the post year"
   ]
  },
  {
   "cell_type": "markdown",
   "id": "fec42760",
   "metadata": {},
   "source": [
    "##### `IT and Software jobs 2020` dataset\n",
    "\n",
    "- We need to rename some columns\n",
    "\n",
    "- Discription column and title column will be divided to several columns\n",
    "\n",
    "- some columns needed to be removed\n",
    "\n",
    "- some companies hide their names \n",
    "\n",
    "- we need to add a column for the post year"
   ]
  },
  {
   "cell_type": "markdown",
   "id": "1fedafc0",
   "metadata": {},
   "source": [
    "##### `IT and Software jobs 2014 -2016` dataset\n",
    "\n",
    "- There are a lot of null values \n",
    "\n",
    "- There are a lot of duplicates\n",
    "\n",
    "- in  job_category 2 and 3 and job_industry 2 and 3 most of the inputs are the word 'Select'\n",
    "\n",
    "- we need to remove HTML tags from job description and job requirements data \n",
    "\n",
    "- some columns need to be removed\n",
    "\n",
    "- experience must be an integer\n",
    "\n",
    "- some minimum and maximum salaries containes are zeros or needed to be fixed\n",
    "\n",
    "- some job titles are arabic words or not encoded well\n",
    "\n",
    "- some columns data have arabic words or not encoded well\n"
   ]
  },
  {
   "cell_type": "markdown",
   "id": "40dc5454",
   "metadata": {},
   "source": [
    "# Cleaning"
   ]
  },
  {
   "cell_type": "markdown",
   "id": "fc467c5b",
   "metadata": {},
   "source": [
    "##### `IT and Software jobs 2014 -2016` dataset\n",
    "\n",
    "- There are a lot of null values \n",
    "\n",
    "- There are a lot of duplicates\n",
    "\n",
    "- in  job_category 2 and 3 and job_industry 2 and 3 most of the inputs are the word 'Select'\n",
    "\n",
    "- we need to remove HTML tags from job description and job requirements data \n",
    "\n",
    "- some columns need to be removed\n",
    "\n",
    "- experience must be an integer\n",
    "\n",
    "- some minimum and maximum salaries containes are zeros or needed to be fixed\n",
    "\n",
    "- some job titles are arabic words or not encoded well\n",
    "\n",
    "- some columns data have arabic words or not encoded well"
   ]
  },
  {
   "cell_type": "code",
   "execution_count": 804,
   "id": "b829e5f3",
   "metadata": {},
   "outputs": [
    {
     "data": {
      "text/html": [
       "<div>\n",
       "<style scoped>\n",
       "    .dataframe tbody tr th:only-of-type {\n",
       "        vertical-align: middle;\n",
       "    }\n",
       "\n",
       "    .dataframe tbody tr th {\n",
       "        vertical-align: top;\n",
       "    }\n",
       "\n",
       "    .dataframe thead th {\n",
       "        text-align: right;\n",
       "    }\n",
       "</style>\n",
       "<table border=\"1\" class=\"dataframe\">\n",
       "  <thead>\n",
       "    <tr style=\"text-align: right;\">\n",
       "      <th></th>\n",
       "      <th>id</th>\n",
       "      <th>city</th>\n",
       "      <th>job_title</th>\n",
       "      <th>job_category1</th>\n",
       "      <th>job_category2</th>\n",
       "      <th>job_category3</th>\n",
       "      <th>job_industry1</th>\n",
       "      <th>job_industry2</th>\n",
       "      <th>job_industry3</th>\n",
       "      <th>salary_minimum</th>\n",
       "      <th>salary_maximum</th>\n",
       "      <th>num_vacancies</th>\n",
       "      <th>career_level</th>\n",
       "      <th>experience_years</th>\n",
       "      <th>post_date</th>\n",
       "      <th>views</th>\n",
       "      <th>job_description</th>\n",
       "      <th>job_requirements</th>\n",
       "      <th>payment_period</th>\n",
       "      <th>currency</th>\n",
       "    </tr>\n",
       "  </thead>\n",
       "  <tbody>\n",
       "    <tr>\n",
       "      <th>1</th>\n",
       "      <td>a361ef59</td>\n",
       "      <td>Cairo</td>\n",
       "      <td>German Training Coordinator</td>\n",
       "      <td>Customer Service/Support</td>\n",
       "      <td>Administration</td>\n",
       "      <td>Human Resources</td>\n",
       "      <td>Translation and Localization</td>\n",
       "      <td>Business Services - Other</td>\n",
       "      <td>Education</td>\n",
       "      <td>1000.0</td>\n",
       "      <td>5000.0</td>\n",
       "      <td>8.0</td>\n",
       "      <td>Entry Level</td>\n",
       "      <td>0-2</td>\n",
       "      <td>2014-01-01 20:01:00</td>\n",
       "      <td>2213.0</td>\n",
       "      <td>&lt;p&gt;&amp;bull;Placing jobs' ads on various websites...</td>\n",
       "      <td>NaN</td>\n",
       "      <td>Per Month</td>\n",
       "      <td>Egyptian Pound</td>\n",
       "    </tr>\n",
       "    <tr>\n",
       "      <th>2</th>\n",
       "      <td>7226ce78</td>\n",
       "      <td>Cairo</td>\n",
       "      <td>Junior Software Developer</td>\n",
       "      <td>IT/Software Development</td>\n",
       "      <td>Select</td>\n",
       "      <td>Select</td>\n",
       "      <td>Computer Software</td>\n",
       "      <td>Select</td>\n",
       "      <td>Select</td>\n",
       "      <td>2000.0</td>\n",
       "      <td>2500.0</td>\n",
       "      <td>1.0</td>\n",
       "      <td>Entry Level</td>\n",
       "      <td>2</td>\n",
       "      <td>2014-01-02 11:01:00</td>\n",
       "      <td>2940.0</td>\n",
       "      <td>&lt;span style=\"text-decoration: underline;\"&gt;&lt;str...</td>\n",
       "      <td>NaN</td>\n",
       "      <td>Per Month</td>\n",
       "      <td>Egyptian Pound</td>\n",
       "    </tr>\n",
       "    <tr>\n",
       "      <th>3</th>\n",
       "      <td>f4b2bcd6</td>\n",
       "      <td>Cairo</td>\n",
       "      <td>Application Support Engineer</td>\n",
       "      <td>IT/Software Development</td>\n",
       "      <td>Select</td>\n",
       "      <td>Select</td>\n",
       "      <td>Telecommunications Services</td>\n",
       "      <td>Select</td>\n",
       "      <td>Select</td>\n",
       "      <td>2000.0</td>\n",
       "      <td>3500.0</td>\n",
       "      <td>1.0</td>\n",
       "      <td>Entry Level</td>\n",
       "      <td>2-Jan</td>\n",
       "      <td>2014-01-02 12:01:00</td>\n",
       "      <td>2042.0</td>\n",
       "      <td>&lt;strong&gt;&lt;span style=\"text-decoration: underlin...</td>\n",
       "      <td>NaN</td>\n",
       "      <td>Per Month</td>\n",
       "      <td>Egyptian Pound</td>\n",
       "    </tr>\n",
       "  </tbody>\n",
       "</table>\n",
       "</div>"
      ],
      "text/plain": [
       "         id   city                     job_title             job_category1  \\\n",
       "1  a361ef59  Cairo  German Training Coordinator   Customer Service/Support   \n",
       "2  7226ce78  Cairo    Junior Software Developer    IT/Software Development   \n",
       "3  f4b2bcd6  Cairo  Application Support Engineer   IT/Software Development   \n",
       "\n",
       "    job_category2    job_category3                    job_industry1  \\\n",
       "1  Administration  Human Resources  Translation and Localization      \n",
       "2          Select           Select                Computer Software   \n",
       "3          Select           Select      Telecommunications Services   \n",
       "\n",
       "               job_industry2 job_industry3  salary_minimum  salary_maximum  \\\n",
       "1  Business Services - Other     Education          1000.0          5000.0   \n",
       "2                     Select        Select          2000.0          2500.0   \n",
       "3                     Select        Select          2000.0          3500.0   \n",
       "\n",
       "   num_vacancies career_level experience_years           post_date   views  \\\n",
       "1            8.0  Entry Level              0-2 2014-01-01 20:01:00  2213.0   \n",
       "2            1.0  Entry Level                2 2014-01-02 11:01:00  2940.0   \n",
       "3            1.0  Entry Level            2-Jan 2014-01-02 12:01:00  2042.0   \n",
       "\n",
       "                                     job_description job_requirements  \\\n",
       "1  <p>&bull;Placing jobs' ads on various websites...              NaN   \n",
       "2  <span style=\"text-decoration: underline;\"><str...              NaN   \n",
       "3  <strong><span style=\"text-decoration: underlin...              NaN   \n",
       "\n",
       "  payment_period        currency  \n",
       "1      Per Month  Egyptian Pound  \n",
       "2      Per Month  Egyptian Pound  \n",
       "3      Per Month  Egyptian Pound  "
      ]
     },
     "execution_count": 804,
     "metadata": {},
     "output_type": "execute_result"
    }
   ],
   "source": [
    "df_14_16_copy=df_14_16.copy()\n",
    "df_14_16_copy.head(3)"
   ]
  },
  {
   "cell_type": "markdown",
   "id": "5cbc6d17",
   "metadata": {},
   "source": [
    "##  Define\n",
    "\n",
    "-There are a lot of duplicates"
   ]
  },
  {
   "cell_type": "code",
   "execution_count": 805,
   "id": "30010af6",
   "metadata": {},
   "outputs": [
    {
     "data": {
      "text/plain": [
       "id                  7122\n",
       "city                7189\n",
       "job_title           7190\n",
       "job_category1       7190\n",
       "job_category2       7191\n",
       "job_category3       7191\n",
       "job_industry1       7191\n",
       "job_industry2       7191\n",
       "job_industry3       7191\n",
       "salary_minimum      7191\n",
       "salary_maximum      7191\n",
       "num_vacancies       7191\n",
       "career_level        7191\n",
       "experience_years    7191\n",
       "post_date           7191\n",
       "views               7191\n",
       "job_description     7381\n",
       "job_requirements    8999\n",
       "payment_period      7196\n",
       "currency            7196\n",
       "dtype: int64"
      ]
     },
     "execution_count": 805,
     "metadata": {},
     "output_type": "execute_result"
    }
   ],
   "source": [
    "df_14_16_copy.isnull().sum()"
   ]
  },
  {
   "cell_type": "code",
   "execution_count": 806,
   "id": "2e205cd6",
   "metadata": {},
   "outputs": [
    {
     "data": {
      "text/html": [
       "<div>\n",
       "<style scoped>\n",
       "    .dataframe tbody tr th:only-of-type {\n",
       "        vertical-align: middle;\n",
       "    }\n",
       "\n",
       "    .dataframe tbody tr th {\n",
       "        vertical-align: top;\n",
       "    }\n",
       "\n",
       "    .dataframe thead th {\n",
       "        text-align: right;\n",
       "    }\n",
       "</style>\n",
       "<table border=\"1\" class=\"dataframe\">\n",
       "  <thead>\n",
       "    <tr style=\"text-align: right;\">\n",
       "      <th></th>\n",
       "      <th>id</th>\n",
       "      <th>city</th>\n",
       "      <th>job_title</th>\n",
       "      <th>job_category1</th>\n",
       "      <th>job_category2</th>\n",
       "      <th>job_category3</th>\n",
       "      <th>job_industry1</th>\n",
       "      <th>job_industry2</th>\n",
       "      <th>job_industry3</th>\n",
       "      <th>salary_minimum</th>\n",
       "      <th>salary_maximum</th>\n",
       "      <th>num_vacancies</th>\n",
       "      <th>career_level</th>\n",
       "      <th>experience_years</th>\n",
       "      <th>post_date</th>\n",
       "      <th>views</th>\n",
       "      <th>job_description</th>\n",
       "      <th>job_requirements</th>\n",
       "      <th>payment_period</th>\n",
       "      <th>currency</th>\n",
       "    </tr>\n",
       "  </thead>\n",
       "  <tbody>\n",
       "    <tr>\n",
       "      <th>1</th>\n",
       "      <td>a361ef59</td>\n",
       "      <td>Cairo</td>\n",
       "      <td>German Training Coordinator</td>\n",
       "      <td>Customer Service/Support</td>\n",
       "      <td>Administration</td>\n",
       "      <td>Human Resources</td>\n",
       "      <td>Translation and Localization</td>\n",
       "      <td>Business Services - Other</td>\n",
       "      <td>Education</td>\n",
       "      <td>1000.0</td>\n",
       "      <td>5000.0</td>\n",
       "      <td>8.0</td>\n",
       "      <td>Entry Level</td>\n",
       "      <td>0-2</td>\n",
       "      <td>2014-01-01 20:01:00</td>\n",
       "      <td>2213.0</td>\n",
       "      <td>&lt;p&gt;&amp;bull;Placing jobs' ads on various websites...</td>\n",
       "      <td>NaN</td>\n",
       "      <td>Per Month</td>\n",
       "      <td>Egyptian Pound</td>\n",
       "    </tr>\n",
       "  </tbody>\n",
       "</table>\n",
       "</div>"
      ],
      "text/plain": [
       "         id   city                     job_title             job_category1  \\\n",
       "1  a361ef59  Cairo  German Training Coordinator   Customer Service/Support   \n",
       "\n",
       "    job_category2    job_category3                    job_industry1  \\\n",
       "1  Administration  Human Resources  Translation and Localization      \n",
       "\n",
       "               job_industry2 job_industry3  salary_minimum  salary_maximum  \\\n",
       "1  Business Services - Other     Education          1000.0          5000.0   \n",
       "\n",
       "   num_vacancies career_level experience_years           post_date   views  \\\n",
       "1            8.0  Entry Level              0-2 2014-01-01 20:01:00  2213.0   \n",
       "\n",
       "                                     job_description job_requirements  \\\n",
       "1  <p>&bull;Placing jobs' ads on various websites...              NaN   \n",
       "\n",
       "  payment_period        currency  \n",
       "1      Per Month  Egyptian Pound  "
      ]
     },
     "execution_count": 806,
     "metadata": {},
     "output_type": "execute_result"
    }
   ],
   "source": [
    "df_14_16_copy.head(1)"
   ]
  },
  {
   "cell_type": "markdown",
   "id": "f432c878",
   "metadata": {},
   "source": [
    "## Code"
   ]
  },
  {
   "cell_type": "code",
   "execution_count": 807,
   "id": "bbc03544",
   "metadata": {},
   "outputs": [],
   "source": [
    "df_14_16_copy.dropna(inplace= True)\n",
    "df_14_16_copy.reset_index(drop=True, inplace=True)"
   ]
  },
  {
   "cell_type": "code",
   "execution_count": 808,
   "id": "dd5bbdf4",
   "metadata": {},
   "outputs": [
    {
     "data": {
      "text/html": [
       "<div>\n",
       "<style scoped>\n",
       "    .dataframe tbody tr th:only-of-type {\n",
       "        vertical-align: middle;\n",
       "    }\n",
       "\n",
       "    .dataframe tbody tr th {\n",
       "        vertical-align: top;\n",
       "    }\n",
       "\n",
       "    .dataframe thead th {\n",
       "        text-align: right;\n",
       "    }\n",
       "</style>\n",
       "<table border=\"1\" class=\"dataframe\">\n",
       "  <thead>\n",
       "    <tr style=\"text-align: right;\">\n",
       "      <th></th>\n",
       "      <th>id</th>\n",
       "      <th>city</th>\n",
       "      <th>job_title</th>\n",
       "      <th>job_category1</th>\n",
       "      <th>job_category2</th>\n",
       "      <th>job_category3</th>\n",
       "      <th>job_industry1</th>\n",
       "      <th>job_industry2</th>\n",
       "      <th>job_industry3</th>\n",
       "      <th>salary_minimum</th>\n",
       "      <th>salary_maximum</th>\n",
       "      <th>num_vacancies</th>\n",
       "      <th>career_level</th>\n",
       "      <th>experience_years</th>\n",
       "      <th>post_date</th>\n",
       "      <th>views</th>\n",
       "      <th>job_description</th>\n",
       "      <th>job_requirements</th>\n",
       "      <th>payment_period</th>\n",
       "      <th>currency</th>\n",
       "    </tr>\n",
       "  </thead>\n",
       "  <tbody>\n",
       "    <tr>\n",
       "      <th>0</th>\n",
       "      <td>77d749b9</td>\n",
       "      <td>Cairo</td>\n",
       "      <td>Senior PHP Developer</td>\n",
       "      <td>IT/Software Development</td>\n",
       "      <td>Select</td>\n",
       "      <td>Select</td>\n",
       "      <td>Computer Software</td>\n",
       "      <td>Computer/IT Services</td>\n",
       "      <td>Select</td>\n",
       "      <td>3500.0</td>\n",
       "      <td>7500.0</td>\n",
       "      <td>5.0</td>\n",
       "      <td>Experienced (Non-Manager)</td>\n",
       "      <td>7-Mar</td>\n",
       "      <td>2014-01-05 19:01:00</td>\n",
       "      <td>1055.0</td>\n",
       "      <td>&lt;p&gt;&lt;span style=\"text-decoration: underline;\"&gt;&lt;...</td>\n",
       "      <td>&lt;p&gt;1. Solid commercial knowledge of PHP, XHTML...</td>\n",
       "      <td>Per Month</td>\n",
       "      <td>Egyptian Pound</td>\n",
       "    </tr>\n",
       "    <tr>\n",
       "      <th>1</th>\n",
       "      <td>e849d634</td>\n",
       "      <td>Alexandria</td>\n",
       "      <td>Secretary</td>\n",
       "      <td>Administration</td>\n",
       "      <td>Customer Service/Support</td>\n",
       "      <td>Sales/Retail/Business Development</td>\n",
       "      <td>Medical Devices and Supplies</td>\n",
       "      <td>Select</td>\n",
       "      <td>Select</td>\n",
       "      <td>1200.0</td>\n",
       "      <td>1800.0</td>\n",
       "      <td>1.0</td>\n",
       "      <td>Entry Level</td>\n",
       "      <td>0-5</td>\n",
       "      <td>2014-01-16 13:01:00</td>\n",
       "      <td>1752.0</td>\n",
       "      <td>&lt;strong&gt;Job Description:&lt;/strong&gt; &lt;br /&gt;&lt;br /&gt;...</td>\n",
       "      <td>&lt;span style=\"text-decoration: underline;\"&gt;&lt;str...</td>\n",
       "      <td>Per Month</td>\n",
       "      <td>Egyptian Pound</td>\n",
       "    </tr>\n",
       "    <tr>\n",
       "      <th>2</th>\n",
       "      <td>d9a1cca9</td>\n",
       "      <td>Cairo</td>\n",
       "      <td>Tour operator and Social Media Associate</td>\n",
       "      <td>Marketing</td>\n",
       "      <td>Select</td>\n",
       "      <td>Select</td>\n",
       "      <td>Online Media</td>\n",
       "      <td>Travel, Transportation and Tourism</td>\n",
       "      <td>Select</td>\n",
       "      <td>800.0</td>\n",
       "      <td>1700.0</td>\n",
       "      <td>1.0</td>\n",
       "      <td>Experienced (Non-Manager)</td>\n",
       "      <td>2-Jan</td>\n",
       "      <td>2014-01-18 22:01:00</td>\n",
       "      <td>1021.0</td>\n",
       "      <td>&lt;p&gt;We are looking for a super star who have pa...</td>\n",
       "      <td>&lt;strong&gt;Tour operator reuirments:&lt;/strong&gt;_x00...</td>\n",
       "      <td>Per Month</td>\n",
       "      <td>Egyptian Pound</td>\n",
       "    </tr>\n",
       "  </tbody>\n",
       "</table>\n",
       "</div>"
      ],
      "text/plain": [
       "         id        city                                 job_title  \\\n",
       "0  77d749b9       Cairo                      Senior PHP Developer   \n",
       "1  e849d634  Alexandria                                Secretary    \n",
       "2  d9a1cca9       Cairo  Tour operator and Social Media Associate   \n",
       "\n",
       "             job_category1             job_category2  \\\n",
       "0  IT/Software Development                    Select   \n",
       "1           Administration  Customer Service/Support   \n",
       "2                Marketing                    Select   \n",
       "\n",
       "                       job_category3                 job_industry1  \\\n",
       "0                             Select             Computer Software   \n",
       "1  Sales/Retail/Business Development  Medical Devices and Supplies   \n",
       "2                             Select               Online Media      \n",
       "\n",
       "                        job_industry2 job_industry3  salary_minimum  \\\n",
       "0                Computer/IT Services        Select          3500.0   \n",
       "1                              Select        Select          1200.0   \n",
       "2  Travel, Transportation and Tourism        Select           800.0   \n",
       "\n",
       "   salary_maximum  num_vacancies               career_level experience_years  \\\n",
       "0          7500.0            5.0  Experienced (Non-Manager)            7-Mar   \n",
       "1          1800.0            1.0                Entry Level              0-5   \n",
       "2          1700.0            1.0  Experienced (Non-Manager)            2-Jan   \n",
       "\n",
       "            post_date   views  \\\n",
       "0 2014-01-05 19:01:00  1055.0   \n",
       "1 2014-01-16 13:01:00  1752.0   \n",
       "2 2014-01-18 22:01:00  1021.0   \n",
       "\n",
       "                                     job_description  \\\n",
       "0  <p><span style=\"text-decoration: underline;\"><...   \n",
       "1  <strong>Job Description:</strong> <br /><br />...   \n",
       "2  <p>We are looking for a super star who have pa...   \n",
       "\n",
       "                                    job_requirements payment_period  \\\n",
       "0  <p>1. Solid commercial knowledge of PHP, XHTML...      Per Month   \n",
       "1  <span style=\"text-decoration: underline;\"><str...      Per Month   \n",
       "2  <strong>Tour operator reuirments:</strong>_x00...      Per Month   \n",
       "\n",
       "         currency  \n",
       "0  Egyptian Pound  \n",
       "1  Egyptian Pound  \n",
       "2  Egyptian Pound  "
      ]
     },
     "execution_count": 808,
     "metadata": {},
     "output_type": "execute_result"
    }
   ],
   "source": [
    "df_14_16_copy.head(3)"
   ]
  },
  {
   "cell_type": "markdown",
   "id": "68d32321",
   "metadata": {},
   "source": [
    "## Test"
   ]
  },
  {
   "cell_type": "code",
   "execution_count": 809,
   "id": "837d8de7",
   "metadata": {},
   "outputs": [
    {
     "data": {
      "text/plain": [
       "id                  0\n",
       "city                0\n",
       "job_title           0\n",
       "job_category1       0\n",
       "job_category2       0\n",
       "job_category3       0\n",
       "job_industry1       0\n",
       "job_industry2       0\n",
       "job_industry3       0\n",
       "salary_minimum      0\n",
       "salary_maximum      0\n",
       "num_vacancies       0\n",
       "career_level        0\n",
       "experience_years    0\n",
       "post_date           0\n",
       "views               0\n",
       "job_description     0\n",
       "job_requirements    0\n",
       "payment_period      0\n",
       "currency            0\n",
       "dtype: int64"
      ]
     },
     "execution_count": 809,
     "metadata": {},
     "output_type": "execute_result"
    }
   ],
   "source": [
    "df_14_16_copy.isnull().sum()"
   ]
  },
  {
   "cell_type": "code",
   "execution_count": 810,
   "id": "14549312",
   "metadata": {
    "scrolled": true
   },
   "outputs": [
    {
     "data": {
      "text/plain": [
       "(12837, 20)"
      ]
     },
     "execution_count": 810,
     "metadata": {},
     "output_type": "execute_result"
    }
   ],
   "source": [
    "df_14_16_copy.shape"
   ]
  },
  {
   "cell_type": "markdown",
   "id": "5ee27570",
   "metadata": {},
   "source": [
    "##  Define\n"
   ]
  },
  {
   "cell_type": "markdown",
   "id": "d8f128b6",
   "metadata": {},
   "source": [
    "-we need to remove HTML tags from job description and job requirements data \n"
   ]
  },
  {
   "cell_type": "markdown",
   "id": "6db859f3",
   "metadata": {},
   "source": [
    "## Code"
   ]
  },
  {
   "cell_type": "code",
   "execution_count": 811,
   "id": "56a97a14",
   "metadata": {},
   "outputs": [
    {
     "data": {
      "text/plain": [
       "'<p><span style=\"text-decoration: underline;\"><strong>Desired Experience<br /><br /></strong></span></p>_x000D_\\n<ul>_x000D_\\n<li>PHP Development Experience, Must be expert with <span style=\"text-decoration: underline;\"><strong>Minimum 3 Years</strong></span></li>_x000D_\\n<li>HTML / CSS &amp; java Script / JQuery Knowledge Must be expert with <strong><span style=\"text-decoration: underline;\">Minimum 3 Years</span></strong></li>_x000D_\\n<li>Experience with <strong>node.js, Backbone.js, and MongoDB</strong> Must be at least good with Minimum 2 Years of experience</li>_x000D_\\n<li>MySql optimization Expert Must be expert with <span style=\"text-decoration: underline;\"><strong>Minimum 3 Years</strong></span></li>_x000D_\\n<li><strong>Caching and indexing</strong> Must be expert with Minimum 3 Years</li>_x000D_\\n<li>Building APIs (Internal and External) Must be at least good with Minimum 3 Years of experience</li>_x000D_\\n<li>Strong Knowledge of <strong>Symfony / Zend/ CakePHP</strong> Must be at least good with Minimum 2 Years of experience</li>_x000D_\\n<li>Smarty(PHP template language) Must be at least good with Minimum 2 Years of experience</li>_x000D_\\n<li>Performance tuning (code enhancement, sql optimization, caching system, configuration of application, etc)</li>_x000D_\\n<li>Mobile sites Must be at least good with Minimum 2 Years of experience</li>_x000D_\\n<li>Android / IOS is a plus.</li>_x000D_\\n</ul>_x000D_\\n<span style=\"text-decoration: underline;\"><strong>PLEASE READ FULL JOB DESCRIPTION BEFORE APPLYING!!</strong></span>'"
      ]
     },
     "execution_count": 811,
     "metadata": {},
     "output_type": "execute_result"
    }
   ],
   "source": [
    "df_14_16_copy.job_description[0]"
   ]
  },
  {
   "cell_type": "code",
   "execution_count": 812,
   "id": "c6a24c02",
   "metadata": {},
   "outputs": [
    {
     "data": {
      "text/plain": [
       "'<p>1. Solid commercial knowledge of PHP, XHTML, CSS 2 &amp; 3,JavaScript, AJAX, JSON, JQuery.<br /><br />2. Cross browser development skillsExperience with MySql. <br /><br />3. Familiar with stored procedures, function and triggers.<br /><br />4. Experience in working with web based custom applications and portals<br /><br />5. Experience with SVN .<br /><br />6. A talent for communicating ideas, issues and solutions in a team environmentStrong communication skills, both written and verbal<br /><br />7. B. Sc. In Computer Science, Information Systems or IT related degree.<br /><br />8. Minimum of 3+ years of practical experience in PHP development for large-scale, web-based applications using Zend Framework, CakePHP, ...etc<br /><br />9. Solid grounding in the fundamentals of Object-Oriented Design and design patterns, with particular emphasis on MVC.<br /><br />10. Front-end skills with experience in HTML, CSS, JavaScript, jQuery, AJAX and XML.<br /><br />11. Extensive knowledge of SQL databases - MySql is preferred, Oracle is a plus.<br /><br />12. Good knowledge base of Linux and Windows operating systems and Networking.<br /><br />13. Good knowledge of SOA and Webservices .<br /><br />14. Develops complex program documentation using structure diagrams, behavior diagrams and interaction diagrams, system and program flowcharts and test plans.<br /><br />15. Experience with Test Driven Development (TDD), refactoring, continuous integration, Scrum methodology and Agile best practices.<br /><br />16. Java, Spring/MVC, JEE experience is a plus.<br /><br />17. Domain knowledge of ecommerce retail including search, payment processing and order processing.</p>'"
      ]
     },
     "execution_count": 812,
     "metadata": {},
     "output_type": "execute_result"
    }
   ],
   "source": [
    "df_14_16_copy.job_requirements[0]"
   ]
  },
  {
   "cell_type": "code",
   "execution_count": 813,
   "id": "aa7838fb",
   "metadata": {},
   "outputs": [],
   "source": [
    "def cleanhtml(raw_html):\n",
    "    \n",
    "    cleanr = re.compile('<.*?>|&([a-z0-9]+|#[0-9]{1,6}|#x[0-9a-f]{1,6});')\n",
    "    cleantext = re.sub(cleanr, '', raw_html)\n",
    "    cleantext=cleantext.replace('_x000D_\\n',' ')\n",
    "    return cleantext"
   ]
  },
  {
   "cell_type": "code",
   "execution_count": 814,
   "id": "4bdacffa",
   "metadata": {},
   "outputs": [
    {
     "name": "stderr",
     "output_type": "stream",
     "text": [
      "<ipython-input-814-1e4003d61ec0>:4: SettingWithCopyWarning: \n",
      "A value is trying to be set on a copy of a slice from a DataFrame\n",
      "\n",
      "See the caveats in the documentation: https://pandas.pydata.org/pandas-docs/stable/user_guide/indexing.html#returning-a-view-versus-a-copy\n",
      "  df_14_16_copy.job_description[i]=cleanhtml(df_14_16_copy.job_description[i])\n",
      "<ipython-input-814-1e4003d61ec0>:5: SettingWithCopyWarning: \n",
      "A value is trying to be set on a copy of a slice from a DataFrame\n",
      "\n",
      "See the caveats in the documentation: https://pandas.pydata.org/pandas-docs/stable/user_guide/indexing.html#returning-a-view-versus-a-copy\n",
      "  df_14_16_copy.job_requirements[i]=cleanhtml(df_14_16_copy.job_requirements[i])\n"
     ]
    }
   ],
   "source": [
    "size=df_14_16_copy.shape[0]\n",
    "\n",
    "for i in range(0,size):\n",
    "    df_14_16_copy.job_description[i]=cleanhtml(df_14_16_copy.job_description[i])\n",
    "    df_14_16_copy.job_requirements[i]=cleanhtml(df_14_16_copy.job_requirements[i])\n",
    "\n",
    "    "
   ]
  },
  {
   "cell_type": "markdown",
   "id": "55d574d6",
   "metadata": {},
   "source": [
    "## Test"
   ]
  },
  {
   "cell_type": "code",
   "execution_count": 815,
   "id": "2aa65555",
   "metadata": {},
   "outputs": [
    {
     "data": {
      "text/plain": [
       "'Desired Experience  PHP Development Experience, Must be expert with Minimum 3 Years HTML / CSS  java Script / JQuery Knowledge Must be expert with Minimum 3 Years Experience with node.js, Backbone.js, and MongoDB Must be at least good with Minimum 2 Years of experience MySql optimization Expert Must be expert with Minimum 3 Years Caching and indexing Must be expert with Minimum 3 Years Building APIs (Internal and External) Must be at least good with Minimum 3 Years of experience Strong Knowledge of Symfony / Zend/ CakePHP Must be at least good with Minimum 2 Years of experience Smarty(PHP template language) Must be at least good with Minimum 2 Years of experience Performance tuning (code enhancement, sql optimization, caching system, configuration of application, etc) Mobile sites Must be at least good with Minimum 2 Years of experience Android / IOS is a plus.  PLEASE READ FULL JOB DESCRIPTION BEFORE APPLYING!!'"
      ]
     },
     "execution_count": 815,
     "metadata": {},
     "output_type": "execute_result"
    }
   ],
   "source": [
    "df_14_16_copy.job_description[0]"
   ]
  },
  {
   "cell_type": "code",
   "execution_count": 816,
   "id": "df3803e7",
   "metadata": {},
   "outputs": [
    {
     "data": {
      "text/plain": [
       "'1. Solid commercial knowledge of PHP, XHTML, CSS 2  3,JavaScript, AJAX, JSON, JQuery.2. Cross browser development skillsExperience with MySql. 3. Familiar with stored procedures, function and triggers.4. Experience in working with web based custom applications and portals5. Experience with SVN .6. A talent for communicating ideas, issues and solutions in a team environmentStrong communication skills, both written and verbal7. B. Sc. In Computer Science, Information Systems or IT related degree.8. Minimum of 3+ years of practical experience in PHP development for large-scale, web-based applications using Zend Framework, CakePHP, ...etc9. Solid grounding in the fundamentals of Object-Oriented Design and design patterns, with particular emphasis on MVC.10. Front-end skills with experience in HTML, CSS, JavaScript, jQuery, AJAX and XML.11. Extensive knowledge of SQL databases - MySql is preferred, Oracle is a plus.12. Good knowledge base of Linux and Windows operating systems and Networking.13. Good knowledge of SOA and Webservices .14. Develops complex program documentation using structure diagrams, behavior diagrams and interaction diagrams, system and program flowcharts and test plans.15. Experience with Test Driven Development (TDD), refactoring, continuous integration, Scrum methodology and Agile best practices.16. Java, Spring/MVC, JEE experience is a plus.17. Domain knowledge of ecommerce retail including search, payment processing and order processing.'"
      ]
     },
     "execution_count": 816,
     "metadata": {},
     "output_type": "execute_result"
    }
   ],
   "source": [
    "df_14_16_copy.job_requirements[0]"
   ]
  },
  {
   "cell_type": "markdown",
   "id": "d42c1928",
   "metadata": {},
   "source": [
    "##  Define\n",
    "-in 'job_category2', 'job_category3', 'job_industry2', 'job_industry3' most of the inputs are the word 'Select' "
   ]
  },
  {
   "cell_type": "code",
   "execution_count": 817,
   "id": "a49fa508",
   "metadata": {},
   "outputs": [
    {
     "data": {
      "text/html": [
       "<div>\n",
       "<style scoped>\n",
       "    .dataframe tbody tr th:only-of-type {\n",
       "        vertical-align: middle;\n",
       "    }\n",
       "\n",
       "    .dataframe tbody tr th {\n",
       "        vertical-align: top;\n",
       "    }\n",
       "\n",
       "    .dataframe thead th {\n",
       "        text-align: right;\n",
       "    }\n",
       "</style>\n",
       "<table border=\"1\" class=\"dataframe\">\n",
       "  <thead>\n",
       "    <tr style=\"text-align: right;\">\n",
       "      <th></th>\n",
       "      <th>id</th>\n",
       "      <th>city</th>\n",
       "      <th>job_title</th>\n",
       "      <th>job_category1</th>\n",
       "      <th>job_category2</th>\n",
       "      <th>job_category3</th>\n",
       "      <th>job_industry1</th>\n",
       "      <th>job_industry2</th>\n",
       "      <th>job_industry3</th>\n",
       "      <th>salary_minimum</th>\n",
       "      <th>salary_maximum</th>\n",
       "      <th>num_vacancies</th>\n",
       "      <th>career_level</th>\n",
       "      <th>experience_years</th>\n",
       "      <th>post_date</th>\n",
       "      <th>views</th>\n",
       "      <th>job_description</th>\n",
       "      <th>job_requirements</th>\n",
       "      <th>payment_period</th>\n",
       "      <th>currency</th>\n",
       "    </tr>\n",
       "  </thead>\n",
       "  <tbody>\n",
       "    <tr>\n",
       "      <th>0</th>\n",
       "      <td>77d749b9</td>\n",
       "      <td>Cairo</td>\n",
       "      <td>Senior PHP Developer</td>\n",
       "      <td>IT/Software Development</td>\n",
       "      <td>Select</td>\n",
       "      <td>Select</td>\n",
       "      <td>Computer Software</td>\n",
       "      <td>Computer/IT Services</td>\n",
       "      <td>Select</td>\n",
       "      <td>3500.0</td>\n",
       "      <td>7500.0</td>\n",
       "      <td>5.0</td>\n",
       "      <td>Experienced (Non-Manager)</td>\n",
       "      <td>7-Mar</td>\n",
       "      <td>2014-01-05 19:01:00</td>\n",
       "      <td>1055.0</td>\n",
       "      <td>Desired Experience  PHP Development Experience...</td>\n",
       "      <td>1. Solid commercial knowledge of PHP, XHTML, C...</td>\n",
       "      <td>Per Month</td>\n",
       "      <td>Egyptian Pound</td>\n",
       "    </tr>\n",
       "    <tr>\n",
       "      <th>1</th>\n",
       "      <td>e849d634</td>\n",
       "      <td>Alexandria</td>\n",
       "      <td>Secretary</td>\n",
       "      <td>Administration</td>\n",
       "      <td>Customer Service/Support</td>\n",
       "      <td>Sales/Retail/Business Development</td>\n",
       "      <td>Medical Devices and Supplies</td>\n",
       "      <td>Select</td>\n",
       "      <td>Select</td>\n",
       "      <td>1200.0</td>\n",
       "      <td>1800.0</td>\n",
       "      <td>1.0</td>\n",
       "      <td>Entry Level</td>\n",
       "      <td>0-5</td>\n",
       "      <td>2014-01-16 13:01:00</td>\n",
       "      <td>1752.0</td>\n",
       "      <td>Job Description: Coordination for departments,...</td>\n",
       "      <td>Must be Male</td>\n",
       "      <td>Per Month</td>\n",
       "      <td>Egyptian Pound</td>\n",
       "    </tr>\n",
       "    <tr>\n",
       "      <th>2</th>\n",
       "      <td>d9a1cca9</td>\n",
       "      <td>Cairo</td>\n",
       "      <td>Tour operator and Social Media Associate</td>\n",
       "      <td>Marketing</td>\n",
       "      <td>Select</td>\n",
       "      <td>Select</td>\n",
       "      <td>Online Media</td>\n",
       "      <td>Travel, Transportation and Tourism</td>\n",
       "      <td>Select</td>\n",
       "      <td>800.0</td>\n",
       "      <td>1700.0</td>\n",
       "      <td>1.0</td>\n",
       "      <td>Experienced (Non-Manager)</td>\n",
       "      <td>2-Jan</td>\n",
       "      <td>2014-01-18 22:01:00</td>\n",
       "      <td>1021.0</td>\n",
       "      <td>We are looking for a super star who have past ...</td>\n",
       "      <td>Tour operator reuirments:  1-2 years minumum e...</td>\n",
       "      <td>Per Month</td>\n",
       "      <td>Egyptian Pound</td>\n",
       "    </tr>\n",
       "    <tr>\n",
       "      <th>3</th>\n",
       "      <td>ed5040f2</td>\n",
       "      <td>Cairo</td>\n",
       "      <td>Web Developer</td>\n",
       "      <td>IT/Software Development</td>\n",
       "      <td>Select</td>\n",
       "      <td>Select</td>\n",
       "      <td>Computer Software</td>\n",
       "      <td>Human Resources</td>\n",
       "      <td>Select</td>\n",
       "      <td>2000.0</td>\n",
       "      <td>3000.0</td>\n",
       "      <td>1.0</td>\n",
       "      <td>Entry Level</td>\n",
       "      <td>2</td>\n",
       "      <td>2014-01-19 13:01:00</td>\n",
       "      <td>1.0</td>\n",
       "      <td>Write your job summary and responsibilities.</td>\n",
       "      <td>Write required skills and expertise of desired...</td>\n",
       "      <td>Per Month</td>\n",
       "      <td>Egyptian Pound</td>\n",
       "    </tr>\n",
       "    <tr>\n",
       "      <th>4</th>\n",
       "      <td>1c06f227</td>\n",
       "      <td>Cairo</td>\n",
       "      <td>Business Intelligence</td>\n",
       "      <td>IT/Software Development</td>\n",
       "      <td>Select</td>\n",
       "      <td>Select</td>\n",
       "      <td>Computer Software</td>\n",
       "      <td>Select</td>\n",
       "      <td>Select</td>\n",
       "      <td>4000.0</td>\n",
       "      <td>6000.0</td>\n",
       "      <td>5.0</td>\n",
       "      <td>Experienced (Non-Manager)</td>\n",
       "      <td>2+</td>\n",
       "      <td>2014-01-19 15:01:00</td>\n",
       "      <td>1215.0</td>\n",
       "      <td>Performs a variety of development assignments...</td>\n",
       "      <td>#NAME?</td>\n",
       "      <td>Per Month</td>\n",
       "      <td>Egyptian Pound</td>\n",
       "    </tr>\n",
       "  </tbody>\n",
       "</table>\n",
       "</div>"
      ],
      "text/plain": [
       "         id        city                                 job_title  \\\n",
       "0  77d749b9       Cairo                      Senior PHP Developer   \n",
       "1  e849d634  Alexandria                                Secretary    \n",
       "2  d9a1cca9       Cairo  Tour operator and Social Media Associate   \n",
       "3  ed5040f2       Cairo                             Web Developer   \n",
       "4  1c06f227       Cairo                    Business Intelligence    \n",
       "\n",
       "             job_category1             job_category2  \\\n",
       "0  IT/Software Development                    Select   \n",
       "1           Administration  Customer Service/Support   \n",
       "2                Marketing                    Select   \n",
       "3  IT/Software Development                    Select   \n",
       "4  IT/Software Development                    Select   \n",
       "\n",
       "                       job_category3                 job_industry1  \\\n",
       "0                             Select             Computer Software   \n",
       "1  Sales/Retail/Business Development  Medical Devices and Supplies   \n",
       "2                             Select               Online Media      \n",
       "3                             Select             Computer Software   \n",
       "4                             Select             Computer Software   \n",
       "\n",
       "                        job_industry2 job_industry3  salary_minimum  \\\n",
       "0                Computer/IT Services        Select          3500.0   \n",
       "1                              Select        Select          1200.0   \n",
       "2  Travel, Transportation and Tourism        Select           800.0   \n",
       "3                  Human Resources           Select          2000.0   \n",
       "4                              Select        Select          4000.0   \n",
       "\n",
       "   salary_maximum  num_vacancies               career_level experience_years  \\\n",
       "0          7500.0            5.0  Experienced (Non-Manager)            7-Mar   \n",
       "1          1800.0            1.0                Entry Level              0-5   \n",
       "2          1700.0            1.0  Experienced (Non-Manager)            2-Jan   \n",
       "3          3000.0            1.0                Entry Level                2   \n",
       "4          6000.0            5.0  Experienced (Non-Manager)               2+   \n",
       "\n",
       "            post_date   views  \\\n",
       "0 2014-01-05 19:01:00  1055.0   \n",
       "1 2014-01-16 13:01:00  1752.0   \n",
       "2 2014-01-18 22:01:00  1021.0   \n",
       "3 2014-01-19 13:01:00     1.0   \n",
       "4 2014-01-19 15:01:00  1215.0   \n",
       "\n",
       "                                     job_description  \\\n",
       "0  Desired Experience  PHP Development Experience...   \n",
       "1  Job Description: Coordination for departments,...   \n",
       "2  We are looking for a super star who have past ...   \n",
       "3       Write your job summary and responsibilities.   \n",
       "4   Performs a variety of development assignments...   \n",
       "\n",
       "                                    job_requirements payment_period  \\\n",
       "0  1. Solid commercial knowledge of PHP, XHTML, C...      Per Month   \n",
       "1                                       Must be Male      Per Month   \n",
       "2  Tour operator reuirments:  1-2 years minumum e...      Per Month   \n",
       "3  Write required skills and expertise of desired...      Per Month   \n",
       "4                                             #NAME?      Per Month   \n",
       "\n",
       "         currency  \n",
       "0  Egyptian Pound  \n",
       "1  Egyptian Pound  \n",
       "2  Egyptian Pound  \n",
       "3  Egyptian Pound  \n",
       "4  Egyptian Pound  "
      ]
     },
     "execution_count": 817,
     "metadata": {},
     "output_type": "execute_result"
    }
   ],
   "source": [
    "df_14_16_copy.head()"
   ]
  },
  {
   "cell_type": "code",
   "execution_count": 818,
   "id": "8fdbdf73",
   "metadata": {},
   "outputs": [
    {
     "name": "stdout",
     "output_type": "stream",
     "text": [
      "Administration\n",
      "Customer Service/Support\n",
      "Sales/Retail/Business Development \n",
      "\n",
      "Marketing\n",
      "Select\n",
      "Select \n",
      "\n",
      "IT/Software Development\n",
      "Select\n",
      "Select \n",
      "\n",
      "IT/Software Development\n",
      "Select\n",
      "Select \n",
      "\n",
      "Engineering\n",
      "Select\n",
      "Select \n",
      "\n",
      "IT/Software Development\n",
      "Engineering\n",
      "Select \n",
      "\n",
      "IT/Software Development\n",
      "Administration\n",
      "Select \n",
      "\n",
      "IT/Software Development\n",
      "Select\n",
      "Select \n",
      "\n",
      "Creative/Design\n",
      "Select\n",
      "Select \n",
      "\n",
      "Engineering\n",
      "Select\n",
      "Select \n",
      "\n",
      "IT/Software Development\n",
      "Select\n",
      "Select \n",
      "\n",
      "IT/Software Development\n",
      "Select\n",
      "Select \n",
      "\n",
      "Marketing\n",
      "IT/Software Development\n",
      "Research \n",
      "\n",
      "IT/Software Development\n",
      "Select\n",
      "Select \n",
      "\n",
      "Customer Service/Support\n",
      "Select\n",
      "Select \n",
      "\n",
      "Customer Service/Support\n",
      "Select\n",
      "Select \n",
      "\n",
      "IT/Software Development\n",
      "Select\n",
      "Select \n",
      "\n",
      "IT/Software Development\n",
      "Select\n",
      "Select \n",
      "\n",
      "IT/Software Development\n",
      "Creative/Design\n",
      "Select \n",
      "\n",
      "Manufacturing/Production/Operations\n",
      "Engineering\n",
      "Select \n",
      "\n",
      "IT/Software Development\n",
      "Select\n",
      "Select \n",
      "\n",
      "IT/Software Development\n",
      "Select\n",
      "Select \n",
      "\n",
      "Editorial/Writing\n",
      "Select\n",
      "Select \n",
      "\n",
      "IT/Software Development\n",
      "Select\n",
      "Select \n",
      "\n",
      "Editorial/Writing\n",
      "Marketing\n",
      "Research \n",
      "\n",
      "Marketing\n",
      "IT/Software Development\n",
      "Research \n",
      "\n",
      "Project/Program Management\n",
      "Manufacturing/Production/Operations\n",
      "IT/Software Development \n",
      "\n",
      "IT/Software Development\n",
      "Select\n",
      "Select \n",
      "\n",
      "Editorial/Writing\n",
      "Select\n",
      "Select \n",
      "\n",
      "IT/Software Development\n",
      "Select\n",
      "Select \n",
      "\n",
      "IT/Software Development\n",
      "Select\n",
      "Select \n",
      "\n",
      "IT/Software Development\n",
      "Select\n",
      "Select \n",
      "\n",
      "Creative/Design\n",
      "IT/Software Development\n",
      "Select \n",
      "\n",
      "Engineering\n",
      "IT/Software Development\n",
      "Select \n",
      "\n",
      "Sales/Retail/Business Development\n",
      "Marketing\n",
      "Select \n",
      "\n",
      "Engineering\n",
      "Select\n",
      "Select \n",
      "\n",
      "IT/Software Development\n",
      "Project/Program Management\n",
      "Select \n",
      "\n",
      "Customer Service/Support\n",
      "Administration\n",
      "Select \n",
      "\n",
      "IT/Software Development\n",
      "Creative/Design\n",
      "Select \n",
      "\n",
      "IT/Software Development\n",
      "Select\n",
      "Select \n",
      "\n",
      "Editorial/Writing\n",
      "Select\n",
      "Select \n",
      "\n",
      "IT/Software Development\n",
      "Select\n",
      "Select \n",
      "\n",
      "IT/Software Development\n",
      "Select\n",
      "Select \n",
      "\n",
      "IT/Software Development\n",
      "Select\n",
      "Select \n",
      "\n",
      "IT/Software Development\n",
      "Select\n",
      "Select \n",
      "\n",
      "Creative/Design\n",
      "Select\n",
      "Select \n",
      "\n",
      "Administration\n",
      "Sales/Retail/Business Development\n",
      "Marketing \n",
      "\n",
      "Marketing\n",
      "Sales/Retail/Business Development\n",
      "Select \n",
      "\n",
      "IT/Software Development\n",
      "Select\n",
      "Select \n",
      "\n",
      "Engineering\n",
      "Select\n",
      "Select \n",
      "\n",
      "Engineering\n",
      "Select\n",
      "Select \n",
      "\n",
      "Project/Program Management\n",
      "Management\n",
      "Sales/Retail/Business Development \n",
      "\n",
      "Creative/Design\n",
      "Administration\n",
      "Select \n",
      "\n",
      "Engineering\n",
      "Select\n",
      "Select \n",
      "\n",
      "IT/Software Development\n",
      "Select\n",
      "Select \n",
      "\n",
      "Sales/Retail/Business Development\n",
      "Customer Service/Support\n",
      "Manufacturing/Production/Operations \n",
      "\n",
      "Engineering\n",
      "Installation/Maintenance/Repair\n",
      "Select \n",
      "\n",
      "Customer Service/Support\n",
      "Select\n",
      "Select \n",
      "\n",
      "Customer Service/Support\n",
      "Select\n",
      "Select \n",
      "\n",
      "Customer Service/Support\n",
      "Select\n",
      "Select \n",
      "\n",
      "Quality Assurance/Quality Control\n",
      "Select\n",
      "Select \n",
      "\n",
      "Installation/Maintenance/Repair\n",
      "Select\n",
      "Select \n",
      "\n",
      "IT/Software Development\n",
      "Select\n",
      "Select \n",
      "\n",
      "Installation/Maintenance/Repair\n",
      "IT/Software Development\n",
      "Select \n",
      "\n",
      "Customer Service/Support\n",
      "Administration\n",
      "Human Resources \n",
      "\n",
      "Creative/Design\n",
      "IT/Software Development\n",
      "Select \n",
      "\n",
      "Engineering\n",
      "Select\n",
      "Select \n",
      "\n",
      "Engineering\n",
      "Select\n",
      "Select \n",
      "\n",
      "Engineering\n",
      "Select\n",
      "Select \n",
      "\n",
      "Engineering\n",
      "Select\n",
      "Select \n",
      "\n",
      "Engineering\n",
      "Installation/Maintenance/Repair\n",
      "Select \n",
      "\n",
      "Creative/Design\n",
      "Select\n",
      "Select \n",
      "\n",
      "IT/Software Development\n",
      "Select\n",
      "Select \n",
      "\n",
      "Customer Service/Support\n",
      "Medical\n",
      "Select \n",
      "\n",
      "Engineering\n",
      "IT/Software Development\n",
      "Select \n",
      "\n",
      "Engineering\n",
      "Select\n",
      "Select \n",
      "\n",
      "Editorial/Writing\n",
      "Select\n",
      "Select \n",
      "\n",
      "IT/Software Development\n",
      "Select\n",
      "Select \n",
      "\n",
      "IT/Software Development\n",
      "Select\n",
      "Select \n",
      "\n",
      "IT/Software Development\n",
      "Select\n",
      "Select \n",
      "\n",
      "Project/Program Management\n",
      "Administration\n",
      "Select \n",
      "\n",
      "IT/Software Development\n",
      "Select\n",
      "Select \n",
      "\n",
      "Engineering\n",
      "Select\n",
      "Select \n",
      "\n",
      "Customer Service/Support\n",
      "Select\n",
      "Select \n",
      "\n",
      "IT/Software Development\n",
      "Select\n",
      "Select \n",
      "\n",
      "IT/Software Development\n",
      "Select\n",
      "Select \n",
      "\n",
      "IT/Software Development\n",
      "Select\n",
      "Select \n",
      "\n",
      "Marketing\n",
      "Select\n",
      "Select \n",
      "\n",
      "IT/Software Development\n",
      "Select\n",
      "Select \n",
      "\n",
      "IT/Software Development\n",
      "Select\n",
      "Select \n",
      "\n",
      "Creative/Design\n",
      "Select\n",
      "Select \n",
      "\n",
      "Creative/Design\n",
      "Select\n",
      "Select \n",
      "\n",
      "IT/Software Development\n",
      "Select\n",
      "Select \n",
      "\n",
      "IT/Software Development\n",
      "Select\n",
      "Select \n",
      "\n",
      "Creative/Design\n",
      "Select\n",
      "Select \n",
      "\n",
      "IT/Software Development\n",
      "Select\n",
      "Select \n",
      "\n",
      "IT/Software Development\n",
      "Select\n",
      "Select \n",
      "\n",
      "IT/Software Development\n",
      "Select\n",
      "Select \n",
      "\n",
      "IT/Software Development\n",
      "Project/Program Management\n",
      "Select \n",
      "\n"
     ]
    }
   ],
   "source": [
    "for i in range(1,100):\n",
    "    print(df_14_16_copy['job_category1'][i])\n",
    "    print(df_14_16_copy['job_category2'][i])\n",
    "    print(df_14_16_copy['job_category3'][i],'\\n')\n",
    "\n"
   ]
  },
  {
   "cell_type": "code",
   "execution_count": 819,
   "id": "3d1b0ab8",
   "metadata": {},
   "outputs": [
    {
     "data": {
      "text/plain": [
       "IT/Software Development    4866\n",
       "Engineering                2345\n",
       "Creative/Design            1344\n",
       "Name: job_category1, dtype: int64"
      ]
     },
     "execution_count": 819,
     "metadata": {},
     "output_type": "execute_result"
    }
   ],
   "source": [
    "df_14_16_copy.job_category1.value_counts().head(3)"
   ]
  },
  {
   "cell_type": "code",
   "execution_count": 820,
   "id": "41a08e88",
   "metadata": {},
   "outputs": [
    {
     "data": {
      "text/plain": [
       "Select                             6322\n",
       "Engineering                        1072\n",
       "Installation/Maintenance/Repair     752\n",
       "Name: job_category2, dtype: int64"
      ]
     },
     "execution_count": 820,
     "metadata": {},
     "output_type": "execute_result"
    }
   ],
   "source": [
    "df_14_16_copy.job_category2.value_counts().head(3)"
   ]
  },
  {
   "cell_type": "code",
   "execution_count": 821,
   "id": "55946169",
   "metadata": {},
   "outputs": [
    {
     "data": {
      "text/plain": [
       "Select                     11039\n",
       "Engineering                  234\n",
       "IT/Software Development      134\n",
       "Name: job_category3, dtype: int64"
      ]
     },
     "execution_count": 821,
     "metadata": {},
     "output_type": "execute_result"
    }
   ],
   "source": [
    "df_14_16_copy.job_category3.value_counts().head(3)"
   ]
  },
  {
   "cell_type": "code",
   "execution_count": 822,
   "id": "08160a88",
   "metadata": {},
   "outputs": [
    {
     "data": {
      "text/plain": [
       "Computer Software                     2228\n",
       "Information Technology Services       1463\n",
       "Computer/IT Services                   704\n",
       "Name: job_industry1, dtype: int64"
      ]
     },
     "execution_count": 822,
     "metadata": {},
     "output_type": "execute_result"
    }
   ],
   "source": [
    "df_14_16_copy.job_industry1.value_counts().head(3)"
   ]
  },
  {
   "cell_type": "code",
   "execution_count": 823,
   "id": "af234b3b",
   "metadata": {},
   "outputs": [
    {
     "data": {
      "text/plain": [
       "Select                  7338\n",
       "Computer/IT Services     683\n",
       "Computer Software        667\n",
       "Name: job_industry2, dtype: int64"
      ]
     },
     "execution_count": 823,
     "metadata": {},
     "output_type": "execute_result"
    }
   ],
   "source": [
    "df_14_16_copy.job_industry2.value_counts().head(3)"
   ]
  },
  {
   "cell_type": "code",
   "execution_count": 824,
   "id": "13710905",
   "metadata": {
    "scrolled": true
   },
   "outputs": [
    {
     "data": {
      "text/plain": [
       "Select                                10369\n",
       "Information Technology Services         275\n",
       "Computer/IT Services                    274\n",
       "Name: job_industry3, dtype: int64"
      ]
     },
     "execution_count": 824,
     "metadata": {},
     "output_type": "execute_result"
    }
   ],
   "source": [
    "df_14_16_copy.job_industry3.value_counts().head(3)"
   ]
  },
  {
   "cell_type": "markdown",
   "id": "e183530f",
   "metadata": {},
   "source": [
    "## Code"
   ]
  },
  {
   "cell_type": "code",
   "execution_count": 825,
   "id": "f0a0d229",
   "metadata": {},
   "outputs": [],
   "source": [
    "# as most of the data in job_category 2 and 3 and job_industry 2 and 3 are useless so we will drop them\n",
    "# we will also drop id \n",
    "df_14_16_copy.drop(columns=['id','job_category2','job_category3','job_industry2','job_industry3'],axis=1,inplace=True)\n"
   ]
  },
  {
   "cell_type": "markdown",
   "id": "d9617f8b",
   "metadata": {},
   "source": [
    "## Test"
   ]
  },
  {
   "cell_type": "code",
   "execution_count": 826,
   "id": "0ef670ed",
   "metadata": {},
   "outputs": [
    {
     "name": "stdout",
     "output_type": "stream",
     "text": [
      "<class 'pandas.core.frame.DataFrame'>\n",
      "RangeIndex: 12837 entries, 0 to 12836\n",
      "Data columns (total 15 columns):\n",
      " #   Column            Non-Null Count  Dtype         \n",
      "---  ------            --------------  -----         \n",
      " 0   city              12837 non-null  object        \n",
      " 1   job_title         12837 non-null  object        \n",
      " 2   job_category1     12837 non-null  object        \n",
      " 3   job_industry1     12837 non-null  object        \n",
      " 4   salary_minimum    12837 non-null  float64       \n",
      " 5   salary_maximum    12837 non-null  float64       \n",
      " 6   num_vacancies     12837 non-null  float64       \n",
      " 7   career_level      12837 non-null  object        \n",
      " 8   experience_years  12837 non-null  object        \n",
      " 9   post_date         12837 non-null  datetime64[ns]\n",
      " 10  views             12837 non-null  float64       \n",
      " 11  job_description   12837 non-null  object        \n",
      " 12  job_requirements  12837 non-null  object        \n",
      " 13  payment_period    12837 non-null  object        \n",
      " 14  currency          12837 non-null  object        \n",
      "dtypes: datetime64[ns](1), float64(4), object(10)\n",
      "memory usage: 1.5+ MB\n"
     ]
    }
   ],
   "source": [
    "df_14_16_copy.info()"
   ]
  },
  {
   "cell_type": "markdown",
   "id": "b528c16e",
   "metadata": {},
   "source": [
    "##  Define\n",
    "-There are a lot of duplicates"
   ]
  },
  {
   "cell_type": "code",
   "execution_count": 827,
   "id": "a514f9dd",
   "metadata": {},
   "outputs": [
    {
     "data": {
      "text/plain": [
       "18"
      ]
     },
     "execution_count": 827,
     "metadata": {},
     "output_type": "execute_result"
    }
   ],
   "source": [
    "df_14_16_copy.duplicated().sum()"
   ]
  },
  {
   "cell_type": "markdown",
   "id": "aa4e4dca",
   "metadata": {},
   "source": [
    "## Code"
   ]
  },
  {
   "cell_type": "code",
   "execution_count": 828,
   "id": "af9c5155",
   "metadata": {},
   "outputs": [],
   "source": [
    "df_14_16_copy.drop_duplicates(inplace=True)"
   ]
  },
  {
   "cell_type": "markdown",
   "id": "5fac7f62",
   "metadata": {},
   "source": [
    "## Test"
   ]
  },
  {
   "cell_type": "code",
   "execution_count": 829,
   "id": "1d1a4d6e",
   "metadata": {},
   "outputs": [
    {
     "data": {
      "text/plain": [
       "0"
      ]
     },
     "execution_count": 829,
     "metadata": {},
     "output_type": "execute_result"
    }
   ],
   "source": [
    "df_14_16_copy.duplicated().sum()"
   ]
  },
  {
   "cell_type": "markdown",
   "id": "4d4c00dd",
   "metadata": {},
   "source": [
    "##  Define\n"
   ]
  },
  {
   "cell_type": "markdown",
   "id": "953debb0",
   "metadata": {},
   "source": [
    "-some columns need rename"
   ]
  },
  {
   "cell_type": "markdown",
   "id": "fd273e83",
   "metadata": {},
   "source": [
    "## Code"
   ]
  },
  {
   "cell_type": "code",
   "execution_count": 830,
   "id": "bdcc0c6f",
   "metadata": {},
   "outputs": [],
   "source": [
    "df_14_16_copy=df_14_16_copy.rename(columns={'career_level': 'level' ,'job_category1':'Standered_Title','city':'location','job_description':'description','job_industry1':'job_industry'})"
   ]
  },
  {
   "cell_type": "markdown",
   "id": "138933d4",
   "metadata": {},
   "source": [
    "## Test"
   ]
  },
  {
   "cell_type": "code",
   "execution_count": 831,
   "id": "1a7d7a67",
   "metadata": {},
   "outputs": [
    {
     "data": {
      "text/html": [
       "<div>\n",
       "<style scoped>\n",
       "    .dataframe tbody tr th:only-of-type {\n",
       "        vertical-align: middle;\n",
       "    }\n",
       "\n",
       "    .dataframe tbody tr th {\n",
       "        vertical-align: top;\n",
       "    }\n",
       "\n",
       "    .dataframe thead th {\n",
       "        text-align: right;\n",
       "    }\n",
       "</style>\n",
       "<table border=\"1\" class=\"dataframe\">\n",
       "  <thead>\n",
       "    <tr style=\"text-align: right;\">\n",
       "      <th></th>\n",
       "      <th>location</th>\n",
       "      <th>job_title</th>\n",
       "      <th>Standered_Title</th>\n",
       "      <th>job_industry</th>\n",
       "      <th>salary_minimum</th>\n",
       "      <th>salary_maximum</th>\n",
       "      <th>num_vacancies</th>\n",
       "      <th>level</th>\n",
       "      <th>experience_years</th>\n",
       "      <th>post_date</th>\n",
       "      <th>views</th>\n",
       "      <th>description</th>\n",
       "      <th>job_requirements</th>\n",
       "      <th>payment_period</th>\n",
       "      <th>currency</th>\n",
       "    </tr>\n",
       "  </thead>\n",
       "  <tbody>\n",
       "    <tr>\n",
       "      <th>0</th>\n",
       "      <td>Cairo</td>\n",
       "      <td>Senior PHP Developer</td>\n",
       "      <td>IT/Software Development</td>\n",
       "      <td>Computer Software</td>\n",
       "      <td>3500.0</td>\n",
       "      <td>7500.0</td>\n",
       "      <td>5.0</td>\n",
       "      <td>Experienced (Non-Manager)</td>\n",
       "      <td>7-Mar</td>\n",
       "      <td>2014-01-05 19:01:00</td>\n",
       "      <td>1055.0</td>\n",
       "      <td>Desired Experience  PHP Development Experience...</td>\n",
       "      <td>1. Solid commercial knowledge of PHP, XHTML, C...</td>\n",
       "      <td>Per Month</td>\n",
       "      <td>Egyptian Pound</td>\n",
       "    </tr>\n",
       "    <tr>\n",
       "      <th>1</th>\n",
       "      <td>Alexandria</td>\n",
       "      <td>Secretary</td>\n",
       "      <td>Administration</td>\n",
       "      <td>Medical Devices and Supplies</td>\n",
       "      <td>1200.0</td>\n",
       "      <td>1800.0</td>\n",
       "      <td>1.0</td>\n",
       "      <td>Entry Level</td>\n",
       "      <td>0-5</td>\n",
       "      <td>2014-01-16 13:01:00</td>\n",
       "      <td>1752.0</td>\n",
       "      <td>Job Description: Coordination for departments,...</td>\n",
       "      <td>Must be Male</td>\n",
       "      <td>Per Month</td>\n",
       "      <td>Egyptian Pound</td>\n",
       "    </tr>\n",
       "    <tr>\n",
       "      <th>2</th>\n",
       "      <td>Cairo</td>\n",
       "      <td>Tour operator and Social Media Associate</td>\n",
       "      <td>Marketing</td>\n",
       "      <td>Online Media</td>\n",
       "      <td>800.0</td>\n",
       "      <td>1700.0</td>\n",
       "      <td>1.0</td>\n",
       "      <td>Experienced (Non-Manager)</td>\n",
       "      <td>2-Jan</td>\n",
       "      <td>2014-01-18 22:01:00</td>\n",
       "      <td>1021.0</td>\n",
       "      <td>We are looking for a super star who have past ...</td>\n",
       "      <td>Tour operator reuirments:  1-2 years minumum e...</td>\n",
       "      <td>Per Month</td>\n",
       "      <td>Egyptian Pound</td>\n",
       "    </tr>\n",
       "    <tr>\n",
       "      <th>3</th>\n",
       "      <td>Cairo</td>\n",
       "      <td>Web Developer</td>\n",
       "      <td>IT/Software Development</td>\n",
       "      <td>Computer Software</td>\n",
       "      <td>2000.0</td>\n",
       "      <td>3000.0</td>\n",
       "      <td>1.0</td>\n",
       "      <td>Entry Level</td>\n",
       "      <td>2</td>\n",
       "      <td>2014-01-19 13:01:00</td>\n",
       "      <td>1.0</td>\n",
       "      <td>Write your job summary and responsibilities.</td>\n",
       "      <td>Write required skills and expertise of desired...</td>\n",
       "      <td>Per Month</td>\n",
       "      <td>Egyptian Pound</td>\n",
       "    </tr>\n",
       "    <tr>\n",
       "      <th>4</th>\n",
       "      <td>Cairo</td>\n",
       "      <td>Business Intelligence</td>\n",
       "      <td>IT/Software Development</td>\n",
       "      <td>Computer Software</td>\n",
       "      <td>4000.0</td>\n",
       "      <td>6000.0</td>\n",
       "      <td>5.0</td>\n",
       "      <td>Experienced (Non-Manager)</td>\n",
       "      <td>2+</td>\n",
       "      <td>2014-01-19 15:01:00</td>\n",
       "      <td>1215.0</td>\n",
       "      <td>Performs a variety of development assignments...</td>\n",
       "      <td>#NAME?</td>\n",
       "      <td>Per Month</td>\n",
       "      <td>Egyptian Pound</td>\n",
       "    </tr>\n",
       "  </tbody>\n",
       "</table>\n",
       "</div>"
      ],
      "text/plain": [
       "     location                                 job_title  \\\n",
       "0       Cairo                      Senior PHP Developer   \n",
       "1  Alexandria                                Secretary    \n",
       "2       Cairo  Tour operator and Social Media Associate   \n",
       "3       Cairo                             Web Developer   \n",
       "4       Cairo                    Business Intelligence    \n",
       "\n",
       "           Standered_Title                  job_industry  salary_minimum  \\\n",
       "0  IT/Software Development             Computer Software          3500.0   \n",
       "1           Administration  Medical Devices and Supplies          1200.0   \n",
       "2                Marketing               Online Media              800.0   \n",
       "3  IT/Software Development             Computer Software          2000.0   \n",
       "4  IT/Software Development             Computer Software          4000.0   \n",
       "\n",
       "   salary_maximum  num_vacancies                      level experience_years  \\\n",
       "0          7500.0            5.0  Experienced (Non-Manager)            7-Mar   \n",
       "1          1800.0            1.0                Entry Level              0-5   \n",
       "2          1700.0            1.0  Experienced (Non-Manager)            2-Jan   \n",
       "3          3000.0            1.0                Entry Level                2   \n",
       "4          6000.0            5.0  Experienced (Non-Manager)               2+   \n",
       "\n",
       "            post_date   views  \\\n",
       "0 2014-01-05 19:01:00  1055.0   \n",
       "1 2014-01-16 13:01:00  1752.0   \n",
       "2 2014-01-18 22:01:00  1021.0   \n",
       "3 2014-01-19 13:01:00     1.0   \n",
       "4 2014-01-19 15:01:00  1215.0   \n",
       "\n",
       "                                         description  \\\n",
       "0  Desired Experience  PHP Development Experience...   \n",
       "1  Job Description: Coordination for departments,...   \n",
       "2  We are looking for a super star who have past ...   \n",
       "3       Write your job summary and responsibilities.   \n",
       "4   Performs a variety of development assignments...   \n",
       "\n",
       "                                    job_requirements payment_period  \\\n",
       "0  1. Solid commercial knowledge of PHP, XHTML, C...      Per Month   \n",
       "1                                       Must be Male      Per Month   \n",
       "2  Tour operator reuirments:  1-2 years minumum e...      Per Month   \n",
       "3  Write required skills and expertise of desired...      Per Month   \n",
       "4                                             #NAME?      Per Month   \n",
       "\n",
       "         currency  \n",
       "0  Egyptian Pound  \n",
       "1  Egyptian Pound  \n",
       "2  Egyptian Pound  \n",
       "3  Egyptian Pound  \n",
       "4  Egyptian Pound  "
      ]
     },
     "execution_count": 831,
     "metadata": {},
     "output_type": "execute_result"
    }
   ],
   "source": [
    "df_14_16_copy.head()"
   ]
  },
  {
   "cell_type": "code",
   "execution_count": 832,
   "id": "ee3b88ac",
   "metadata": {},
   "outputs": [
    {
     "name": "stdout",
     "output_type": "stream",
     "text": [
      "{'IT', 'Software Engneering'}\n",
      "12819\n",
      "12819\n"
     ]
    }
   ],
   "source": [
    "The_job_title=df_14_16_copy.job_title\n",
    "Standered_title=[]\n",
    "for i in The_job_title:\n",
    "    if 'IT' in i:\n",
    "        Standered_title.append('IT')     \n",
    "    elif 'Full Stack' or 'full stack' or 'Developer' or 'developer' or 'END' or 'end' in i:\n",
    "        Standered_title.append('Software Engneering') \n",
    "\n",
    "    else:\n",
    "        Standered_title.append('not mentioned')  \n",
    "#levels\n",
    "print(set(Standered_title))\n",
    "print(len(Standered_title))\n",
    "print(len(df_14_16_copy.job_title))\n",
    "\n",
    "df_14_16_copy['Standered_Title']=Standered_title\n",
    "        "
   ]
  },
  {
   "cell_type": "code",
   "execution_count": 833,
   "id": "b52ab01d",
   "metadata": {},
   "outputs": [
    {
     "data": {
      "text/html": [
       "<div>\n",
       "<style scoped>\n",
       "    .dataframe tbody tr th:only-of-type {\n",
       "        vertical-align: middle;\n",
       "    }\n",
       "\n",
       "    .dataframe tbody tr th {\n",
       "        vertical-align: top;\n",
       "    }\n",
       "\n",
       "    .dataframe thead th {\n",
       "        text-align: right;\n",
       "    }\n",
       "</style>\n",
       "<table border=\"1\" class=\"dataframe\">\n",
       "  <thead>\n",
       "    <tr style=\"text-align: right;\">\n",
       "      <th></th>\n",
       "      <th>location</th>\n",
       "      <th>job_title</th>\n",
       "      <th>Standered_Title</th>\n",
       "      <th>job_industry</th>\n",
       "      <th>salary_minimum</th>\n",
       "      <th>salary_maximum</th>\n",
       "      <th>num_vacancies</th>\n",
       "      <th>level</th>\n",
       "      <th>experience_years</th>\n",
       "      <th>post_date</th>\n",
       "      <th>views</th>\n",
       "      <th>description</th>\n",
       "      <th>job_requirements</th>\n",
       "      <th>payment_period</th>\n",
       "      <th>currency</th>\n",
       "    </tr>\n",
       "  </thead>\n",
       "  <tbody>\n",
       "    <tr>\n",
       "      <th>0</th>\n",
       "      <td>Cairo</td>\n",
       "      <td>Senior PHP Developer</td>\n",
       "      <td>Software Engneering</td>\n",
       "      <td>Computer Software</td>\n",
       "      <td>3500.0</td>\n",
       "      <td>7500.0</td>\n",
       "      <td>5.0</td>\n",
       "      <td>Experienced (Non-Manager)</td>\n",
       "      <td>7-Mar</td>\n",
       "      <td>2014-01-05 19:01:00</td>\n",
       "      <td>1055.0</td>\n",
       "      <td>Desired Experience  PHP Development Experience...</td>\n",
       "      <td>1. Solid commercial knowledge of PHP, XHTML, C...</td>\n",
       "      <td>Per Month</td>\n",
       "      <td>Egyptian Pound</td>\n",
       "    </tr>\n",
       "    <tr>\n",
       "      <th>1</th>\n",
       "      <td>Alexandria</td>\n",
       "      <td>Secretary</td>\n",
       "      <td>Software Engneering</td>\n",
       "      <td>Medical Devices and Supplies</td>\n",
       "      <td>1200.0</td>\n",
       "      <td>1800.0</td>\n",
       "      <td>1.0</td>\n",
       "      <td>Entry Level</td>\n",
       "      <td>0-5</td>\n",
       "      <td>2014-01-16 13:01:00</td>\n",
       "      <td>1752.0</td>\n",
       "      <td>Job Description: Coordination for departments,...</td>\n",
       "      <td>Must be Male</td>\n",
       "      <td>Per Month</td>\n",
       "      <td>Egyptian Pound</td>\n",
       "    </tr>\n",
       "    <tr>\n",
       "      <th>2</th>\n",
       "      <td>Cairo</td>\n",
       "      <td>Tour operator and Social Media Associate</td>\n",
       "      <td>Software Engneering</td>\n",
       "      <td>Online Media</td>\n",
       "      <td>800.0</td>\n",
       "      <td>1700.0</td>\n",
       "      <td>1.0</td>\n",
       "      <td>Experienced (Non-Manager)</td>\n",
       "      <td>2-Jan</td>\n",
       "      <td>2014-01-18 22:01:00</td>\n",
       "      <td>1021.0</td>\n",
       "      <td>We are looking for a super star who have past ...</td>\n",
       "      <td>Tour operator reuirments:  1-2 years minumum e...</td>\n",
       "      <td>Per Month</td>\n",
       "      <td>Egyptian Pound</td>\n",
       "    </tr>\n",
       "    <tr>\n",
       "      <th>3</th>\n",
       "      <td>Cairo</td>\n",
       "      <td>Web Developer</td>\n",
       "      <td>Software Engneering</td>\n",
       "      <td>Computer Software</td>\n",
       "      <td>2000.0</td>\n",
       "      <td>3000.0</td>\n",
       "      <td>1.0</td>\n",
       "      <td>Entry Level</td>\n",
       "      <td>2</td>\n",
       "      <td>2014-01-19 13:01:00</td>\n",
       "      <td>1.0</td>\n",
       "      <td>Write your job summary and responsibilities.</td>\n",
       "      <td>Write required skills and expertise of desired...</td>\n",
       "      <td>Per Month</td>\n",
       "      <td>Egyptian Pound</td>\n",
       "    </tr>\n",
       "    <tr>\n",
       "      <th>4</th>\n",
       "      <td>Cairo</td>\n",
       "      <td>Business Intelligence</td>\n",
       "      <td>Software Engneering</td>\n",
       "      <td>Computer Software</td>\n",
       "      <td>4000.0</td>\n",
       "      <td>6000.0</td>\n",
       "      <td>5.0</td>\n",
       "      <td>Experienced (Non-Manager)</td>\n",
       "      <td>2+</td>\n",
       "      <td>2014-01-19 15:01:00</td>\n",
       "      <td>1215.0</td>\n",
       "      <td>Performs a variety of development assignments...</td>\n",
       "      <td>#NAME?</td>\n",
       "      <td>Per Month</td>\n",
       "      <td>Egyptian Pound</td>\n",
       "    </tr>\n",
       "  </tbody>\n",
       "</table>\n",
       "</div>"
      ],
      "text/plain": [
       "     location                                 job_title      Standered_Title  \\\n",
       "0       Cairo                      Senior PHP Developer  Software Engneering   \n",
       "1  Alexandria                                Secretary   Software Engneering   \n",
       "2       Cairo  Tour operator and Social Media Associate  Software Engneering   \n",
       "3       Cairo                             Web Developer  Software Engneering   \n",
       "4       Cairo                    Business Intelligence   Software Engneering   \n",
       "\n",
       "                   job_industry  salary_minimum  salary_maximum  \\\n",
       "0             Computer Software          3500.0          7500.0   \n",
       "1  Medical Devices and Supplies          1200.0          1800.0   \n",
       "2               Online Media              800.0          1700.0   \n",
       "3             Computer Software          2000.0          3000.0   \n",
       "4             Computer Software          4000.0          6000.0   \n",
       "\n",
       "   num_vacancies                      level experience_years  \\\n",
       "0            5.0  Experienced (Non-Manager)            7-Mar   \n",
       "1            1.0                Entry Level              0-5   \n",
       "2            1.0  Experienced (Non-Manager)            2-Jan   \n",
       "3            1.0                Entry Level                2   \n",
       "4            5.0  Experienced (Non-Manager)               2+   \n",
       "\n",
       "            post_date   views  \\\n",
       "0 2014-01-05 19:01:00  1055.0   \n",
       "1 2014-01-16 13:01:00  1752.0   \n",
       "2 2014-01-18 22:01:00  1021.0   \n",
       "3 2014-01-19 13:01:00     1.0   \n",
       "4 2014-01-19 15:01:00  1215.0   \n",
       "\n",
       "                                         description  \\\n",
       "0  Desired Experience  PHP Development Experience...   \n",
       "1  Job Description: Coordination for departments,...   \n",
       "2  We are looking for a super star who have past ...   \n",
       "3       Write your job summary and responsibilities.   \n",
       "4   Performs a variety of development assignments...   \n",
       "\n",
       "                                    job_requirements payment_period  \\\n",
       "0  1. Solid commercial knowledge of PHP, XHTML, C...      Per Month   \n",
       "1                                       Must be Male      Per Month   \n",
       "2  Tour operator reuirments:  1-2 years minumum e...      Per Month   \n",
       "3  Write required skills and expertise of desired...      Per Month   \n",
       "4                                             #NAME?      Per Month   \n",
       "\n",
       "         currency  \n",
       "0  Egyptian Pound  \n",
       "1  Egyptian Pound  \n",
       "2  Egyptian Pound  \n",
       "3  Egyptian Pound  \n",
       "4  Egyptian Pound  "
      ]
     },
     "execution_count": 833,
     "metadata": {},
     "output_type": "execute_result"
    }
   ],
   "source": [
    "df_14_16_copy.head()"
   ]
  },
  {
   "cell_type": "markdown",
   "id": "4423bfd2",
   "metadata": {},
   "source": [
    "## Define\n",
    "\n",
    "- experience must be an integer"
   ]
  },
  {
   "cell_type": "markdown",
   "id": "e48c3025",
   "metadata": {},
   "source": [
    "## Code"
   ]
  },
  {
   "cell_type": "code",
   "execution_count": 834,
   "id": "011e98a4",
   "metadata": {},
   "outputs": [],
   "source": [
    "df_14_16_copy.experience_years=df_14_16_copy.experience_years.str.extract('(\\d+)')"
   ]
  },
  {
   "cell_type": "code",
   "execution_count": 835,
   "id": "fcf628ad",
   "metadata": {},
   "outputs": [],
   "source": [
    "df_14_16_copy.experience_years=pd.to_numeric(df_14_16_copy.experience_years)"
   ]
  },
  {
   "cell_type": "markdown",
   "id": "c0c84b10",
   "metadata": {},
   "source": [
    "## Test"
   ]
  },
  {
   "cell_type": "code",
   "execution_count": 836,
   "id": "77cfadc5",
   "metadata": {},
   "outputs": [
    {
     "data": {
      "text/plain": [
       "0        7\n",
       "1        0\n",
       "2        2\n",
       "3        2\n",
       "4        2\n",
       "        ..\n",
       "12832    9\n",
       "12833    4\n",
       "12834    5\n",
       "12835    0\n",
       "12836    3\n",
       "Name: experience_years, Length: 12819, dtype: int64"
      ]
     },
     "execution_count": 836,
     "metadata": {},
     "output_type": "execute_result"
    }
   ],
   "source": [
    "df_14_16_copy.experience_years"
   ]
  },
  {
   "cell_type": "markdown",
   "id": "ce77848e",
   "metadata": {},
   "source": [
    "## Define\n",
    "\n",
    "- last thing we wil do is to change the post_date coulmn to be the year only"
   ]
  },
  {
   "cell_type": "markdown",
   "id": "f11fe0ec",
   "metadata": {},
   "source": [
    "## Code"
   ]
  },
  {
   "cell_type": "code",
   "execution_count": 837,
   "id": "d0671480",
   "metadata": {},
   "outputs": [
    {
     "data": {
      "text/plain": [
       "Index(['location', 'job_title', 'Standered_Title', 'job_industry',\n",
       "       'salary_minimum', 'salary_maximum', 'num_vacancies', 'level',\n",
       "       'experience_years', 'post_date', 'views', 'description',\n",
       "       'job_requirements', 'payment_period', 'currency'],\n",
       "      dtype='object')"
      ]
     },
     "execution_count": 837,
     "metadata": {},
     "output_type": "execute_result"
    }
   ],
   "source": [
    "df_14_16_copy.columns"
   ]
  },
  {
   "cell_type": "code",
   "execution_count": 838,
   "id": "00e39ebd",
   "metadata": {},
   "outputs": [],
   "source": [
    "df_14_16_copy['year']=df_14_16_copy.post_date.dt.year\n",
    "df_14_16_copy.drop('post_date',axis=1,inplace=True)"
   ]
  },
  {
   "cell_type": "markdown",
   "id": "1d30d78d",
   "metadata": {},
   "source": [
    "## Test"
   ]
  },
  {
   "cell_type": "code",
   "execution_count": 839,
   "id": "77abfc27",
   "metadata": {},
   "outputs": [
    {
     "data": {
      "text/plain": [
       "2015    6215\n",
       "2016    3398\n",
       "2014    3206\n",
       "Name: year, dtype: int64"
      ]
     },
     "execution_count": 839,
     "metadata": {},
     "output_type": "execute_result"
    }
   ],
   "source": [
    "df_14_16_copy.year.value_counts()"
   ]
  },
  {
   "cell_type": "markdown",
   "id": "4367ed42",
   "metadata": {},
   "source": [
    "## Define\n",
    "\n",
    "- some minimum and maximum salaries containes are zeros or needed to be fixed"
   ]
  },
  {
   "cell_type": "code",
   "execution_count": 840,
   "id": "75338489",
   "metadata": {},
   "outputs": [
    {
     "data": {
      "text/plain": [
       "(113, 15)"
      ]
     },
     "execution_count": 840,
     "metadata": {},
     "output_type": "execute_result"
    }
   ],
   "source": [
    "df_14_16_copy[df_14_16_copy.salary_minimum==0].shape"
   ]
  },
  {
   "cell_type": "code",
   "execution_count": 841,
   "id": "62d10a95",
   "metadata": {},
   "outputs": [
    {
     "data": {
      "text/plain": [
       "0        3500.0\n",
       "1        1200.0\n",
       "2         800.0\n",
       "3        2000.0\n",
       "4        4000.0\n",
       "          ...  \n",
       "12832    4000.0\n",
       "12833    5000.0\n",
       "12834    5000.0\n",
       "12835    1000.0\n",
       "12836    6000.0\n",
       "Name: salary_minimum, Length: 12819, dtype: float64"
      ]
     },
     "execution_count": 841,
     "metadata": {},
     "output_type": "execute_result"
    }
   ],
   "source": [
    "df_14_16_copy.salary_minimum"
   ]
  },
  {
   "cell_type": "code",
   "execution_count": 842,
   "id": "9c84d851",
   "metadata": {},
   "outputs": [
    {
     "data": {
      "text/plain": [
       "0        7500.0\n",
       "1        1800.0\n",
       "2        1700.0\n",
       "3        3000.0\n",
       "4        6000.0\n",
       "          ...  \n",
       "12832    4500.0\n",
       "12833    6000.0\n",
       "12834    7000.0\n",
       "12835    1000.0\n",
       "12836    8000.0\n",
       "Name: salary_maximum, Length: 12819, dtype: float64"
      ]
     },
     "execution_count": 842,
     "metadata": {},
     "output_type": "execute_result"
    }
   ],
   "source": [
    "df_14_16_copy.salary_maximum"
   ]
  },
  {
   "cell_type": "markdown",
   "id": "4df80350",
   "metadata": {},
   "source": [
    "## Code"
   ]
  },
  {
   "cell_type": "code",
   "execution_count": 843,
   "id": "e1b43f5d",
   "metadata": {},
   "outputs": [],
   "source": [
    "minimum_mean=df_14_16_copy.salary_minimum.mean()\n",
    "maximum_mean=df_14_16_copy.salary_maximum.mean()"
   ]
  },
  {
   "cell_type": "code",
   "execution_count": 844,
   "id": "93e9ce74",
   "metadata": {},
   "outputs": [],
   "source": [
    "df_14_16_copy.salary_minimum.replace(0.0,minimum_mean,inplace=True)\n",
    "df_14_16_copy.salary_maximum.replace(0.0,maximum_mean,inplace=True)"
   ]
  },
  {
   "cell_type": "code",
   "execution_count": 845,
   "id": "f5e3c230",
   "metadata": {},
   "outputs": [],
   "source": [
    "ind=df_14_16_copy[(df_14_16_copy.salary_minimum<100) & (df_14_16_copy.payment_period=='Per Month')].index\n",
    "for i in ind:\n",
    "    val=df_14_16_copy.salary_minimum[i]\n",
    "    df_14_16_copy.salary_minimum.replace(val,minimum_mean,inplace=True)\n",
    "\n",
    "ind_2=df_14_16_copy[(df_14_16_copy.salary_maximum<100) & (df_14_16_copy.payment_period=='Per Month')].index    \n",
    "for i in ind_2:\n",
    "    val=df_14_16_copy.salary_maximum[i]\n",
    "    df_14_16_copy.salary_maximum.replace(val,maximum_mean,inplace=True)\n"
   ]
  },
  {
   "cell_type": "markdown",
   "id": "177f4058",
   "metadata": {},
   "source": [
    "## Test"
   ]
  },
  {
   "cell_type": "code",
   "execution_count": 846,
   "id": "6fe9449f",
   "metadata": {},
   "outputs": [
    {
     "data": {
      "text/html": [
       "<div>\n",
       "<style scoped>\n",
       "    .dataframe tbody tr th:only-of-type {\n",
       "        vertical-align: middle;\n",
       "    }\n",
       "\n",
       "    .dataframe tbody tr th {\n",
       "        vertical-align: top;\n",
       "    }\n",
       "\n",
       "    .dataframe thead th {\n",
       "        text-align: right;\n",
       "    }\n",
       "</style>\n",
       "<table border=\"1\" class=\"dataframe\">\n",
       "  <thead>\n",
       "    <tr style=\"text-align: right;\">\n",
       "      <th></th>\n",
       "      <th>location</th>\n",
       "      <th>job_title</th>\n",
       "      <th>Standered_Title</th>\n",
       "      <th>job_industry</th>\n",
       "      <th>salary_minimum</th>\n",
       "      <th>salary_maximum</th>\n",
       "      <th>num_vacancies</th>\n",
       "      <th>level</th>\n",
       "      <th>experience_years</th>\n",
       "      <th>views</th>\n",
       "      <th>description</th>\n",
       "      <th>job_requirements</th>\n",
       "      <th>payment_period</th>\n",
       "      <th>currency</th>\n",
       "      <th>year</th>\n",
       "    </tr>\n",
       "  </thead>\n",
       "  <tbody>\n",
       "  </tbody>\n",
       "</table>\n",
       "</div>"
      ],
      "text/plain": [
       "Empty DataFrame\n",
       "Columns: [location, job_title, Standered_Title, job_industry, salary_minimum, salary_maximum, num_vacancies, level, experience_years, views, description, job_requirements, payment_period, currency, year]\n",
       "Index: []"
      ]
     },
     "execution_count": 846,
     "metadata": {},
     "output_type": "execute_result"
    }
   ],
   "source": [
    "df_14_16_copy[df_14_16_copy.salary_minimum==0]"
   ]
  },
  {
   "cell_type": "markdown",
   "id": "719f0226",
   "metadata": {},
   "source": [
    "## Define\n",
    "\n",
    "- some columns data have arabic words or not encoded well"
   ]
  },
  {
   "cell_type": "code",
   "execution_count": 847,
   "id": "c4922cee",
   "metadata": {},
   "outputs": [
    {
     "data": {
      "text/html": [
       "<div>\n",
       "<style scoped>\n",
       "    .dataframe tbody tr th:only-of-type {\n",
       "        vertical-align: middle;\n",
       "    }\n",
       "\n",
       "    .dataframe tbody tr th {\n",
       "        vertical-align: top;\n",
       "    }\n",
       "\n",
       "    .dataframe thead th {\n",
       "        text-align: right;\n",
       "    }\n",
       "</style>\n",
       "<table border=\"1\" class=\"dataframe\">\n",
       "  <thead>\n",
       "    <tr style=\"text-align: right;\">\n",
       "      <th></th>\n",
       "      <th>location</th>\n",
       "      <th>job_title</th>\n",
       "      <th>Standered_Title</th>\n",
       "      <th>job_industry</th>\n",
       "      <th>salary_minimum</th>\n",
       "      <th>salary_maximum</th>\n",
       "      <th>num_vacancies</th>\n",
       "      <th>level</th>\n",
       "      <th>experience_years</th>\n",
       "      <th>views</th>\n",
       "      <th>description</th>\n",
       "      <th>job_requirements</th>\n",
       "      <th>payment_period</th>\n",
       "      <th>currency</th>\n",
       "      <th>year</th>\n",
       "    </tr>\n",
       "  </thead>\n",
       "  <tbody>\n",
       "    <tr>\n",
       "      <th>127</th>\n",
       "      <td>Cairo</td>\n",
       "      <td>�&amp;صحح ���&amp;د�_x001A_�_x001A_ �_x001E_غة عرب�`ة</td>\n",
       "      <td>Software Engneering</td>\n",
       "      <td>Internet Services</td>\n",
       "      <td>1200.0</td>\n",
       "      <td>1500.0</td>\n",
       "      <td>1.0</td>\n",
       "      <td>Experienced (Non-Manager)</td>\n",
       "      <td>2</td>\n",
       "      <td>2879.0</td>\n",
       "      <td>ØªØªÙ…Ø«Ù„ ÙˆØ¸ÙŠÙØ© Ø§Ù„Ù…Ø¯Ù‚Ù‚ Ø§Ù„Ù„ØºÙˆÙ...</td>\n",
       "      <td>Ø§Ù„ÙˆØµÙ Ø§Ù„ÙˆØ¸ÙŠÙÙŠ:  Ù…Ø±Ø§Ø¬Ø¹Ø© Ø§Ù„Ø...</td>\n",
       "      <td>Per Month</td>\n",
       "      <td>Egyptian Pound</td>\n",
       "      <td>2014</td>\n",
       "    </tr>\n",
       "    <tr>\n",
       "      <th>773</th>\n",
       "      <td>Giza</td>\n",
       "      <td>�&amp;راجع �_x001E_غة عرب�`ة</td>\n",
       "      <td>Software Engneering</td>\n",
       "      <td>Translation and Localization</td>\n",
       "      <td>1100.0</td>\n",
       "      <td>2000.0</td>\n",
       "      <td>2.0</td>\n",
       "      <td>Experienced (Non-Manager)</td>\n",
       "      <td>7</td>\n",
       "      <td>1410.0</td>\n",
       "      <td>Ø§Ù„Ù…Ø³Ø¤ÙˆÙ„ÙŠØ§Øª  Ù…Ø±Ø§Ø¬Ø¹Ø© Ø§Ù„Ù†ØµÙˆØ...</td>\n",
       "      <td>Ø®Ø±ÙŠØ¬ ÙƒÙ„ÙŠØ© Ø¯Ø§Ø± Ø¹Ù„ÙˆÙ… , Ù„ÙŠØ³Ø§Ù...</td>\n",
       "      <td>Per Month</td>\n",
       "      <td>Egyptian Pound</td>\n",
       "      <td>2014</td>\n",
       "    </tr>\n",
       "    <tr>\n",
       "      <th>1256</th>\n",
       "      <td>Cairo</td>\n",
       "      <td>�_x001E_��ظ�`فة ج�`دة - �&amp;ط�_x001E_��ب �&amp;�!� د...</td>\n",
       "      <td>Software Engneering</td>\n",
       "      <td>Computer Hardware</td>\n",
       "      <td>1300.0</td>\n",
       "      <td>4000.0</td>\n",
       "      <td>1.0</td>\n",
       "      <td>Experienced (Non-Manager)</td>\n",
       "      <td>2</td>\n",
       "      <td>6.0</td>\n",
       "      <td>Ù„ÙˆØ¸ÙŠÙØ© Ø¬ÙŠØ¯Ø© - Ù…Ø·Ù„ÙˆØ¨ Ù…Ù‡Ù†Ø¯Ø...</td>\n",
       "      <td>Ø§Ù„ÙƒÙØ§Ø¡Ø© Ø§Ù„ØªØ§Ù…Ø© ÙÙŠ Ø§Ù„ØªØ¹Ø§Ù…...</td>\n",
       "      <td>Per Month</td>\n",
       "      <td>Egyptian Pound</td>\n",
       "      <td>2014</td>\n",
       "    </tr>\n",
       "    <tr>\n",
       "      <th>1736</th>\n",
       "      <td>Cairo</td>\n",
       "      <td>�&amp;شرف ص�`ا� ة س�`ارات �_x001E_د�0 ا�_x001E_شرْة</td>\n",
       "      <td>Software Engneering</td>\n",
       "      <td>Food and Beverage Production</td>\n",
       "      <td>1500.0</td>\n",
       "      <td>2000.0</td>\n",
       "      <td>1.0</td>\n",
       "      <td>Experienced (Non-Manager)</td>\n",
       "      <td>3</td>\n",
       "      <td>1553.0</td>\n",
       "      <td>ÙŠÙ‚ÙˆÙ… Ø¨Ø¹Ù…Ù„ ØµÙŠØ§Ù†Ø© ÙƒØ§Ù…Ù„Ø© Ù„Ù…...</td>\n",
       "      <td>�&amp;ؤ�!�_x001E_ �&amp;ت��سط/ ف���_x001A_ �&amp;ت��سط�`ج�...</td>\n",
       "      <td>Per Month</td>\n",
       "      <td>Egyptian Pound</td>\n",
       "      <td>2014</td>\n",
       "    </tr>\n",
       "    <tr>\n",
       "      <th>1856</th>\n",
       "      <td>Cairo</td>\n",
       "      <td>�&amp;صحح ���&amp;د�_x001A_�_x001A_ �_x001E_غة عرب�`ة</td>\n",
       "      <td>Software Engneering</td>\n",
       "      <td>Internet Services</td>\n",
       "      <td>1200.0</td>\n",
       "      <td>1500.0</td>\n",
       "      <td>1.0</td>\n",
       "      <td>Experienced (Non-Manager)</td>\n",
       "      <td>2</td>\n",
       "      <td>1937.0</td>\n",
       "      <td>ØªØªÙ…Ø«Ù„ ÙˆØ¸ÙŠÙØ© Ø§Ù„Ù…Ø¯Ù‚Ù‚ Ø§Ù„Ù„ØºÙˆÙ...</td>\n",
       "      <td>Ø§Ù„ÙˆØµÙ Ø§Ù„ÙˆØ¸ÙŠÙÙŠ:  Ù…Ø±Ø§Ø¬Ø¹Ø© Ø§Ù„Ø...</td>\n",
       "      <td>Per Month</td>\n",
       "      <td>Egyptian Pound</td>\n",
       "      <td>2014</td>\n",
       "    </tr>\n",
       "  </tbody>\n",
       "</table>\n",
       "</div>"
      ],
      "text/plain": [
       "     location                                          job_title  \\\n",
       "127     Cairo      �&صحح ���&د�_x001A_�_x001A_ �_x001E_غة عرب�`ة   \n",
       "773      Giza                           �&راجع �_x001E_غة عرب�`ة   \n",
       "1256    Cairo  �_x001E_��ظ�`فة ج�`دة - �&ط�_x001E_��ب �&�!� د...   \n",
       "1736    Cairo   �&شرف ص�`ا� ة س�`ارات �_x001E_د�0 ا�_x001E_شرْة    \n",
       "1856    Cairo      �&صحح ���&د�_x001A_�_x001A_ �_x001E_غة عرب�`ة   \n",
       "\n",
       "          Standered_Title                     job_industry  salary_minimum  \\\n",
       "127   Software Engneering                Internet Services          1200.0   \n",
       "773   Software Engneering  Translation and Localization             1100.0   \n",
       "1256  Software Engneering                Computer Hardware          1300.0   \n",
       "1736  Software Engneering     Food and Beverage Production          1500.0   \n",
       "1856  Software Engneering                Internet Services          1200.0   \n",
       "\n",
       "      salary_maximum  num_vacancies                      level  \\\n",
       "127           1500.0            1.0  Experienced (Non-Manager)   \n",
       "773           2000.0            2.0  Experienced (Non-Manager)   \n",
       "1256          4000.0            1.0  Experienced (Non-Manager)   \n",
       "1736          2000.0            1.0  Experienced (Non-Manager)   \n",
       "1856          1500.0            1.0  Experienced (Non-Manager)   \n",
       "\n",
       "      experience_years   views  \\\n",
       "127                  2  2879.0   \n",
       "773                  7  1410.0   \n",
       "1256                 2     6.0   \n",
       "1736                 3  1553.0   \n",
       "1856                 2  1937.0   \n",
       "\n",
       "                                            description  \\\n",
       "127   ØªØªÙ…Ø«Ù„ ÙˆØ¸ÙŠÙØ© Ø§Ù„Ù…Ø¯Ù‚Ù‚ Ø§Ù„Ù„ØºÙˆÙ...   \n",
       "773   Ø§Ù„Ù…Ø³Ø¤ÙˆÙ„ÙŠØ§Øª  Ù…Ø±Ø§Ø¬Ø¹Ø© Ø§Ù„Ù†ØµÙˆØ...   \n",
       "1256    Ù„ÙˆØ¸ÙŠÙØ© Ø¬ÙŠØ¯Ø© - Ù…Ø·Ù„ÙˆØ¨ Ù…Ù‡Ù†Ø¯Ø...   \n",
       "1736    ÙŠÙ‚ÙˆÙ… Ø¨Ø¹Ù…Ù„ ØµÙŠØ§Ù†Ø© ÙƒØ§Ù…Ù„Ø© Ù„Ù…...   \n",
       "1856  ØªØªÙ…Ø«Ù„ ÙˆØ¸ÙŠÙØ© Ø§Ù„Ù…Ø¯Ù‚Ù‚ Ø§Ù„Ù„ØºÙˆÙ...   \n",
       "\n",
       "                                       job_requirements payment_period  \\\n",
       "127   Ø§Ù„ÙˆØµÙ Ø§Ù„ÙˆØ¸ÙŠÙÙŠ:  Ù…Ø±Ø§Ø¬Ø¹Ø© Ø§Ù„Ø...      Per Month   \n",
       "773    Ø®Ø±ÙŠØ¬ ÙƒÙ„ÙŠØ© Ø¯Ø§Ø± Ø¹Ù„ÙˆÙ… , Ù„ÙŠØ³Ø§Ù...      Per Month   \n",
       "1256   Ø§Ù„ÙƒÙØ§Ø¡Ø© Ø§Ù„ØªØ§Ù…Ø© ÙÙŠ Ø§Ù„ØªØ¹Ø§Ù…...      Per Month   \n",
       "1736  �&ؤ�!�_x001E_ �&ت��سط/ ف���_x001A_ �&ت��سط�`ج�...      Per Month   \n",
       "1856  Ø§Ù„ÙˆØµÙ Ø§Ù„ÙˆØ¸ÙŠÙÙŠ:  Ù…Ø±Ø§Ø¬Ø¹Ø© Ø§Ù„Ø...      Per Month   \n",
       "\n",
       "            currency  year  \n",
       "127   Egyptian Pound  2014  \n",
       "773   Egyptian Pound  2014  \n",
       "1256  Egyptian Pound  2014  \n",
       "1736  Egyptian Pound  2014  \n",
       "1856  Egyptian Pound  2014  "
      ]
     },
     "execution_count": 847,
     "metadata": {},
     "output_type": "execute_result"
    }
   ],
   "source": [
    "pattern = '(?<![\\u0600-\\u06ff])[\\u0600-\\u06ff](?![\\u0600-\\u06ff])'\n",
    "df_14_16_copy[df_14_16_copy['job_title'].str.contains(pattern)].head()"
   ]
  },
  {
   "cell_type": "code",
   "execution_count": 848,
   "id": "395305c9",
   "metadata": {},
   "outputs": [
    {
     "data": {
      "text/html": [
       "<div>\n",
       "<style scoped>\n",
       "    .dataframe tbody tr th:only-of-type {\n",
       "        vertical-align: middle;\n",
       "    }\n",
       "\n",
       "    .dataframe tbody tr th {\n",
       "        vertical-align: top;\n",
       "    }\n",
       "\n",
       "    .dataframe thead th {\n",
       "        text-align: right;\n",
       "    }\n",
       "</style>\n",
       "<table border=\"1\" class=\"dataframe\">\n",
       "  <thead>\n",
       "    <tr style=\"text-align: right;\">\n",
       "      <th></th>\n",
       "      <th>location</th>\n",
       "      <th>job_title</th>\n",
       "      <th>Standered_Title</th>\n",
       "      <th>job_industry</th>\n",
       "      <th>salary_minimum</th>\n",
       "      <th>salary_maximum</th>\n",
       "      <th>num_vacancies</th>\n",
       "      <th>level</th>\n",
       "      <th>experience_years</th>\n",
       "      <th>views</th>\n",
       "      <th>description</th>\n",
       "      <th>job_requirements</th>\n",
       "      <th>payment_period</th>\n",
       "      <th>currency</th>\n",
       "      <th>year</th>\n",
       "    </tr>\n",
       "  </thead>\n",
       "  <tbody>\n",
       "    <tr>\n",
       "      <th>667</th>\n",
       "      <td>Giza</td>\n",
       "      <td>24 St Elanab mohandseen</td>\n",
       "      <td>Software Engneering</td>\n",
       "      <td>Advertising and PR Services</td>\n",
       "      <td>600.0</td>\n",
       "      <td>4800.0</td>\n",
       "      <td>1.0</td>\n",
       "      <td>Student</td>\n",
       "      <td>1</td>\n",
       "      <td>2.0</td>\n",
       "      <td>�&amp;ط�_x001E_��ب �_x001E_�_x001E_ع�&amp;�_x001E_ �&amp;�...</td>\n",
       "      <td>�&amp;ط�_x001E_��ب �_x001E_�_x001E_ع�&amp;�_x001E_ �&amp;�...</td>\n",
       "      <td>Per Week</td>\n",
       "      <td>Egyptian Pound</td>\n",
       "      <td>2014</td>\n",
       "    </tr>\n",
       "    <tr>\n",
       "      <th>761</th>\n",
       "      <td>Cairo</td>\n",
       "      <td>IT - Trainee</td>\n",
       "      <td>IT</td>\n",
       "      <td>Information Technology Services</td>\n",
       "      <td>800.0</td>\n",
       "      <td>1500.0</td>\n",
       "      <td>100.0</td>\n",
       "      <td>Entry Level</td>\n",
       "      <td>0</td>\n",
       "      <td>1495.0</td>\n",
       "      <td>Ø§Ù„ØªÙØ§ØµÙŠÙ„ :ÙƒØªÙŠØ± Ù…Ù†Ø§ Ø§Ø®Ø¯ ÙƒÙˆØ...</td>\n",
       "      <td>AÙSP .NET OOP Microsoft SQL Server -transac...</td>\n",
       "      <td>Per Month</td>\n",
       "      <td>Egyptian Pound</td>\n",
       "      <td>2014</td>\n",
       "    </tr>\n",
       "    <tr>\n",
       "      <th>1195</th>\n",
       "      <td>Cairo</td>\n",
       "      <td>Customer Service</td>\n",
       "      <td>Software Engneering</td>\n",
       "      <td>Import and Export</td>\n",
       "      <td>1000.0</td>\n",
       "      <td>1500.0</td>\n",
       "      <td>1.0</td>\n",
       "      <td>Entry Level</td>\n",
       "      <td>3</td>\n",
       "      <td>0.0</td>\n",
       "      <td>سْرتار�`ة خد�&amp;ة ع�&amp;�_x001E_اء ��ت�_x001E_�0 س�...</td>\n",
       "      <td>-Experinced Is a MustEnglish Languagecan Handl...</td>\n",
       "      <td>Per Month</td>\n",
       "      <td>Egyptian Pound</td>\n",
       "      <td>2014</td>\n",
       "    </tr>\n",
       "    <tr>\n",
       "      <th>1272</th>\n",
       "      <td>East Owainat</td>\n",
       "      <td>Irrigation Engineer</td>\n",
       "      <td>Software Engneering</td>\n",
       "      <td>Agriculture/Forestry/Fishing/Farming</td>\n",
       "      <td>2500.0</td>\n",
       "      <td>3000.0</td>\n",
       "      <td>2.0</td>\n",
       "      <td>Entry Level</td>\n",
       "      <td>0</td>\n",
       "      <td>770.0</td>\n",
       "      <td>ÙŠÙ‚ÙˆÙ… Ø¨Ø§Ù„Ù…Ù‡Ø§Ù… Ø§Ù„ØªØ§Ù„ÙŠØ© :  ÙŠØ®...</td>\n",
       "      <td>Ø§Ù„Ø´Ø±ÙˆØ· Ø§Ù„Ù…Ø·Ù„ÙˆØ¨Ø©  Ù‚Ø§Ø¯Ø± Ø¹Ù„Ù‰...</td>\n",
       "      <td>Per Month</td>\n",
       "      <td>Egyptian Pound</td>\n",
       "      <td>2014</td>\n",
       "    </tr>\n",
       "    <tr>\n",
       "      <th>2055</th>\n",
       "      <td>Giza</td>\n",
       "      <td>Electric Engineer</td>\n",
       "      <td>Software Engneering</td>\n",
       "      <td>Engineering Services</td>\n",
       "      <td>1200.0</td>\n",
       "      <td>1500.0</td>\n",
       "      <td>1.0</td>\n",
       "      <td>Experienced (Non-Manager)</td>\n",
       "      <td>3</td>\n",
       "      <td>1402.0</td>\n",
       "      <td>�&amp;ط�_x001E_��ب �&amp;�!� دس ْ�!رباء ( ت�`ار خف�`ف ...</td>\n",
       "      <td>خبرة �_x001E_ا ت�_x001A_�_x001E_ ع�  3 س� ��ات...</td>\n",
       "      <td>Per Month</td>\n",
       "      <td>Egyptian Pound</td>\n",
       "      <td>2014</td>\n",
       "    </tr>\n",
       "  </tbody>\n",
       "</table>\n",
       "</div>"
      ],
      "text/plain": [
       "          location                job_title      Standered_Title  \\\n",
       "667           Giza  24 St Elanab mohandseen  Software Engneering   \n",
       "761          Cairo             IT - Trainee                   IT   \n",
       "1195         Cairo         Customer Service  Software Engneering   \n",
       "1272  East Owainat      Irrigation Engineer  Software Engneering   \n",
       "2055          Giza       Electric Engineer   Software Engneering   \n",
       "\n",
       "                              job_industry  salary_minimum  salary_maximum  \\\n",
       "667            Advertising and PR Services           600.0          4800.0   \n",
       "761     Information Technology Services              800.0          1500.0   \n",
       "1195                  Import and Export             1000.0          1500.0   \n",
       "1272  Agriculture/Forestry/Fishing/Farming          2500.0          3000.0   \n",
       "2055                  Engineering Services          1200.0          1500.0   \n",
       "\n",
       "      num_vacancies                      level  experience_years   views  \\\n",
       "667             1.0                    Student                 1     2.0   \n",
       "761           100.0                Entry Level                 0  1495.0   \n",
       "1195            1.0                Entry Level                 3     0.0   \n",
       "1272            2.0                Entry Level                 0   770.0   \n",
       "2055            1.0  Experienced (Non-Manager)                 3  1402.0   \n",
       "\n",
       "                                            description  \\\n",
       "667   �&ط�_x001E_��ب �_x001E_�_x001E_ع�&�_x001E_ �&�...   \n",
       "761   Ø§Ù„ØªÙØ§ØµÙŠÙ„ :ÙƒØªÙŠØ± Ù…Ù†Ø§ Ø§Ø®Ø¯ ÙƒÙˆØ...   \n",
       "1195  سْرتار�`ة خد�&ة ع�&�_x001E_اء ��ت�_x001E_�0 س�...   \n",
       "1272  ÙŠÙ‚ÙˆÙ… Ø¨Ø§Ù„Ù…Ù‡Ø§Ù… Ø§Ù„ØªØ§Ù„ÙŠØ© :  ÙŠØ®...   \n",
       "2055  �&ط�_x001E_��ب �&�!� دس ْ�!رباء ( ت�`ار خف�`ف ...   \n",
       "\n",
       "                                       job_requirements payment_period  \\\n",
       "667   �&ط�_x001E_��ب �_x001E_�_x001E_ع�&�_x001E_ �&�...       Per Week   \n",
       "761     AÙSP .NET OOP Microsoft SQL Server -transac...      Per Month   \n",
       "1195  -Experinced Is a MustEnglish Languagecan Handl...      Per Month   \n",
       "1272  Ø§Ù„Ø´Ø±ÙˆØ· Ø§Ù„Ù…Ø·Ù„ÙˆØ¨Ø©  Ù‚Ø§Ø¯Ø± Ø¹Ù„Ù‰...      Per Month   \n",
       "2055  خبرة �_x001E_ا ت�_x001A_�_x001E_ ع�  3 س� ��ات...      Per Month   \n",
       "\n",
       "            currency  year  \n",
       "667   Egyptian Pound  2014  \n",
       "761   Egyptian Pound  2014  \n",
       "1195  Egyptian Pound  2014  \n",
       "1272  Egyptian Pound  2014  \n",
       "2055  Egyptian Pound  2014  "
      ]
     },
     "execution_count": 848,
     "metadata": {},
     "output_type": "execute_result"
    }
   ],
   "source": [
    "df_14_16_copy[df_14_16_copy.description.str.contains(pattern)].head()"
   ]
  },
  {
   "cell_type": "code",
   "execution_count": 849,
   "id": "76559e06",
   "metadata": {},
   "outputs": [
    {
     "data": {
      "text/html": [
       "<div>\n",
       "<style scoped>\n",
       "    .dataframe tbody tr th:only-of-type {\n",
       "        vertical-align: middle;\n",
       "    }\n",
       "\n",
       "    .dataframe tbody tr th {\n",
       "        vertical-align: top;\n",
       "    }\n",
       "\n",
       "    .dataframe thead th {\n",
       "        text-align: right;\n",
       "    }\n",
       "</style>\n",
       "<table border=\"1\" class=\"dataframe\">\n",
       "  <thead>\n",
       "    <tr style=\"text-align: right;\">\n",
       "      <th></th>\n",
       "      <th>location</th>\n",
       "      <th>job_title</th>\n",
       "      <th>Standered_Title</th>\n",
       "      <th>job_industry</th>\n",
       "      <th>salary_minimum</th>\n",
       "      <th>salary_maximum</th>\n",
       "      <th>num_vacancies</th>\n",
       "      <th>level</th>\n",
       "      <th>experience_years</th>\n",
       "      <th>views</th>\n",
       "      <th>description</th>\n",
       "      <th>job_requirements</th>\n",
       "      <th>payment_period</th>\n",
       "      <th>currency</th>\n",
       "      <th>year</th>\n",
       "    </tr>\n",
       "  </thead>\n",
       "  <tbody>\n",
       "    <tr>\n",
       "      <th>3166</th>\n",
       "      <td>ا�_x001E_ج�`زة</td>\n",
       "      <td>عا�&amp;�_x001E_ة ���&amp;ساعدة</td>\n",
       "      <td>Software Engneering</td>\n",
       "      <td>Biotechnology</td>\n",
       "      <td>300.000000</td>\n",
       "      <td>440.0</td>\n",
       "      <td>2.0</td>\n",
       "      <td>Entry Level</td>\n",
       "      <td>0</td>\n",
       "      <td>7.0</td>\n",
       "      <td>�&amp;ط�_x001E_��ب عا�&amp;�_x001E_�! ب�&amp;���!�_x001E_ ...</td>\n",
       "      <td>ا�_x001E_�&amp;تط�_x001E_بات1- �&amp;عرفة ا�_x001E_ا� ...</td>\n",
       "      <td>Per Month</td>\n",
       "      <td>Egyptian Pound</td>\n",
       "      <td>2014</td>\n",
       "    </tr>\n",
       "    <tr>\n",
       "      <th>5253</th>\n",
       "      <td>ا�_x001E_�_x001A_ا�!رة</td>\n",
       "      <td>�&amp;ط�_x001E_��ب �&amp;��ظف�`�  تس���`�_x001A_</td>\n",
       "      <td>Software Engneering</td>\n",
       "      <td>Marketing and Advertising</td>\n",
       "      <td>1000.000000</td>\n",
       "      <td>1000.0</td>\n",
       "      <td>1.0</td>\n",
       "      <td>Experienced (Non-Manager)</td>\n",
       "      <td>2</td>\n",
       "      <td>29.0</td>\n",
       "      <td>Ù…ÙˆØ§ØµÙØ§Øª Ø§Ù„Ø¥Ø¹Ù„Ø§Ù† Ù…Ø·Ù„ÙˆØ¨ Ù…ÙˆØ...</td>\n",
       "      <td>�&amp;�!ارت تس���`�_x001A_�`ة عا�_x001E_�`ة أ��ت د...</td>\n",
       "      <td>Per Month</td>\n",
       "      <td>Egyptian Pound</td>\n",
       "      <td>2015</td>\n",
       "    </tr>\n",
       "    <tr>\n",
       "      <th>5379</th>\n",
       "      <td>ا�_x001E_ر�`اض</td>\n",
       "      <td>�&amp;ط�_x001E_��ب �_x001E_�_x001E_ع�&amp;�_x001E_ بشر...</td>\n",
       "      <td>Software Engneering</td>\n",
       "      <td>Engineering Services</td>\n",
       "      <td>5000.000000</td>\n",
       "      <td>150000.0</td>\n",
       "      <td>15.0</td>\n",
       "      <td>Experienced (Non-Manager)</td>\n",
       "      <td>5</td>\n",
       "      <td>4.0</td>\n",
       "      <td>�&amp;ط�_x001E_��ب �&amp;�!� دس�`�  �&amp;د� �0 صرف صح�0 خ...</td>\n",
       "      <td>01158567733eng150150@yahoo.com</td>\n",
       "      <td>Per Month</td>\n",
       "      <td>Egyptian Pound</td>\n",
       "      <td>2015</td>\n",
       "    </tr>\n",
       "    <tr>\n",
       "      <th>6674</th>\n",
       "      <td>ا�_x001E_�_x001A_ا�!ر�!</td>\n",
       "      <td>سْرتار�`�! ��خد�&amp;�! ع�&amp;�_x001E_اء ��ت�_x001E_�...</td>\n",
       "      <td>Software Engneering</td>\n",
       "      <td>Accounting and Auditing Services</td>\n",
       "      <td>3697.747094</td>\n",
       "      <td>1000.0</td>\n",
       "      <td>1.0</td>\n",
       "      <td>Experienced (Non-Manager)</td>\n",
       "      <td>0</td>\n",
       "      <td>4.0</td>\n",
       "      <td>�_x001E_شرْ�! ْبر�0 �&amp;تخصص�! ف�0 ا�_x001E_طابع...</td>\n",
       "      <td>�_x001E_شرْ�! ْبر�0 �&amp;تخصص�! ف�0 ا�_x001E_طابع...</td>\n",
       "      <td>Per Month</td>\n",
       "      <td>Egyptian Pound</td>\n",
       "      <td>2015</td>\n",
       "    </tr>\n",
       "    <tr>\n",
       "      <th>6792</th>\n",
       "      <td>ا�_x001E_�_x001A_ا�!ر�!</td>\n",
       "      <td>�&amp;دخ�_x001E_ ب�`� ات</td>\n",
       "      <td>Software Engneering</td>\n",
       "      <td>Transportation/Trucking/Railroad</td>\n",
       "      <td>1200.000000</td>\n",
       "      <td>1800.0</td>\n",
       "      <td>8.0</td>\n",
       "      <td>Entry Level</td>\n",
       "      <td>1</td>\n",
       "      <td>0.0</td>\n",
       "      <td>�`دخ�_x001E_ ا�_x001E_ب�`ا� ات ��ا�_x001E_�&amp;ع�...</td>\n",
       "      <td>دب�_x001E_���&amp; ْ�&amp;ب�`��تر أ�� ش�!ادة ثا� ���`ة...</td>\n",
       "      <td>Per Month</td>\n",
       "      <td>Egyptian Pound</td>\n",
       "      <td>2015</td>\n",
       "    </tr>\n",
       "  </tbody>\n",
       "</table>\n",
       "</div>"
      ],
      "text/plain": [
       "                     location  \\\n",
       "3166           ا�_x001E_ج�`زة   \n",
       "5253   ا�_x001E_�_x001A_ا�!رة   \n",
       "5379           ا�_x001E_ر�`اض   \n",
       "6674  ا�_x001E_�_x001A_ا�!ر�!   \n",
       "6792  ا�_x001E_�_x001A_ا�!ر�!   \n",
       "\n",
       "                                              job_title      Standered_Title  \\\n",
       "3166                            عا�&�_x001E_ة ���&ساعدة  Software Engneering   \n",
       "5253           �&ط�_x001E_��ب �&��ظف�`�  تس���`�_x001A_  Software Engneering   \n",
       "5379  �&ط�_x001E_��ب �_x001E_�_x001E_ع�&�_x001E_ بشر...  Software Engneering   \n",
       "6674  سْرتار�`�! ��خد�&�! ع�&�_x001E_اء ��ت�_x001E_�...  Software Engneering   \n",
       "6792                               �&دخ�_x001E_ ب�`� ات  Software Engneering   \n",
       "\n",
       "                             job_industry  salary_minimum  salary_maximum  \\\n",
       "3166                     Biotechnology         300.000000           440.0   \n",
       "5253         Marketing and Advertising        1000.000000          1000.0   \n",
       "5379                 Engineering Services     5000.000000        150000.0   \n",
       "6674     Accounting and Auditing Services     3697.747094          1000.0   \n",
       "6792  Transportation/Trucking/Railroad        1200.000000          1800.0   \n",
       "\n",
       "      num_vacancies                      level  experience_years  views  \\\n",
       "3166            2.0                Entry Level                 0    7.0   \n",
       "5253            1.0  Experienced (Non-Manager)                 2   29.0   \n",
       "5379           15.0  Experienced (Non-Manager)                 5    4.0   \n",
       "6674            1.0  Experienced (Non-Manager)                 0    4.0   \n",
       "6792            8.0                Entry Level                 1    0.0   \n",
       "\n",
       "                                            description  \\\n",
       "3166  �&ط�_x001E_��ب عا�&�_x001E_�! ب�&���!�_x001E_ ...   \n",
       "5253  Ù…ÙˆØ§ØµÙØ§Øª Ø§Ù„Ø¥Ø¹Ù„Ø§Ù† Ù…Ø·Ù„ÙˆØ¨ Ù…ÙˆØ...   \n",
       "5379  �&ط�_x001E_��ب �&�!� دس�`�  �&د� �0 صرف صح�0 خ...   \n",
       "6674  �_x001E_شرْ�! ْبر�0 �&تخصص�! ف�0 ا�_x001E_طابع...   \n",
       "6792  �`دخ�_x001E_ ا�_x001E_ب�`ا� ات ��ا�_x001E_�&ع�...   \n",
       "\n",
       "                                       job_requirements payment_period  \\\n",
       "3166  ا�_x001E_�&تط�_x001E_بات1- �&عرفة ا�_x001E_ا� ...      Per Month   \n",
       "5253  �&�!ارت تس���`�_x001A_�`ة عا�_x001E_�`ة أ��ت د...      Per Month   \n",
       "5379                     01158567733eng150150@yahoo.com      Per Month   \n",
       "6674  �_x001E_شرْ�! ْبر�0 �&تخصص�! ف�0 ا�_x001E_طابع...      Per Month   \n",
       "6792  دب�_x001E_���& ْ�&ب�`��تر أ�� ش�!ادة ثا� ���`ة...      Per Month   \n",
       "\n",
       "            currency  year  \n",
       "3166  Egyptian Pound  2014  \n",
       "5253  Egyptian Pound  2015  \n",
       "5379  Egyptian Pound  2015  \n",
       "6674  Egyptian Pound  2015  \n",
       "6792  Egyptian Pound  2015  "
      ]
     },
     "execution_count": 849,
     "metadata": {},
     "output_type": "execute_result"
    }
   ],
   "source": [
    "df_14_16_copy[df_14_16_copy.location.str.contains(pattern)].head()"
   ]
  },
  {
   "cell_type": "markdown",
   "id": "48c94e3e",
   "metadata": {},
   "source": [
    "## Code"
   ]
  },
  {
   "cell_type": "code",
   "execution_count": 850,
   "id": "dc0d7c18",
   "metadata": {},
   "outputs": [],
   "source": [
    "temp_title=df_14_16_copy[df_14_16_copy['job_title'].str.contains(pattern)] \n",
    "df_14_16_copy.drop(temp_title.index,axis=0,inplace=True)\n",
    "\n",
    "temp_desc=df_14_16_copy[df_14_16_copy.description.str.contains(pattern)]\n",
    "df_14_16_copy.drop(temp_desc.index,axis=0,inplace=True)\n",
    "\n",
    "temp_loc=df_14_16_copy[df_14_16_copy.location.str.contains(pattern)]\n",
    "df_14_16_copy.drop(temp_loc.index,axis=0,inplace=True)"
   ]
  },
  {
   "cell_type": "markdown",
   "id": "3fe95a4f",
   "metadata": {},
   "source": [
    "## Test"
   ]
  },
  {
   "cell_type": "code",
   "execution_count": 851,
   "id": "e4dac159",
   "metadata": {},
   "outputs": [
    {
     "data": {
      "text/html": [
       "<div>\n",
       "<style scoped>\n",
       "    .dataframe tbody tr th:only-of-type {\n",
       "        vertical-align: middle;\n",
       "    }\n",
       "\n",
       "    .dataframe tbody tr th {\n",
       "        vertical-align: top;\n",
       "    }\n",
       "\n",
       "    .dataframe thead th {\n",
       "        text-align: right;\n",
       "    }\n",
       "</style>\n",
       "<table border=\"1\" class=\"dataframe\">\n",
       "  <thead>\n",
       "    <tr style=\"text-align: right;\">\n",
       "      <th></th>\n",
       "      <th>location</th>\n",
       "      <th>job_title</th>\n",
       "      <th>Standered_Title</th>\n",
       "      <th>job_industry</th>\n",
       "      <th>salary_minimum</th>\n",
       "      <th>salary_maximum</th>\n",
       "      <th>num_vacancies</th>\n",
       "      <th>level</th>\n",
       "      <th>experience_years</th>\n",
       "      <th>views</th>\n",
       "      <th>description</th>\n",
       "      <th>job_requirements</th>\n",
       "      <th>payment_period</th>\n",
       "      <th>currency</th>\n",
       "      <th>year</th>\n",
       "    </tr>\n",
       "  </thead>\n",
       "  <tbody>\n",
       "  </tbody>\n",
       "</table>\n",
       "</div>"
      ],
      "text/plain": [
       "Empty DataFrame\n",
       "Columns: [location, job_title, Standered_Title, job_industry, salary_minimum, salary_maximum, num_vacancies, level, experience_years, views, description, job_requirements, payment_period, currency, year]\n",
       "Index: []"
      ]
     },
     "execution_count": 851,
     "metadata": {},
     "output_type": "execute_result"
    }
   ],
   "source": [
    "df_14_16_copy[df_14_16_copy['job_title'].str.contains(pattern)]"
   ]
  },
  {
   "cell_type": "code",
   "execution_count": 852,
   "id": "3178f29b",
   "metadata": {},
   "outputs": [
    {
     "data": {
      "text/html": [
       "<div>\n",
       "<style scoped>\n",
       "    .dataframe tbody tr th:only-of-type {\n",
       "        vertical-align: middle;\n",
       "    }\n",
       "\n",
       "    .dataframe tbody tr th {\n",
       "        vertical-align: top;\n",
       "    }\n",
       "\n",
       "    .dataframe thead th {\n",
       "        text-align: right;\n",
       "    }\n",
       "</style>\n",
       "<table border=\"1\" class=\"dataframe\">\n",
       "  <thead>\n",
       "    <tr style=\"text-align: right;\">\n",
       "      <th></th>\n",
       "      <th>location</th>\n",
       "      <th>job_title</th>\n",
       "      <th>Standered_Title</th>\n",
       "      <th>job_industry</th>\n",
       "      <th>salary_minimum</th>\n",
       "      <th>salary_maximum</th>\n",
       "      <th>num_vacancies</th>\n",
       "      <th>level</th>\n",
       "      <th>experience_years</th>\n",
       "      <th>views</th>\n",
       "      <th>description</th>\n",
       "      <th>job_requirements</th>\n",
       "      <th>payment_period</th>\n",
       "      <th>currency</th>\n",
       "      <th>year</th>\n",
       "    </tr>\n",
       "  </thead>\n",
       "  <tbody>\n",
       "  </tbody>\n",
       "</table>\n",
       "</div>"
      ],
      "text/plain": [
       "Empty DataFrame\n",
       "Columns: [location, job_title, Standered_Title, job_industry, salary_minimum, salary_maximum, num_vacancies, level, experience_years, views, description, job_requirements, payment_period, currency, year]\n",
       "Index: []"
      ]
     },
     "execution_count": 852,
     "metadata": {},
     "output_type": "execute_result"
    }
   ],
   "source": [
    "df_14_16_copy[df_14_16_copy.description.str.contains(pattern)]"
   ]
  },
  {
   "cell_type": "code",
   "execution_count": 853,
   "id": "539fed4e",
   "metadata": {},
   "outputs": [
    {
     "data": {
      "text/html": [
       "<div>\n",
       "<style scoped>\n",
       "    .dataframe tbody tr th:only-of-type {\n",
       "        vertical-align: middle;\n",
       "    }\n",
       "\n",
       "    .dataframe tbody tr th {\n",
       "        vertical-align: top;\n",
       "    }\n",
       "\n",
       "    .dataframe thead th {\n",
       "        text-align: right;\n",
       "    }\n",
       "</style>\n",
       "<table border=\"1\" class=\"dataframe\">\n",
       "  <thead>\n",
       "    <tr style=\"text-align: right;\">\n",
       "      <th></th>\n",
       "      <th>location</th>\n",
       "      <th>job_title</th>\n",
       "      <th>Standered_Title</th>\n",
       "      <th>job_industry</th>\n",
       "      <th>salary_minimum</th>\n",
       "      <th>salary_maximum</th>\n",
       "      <th>num_vacancies</th>\n",
       "      <th>level</th>\n",
       "      <th>experience_years</th>\n",
       "      <th>views</th>\n",
       "      <th>description</th>\n",
       "      <th>job_requirements</th>\n",
       "      <th>payment_period</th>\n",
       "      <th>currency</th>\n",
       "      <th>year</th>\n",
       "    </tr>\n",
       "  </thead>\n",
       "  <tbody>\n",
       "  </tbody>\n",
       "</table>\n",
       "</div>"
      ],
      "text/plain": [
       "Empty DataFrame\n",
       "Columns: [location, job_title, Standered_Title, job_industry, salary_minimum, salary_maximum, num_vacancies, level, experience_years, views, description, job_requirements, payment_period, currency, year]\n",
       "Index: []"
      ]
     },
     "execution_count": 853,
     "metadata": {},
     "output_type": "execute_result"
    }
   ],
   "source": [
    "df_14_16_copy[df_14_16_copy.location.str.contains(pattern)]"
   ]
  },
  {
   "cell_type": "markdown",
   "id": "cc7594ec",
   "metadata": {},
   "source": [
    "##### `IT and Software jobs 2020` dataset\n",
    "\n",
    "- We need to rename some columns\n",
    "\n",
    "- Discription column and title column will be divided to several columns\n",
    "\n",
    "- some columns needed to be removed\n",
    "\n",
    "- some companies hide their names \n",
    "\n",
    "- we need to add a column for the post year"
   ]
  },
  {
   "cell_type": "code",
   "execution_count": 854,
   "id": "73b0ed57",
   "metadata": {},
   "outputs": [
    {
     "data": {
      "text/html": [
       "<div>\n",
       "<style scoped>\n",
       "    .dataframe tbody tr th:only-of-type {\n",
       "        vertical-align: middle;\n",
       "    }\n",
       "\n",
       "    .dataframe tbody tr th {\n",
       "        vertical-align: top;\n",
       "    }\n",
       "\n",
       "    .dataframe thead th {\n",
       "        text-align: right;\n",
       "    }\n",
       "</style>\n",
       "<table border=\"1\" class=\"dataframe\">\n",
       "  <thead>\n",
       "    <tr style=\"text-align: right;\">\n",
       "      <th></th>\n",
       "      <th>#PAGE_URL</th>\n",
       "      <th>title</th>\n",
       "      <th>company-name</th>\n",
       "      <th>job-link</th>\n",
       "      <th>job-link_link</th>\n",
       "      <th>short-description-</th>\n",
       "      <th>location</th>\n",
       "    </tr>\n",
       "  </thead>\n",
       "  <tbody>\n",
       "    <tr>\n",
       "      <th>0</th>\n",
       "      <td>https://wuzzuf.net/a/IT-Software-Development-J...</td>\n",
       "      <td>Sales Supervisor - North Upper Egypt</td>\n",
       "      <td>PepsiCo International</td>\n",
       "      <td>Sales Supervisor - North Upper Egypt</td>\n",
       "      <td>https://wuzzuf.net/jobs/p/cc5848eb-a2c4-4055-9...</td>\n",
       "      <td>Full Time · Manager · 1-3 Yrs of Exp · FMCG · ...</td>\n",
       "      <td>Beni Suef, Egypt</td>\n",
       "    </tr>\n",
       "    <tr>\n",
       "      <th>1</th>\n",
       "      <td>https://wuzzuf.net/a/IT-Software-Development-J...</td>\n",
       "      <td>Junior Technical Support Engineer - Upper Egypt</td>\n",
       "      <td>MigrationIT.com</td>\n",
       "      <td>Junior Technical Support Engineer - Upper Egypt</td>\n",
       "      <td>https://wuzzuf.net/jobs/p/39a68f94-611c-4a07-9...</td>\n",
       "      <td>Full Time · Entry Level · 1-2 Yrs of Exp · ITI...</td>\n",
       "      <td>Assiut, Egypt</td>\n",
       "    </tr>\n",
       "    <tr>\n",
       "      <th>2</th>\n",
       "      <td>https://wuzzuf.net/a/IT-Software-Development-J...</td>\n",
       "      <td>Software Developer</td>\n",
       "      <td>Rednet It Services</td>\n",
       "      <td>Software Developer</td>\n",
       "      <td>https://wuzzuf.net/jobs/p/7f3aec8d-1724-4f0c-9...</td>\n",
       "      <td>Full Time · Experienced · 2-3 Yrs of Exp · Sof...</td>\n",
       "      <td>Maadi, Cairo</td>\n",
       "    </tr>\n",
       "  </tbody>\n",
       "</table>\n",
       "</div>"
      ],
      "text/plain": [
       "                                           #PAGE_URL  \\\n",
       "0  https://wuzzuf.net/a/IT-Software-Development-J...   \n",
       "1  https://wuzzuf.net/a/IT-Software-Development-J...   \n",
       "2  https://wuzzuf.net/a/IT-Software-Development-J...   \n",
       "\n",
       "                                             title           company-name  \\\n",
       "0             Sales Supervisor - North Upper Egypt  PepsiCo International   \n",
       "1  Junior Technical Support Engineer - Upper Egypt        MigrationIT.com   \n",
       "2                               Software Developer     Rednet It Services   \n",
       "\n",
       "                                          job-link  \\\n",
       "0             Sales Supervisor - North Upper Egypt   \n",
       "1  Junior Technical Support Engineer - Upper Egypt   \n",
       "2                               Software Developer   \n",
       "\n",
       "                                       job-link_link  \\\n",
       "0  https://wuzzuf.net/jobs/p/cc5848eb-a2c4-4055-9...   \n",
       "1  https://wuzzuf.net/jobs/p/39a68f94-611c-4a07-9...   \n",
       "2  https://wuzzuf.net/jobs/p/7f3aec8d-1724-4f0c-9...   \n",
       "\n",
       "                                  short-description-          location  \n",
       "0  Full Time · Manager · 1-3 Yrs of Exp · FMCG · ...  Beni Suef, Egypt  \n",
       "1  Full Time · Entry Level · 1-2 Yrs of Exp · ITI...     Assiut, Egypt  \n",
       "2  Full Time · Experienced · 2-3 Yrs of Exp · Sof...      Maadi, Cairo  "
      ]
     },
     "execution_count": 854,
     "metadata": {},
     "output_type": "execute_result"
    }
   ],
   "source": [
    "df_20_copy=df_20.copy()\n",
    "df_20_copy.head(3)\n"
   ]
  },
  {
   "cell_type": "markdown",
   "id": "c6151a6b",
   "metadata": {},
   "source": [
    "## Define\n",
    "-We need to rename some columns\n"
   ]
  },
  {
   "cell_type": "code",
   "execution_count": 855,
   "id": "ec6b2de4",
   "metadata": {},
   "outputs": [
    {
     "name": "stdout",
     "output_type": "stream",
     "text": [
      "<class 'pandas.core.frame.DataFrame'>\n",
      "RangeIndex: 2580 entries, 0 to 2579\n",
      "Data columns (total 7 columns):\n",
      " #   Column              Non-Null Count  Dtype \n",
      "---  ------              --------------  ----- \n",
      " 0   #PAGE_URL           2580 non-null   object\n",
      " 1   title               2580 non-null   object\n",
      " 2   company-name        2580 non-null   object\n",
      " 3   job-link            2580 non-null   object\n",
      " 4   job-link_link       2580 non-null   object\n",
      " 5   short-description-  2580 non-null   object\n",
      " 6   location            2580 non-null   object\n",
      "dtypes: object(7)\n",
      "memory usage: 141.2+ KB\n"
     ]
    }
   ],
   "source": [
    "df_20_copy.info()"
   ]
  },
  {
   "cell_type": "markdown",
   "id": "7c19d509",
   "metadata": {},
   "source": [
    "## Code"
   ]
  },
  {
   "cell_type": "code",
   "execution_count": 856,
   "id": "be9252b0",
   "metadata": {},
   "outputs": [],
   "source": [
    "df_20_copy = df_20_copy.rename(columns = {'title':'job_title','company-name': 'company','job-link_link': 'job_profile','short-description-':'description'})"
   ]
  },
  {
   "cell_type": "markdown",
   "id": "fc69e8ef",
   "metadata": {},
   "source": [
    "## Test"
   ]
  },
  {
   "cell_type": "code",
   "execution_count": 857,
   "id": "78ab0757",
   "metadata": {},
   "outputs": [
    {
     "name": "stdout",
     "output_type": "stream",
     "text": [
      "<class 'pandas.core.frame.DataFrame'>\n",
      "RangeIndex: 2580 entries, 0 to 2579\n",
      "Data columns (total 7 columns):\n",
      " #   Column       Non-Null Count  Dtype \n",
      "---  ------       --------------  ----- \n",
      " 0   #PAGE_URL    2580 non-null   object\n",
      " 1   job_title    2580 non-null   object\n",
      " 2   company      2580 non-null   object\n",
      " 3   job-link     2580 non-null   object\n",
      " 4   job_profile  2580 non-null   object\n",
      " 5   description  2580 non-null   object\n",
      " 6   location     2580 non-null   object\n",
      "dtypes: object(7)\n",
      "memory usage: 141.2+ KB\n"
     ]
    }
   ],
   "source": [
    "df_20_copy.info()"
   ]
  },
  {
   "cell_type": "markdown",
   "id": "ce8d5822",
   "metadata": {},
   "source": [
    "## Define\n"
   ]
  },
  {
   "cell_type": "markdown",
   "id": "42a6a0fe",
   "metadata": {},
   "source": [
    "- some columns needed to be removed"
   ]
  },
  {
   "cell_type": "code",
   "execution_count": 858,
   "id": "3efc2bc1",
   "metadata": {},
   "outputs": [
    {
     "name": "stdout",
     "output_type": "stream",
     "text": [
      "<class 'pandas.core.frame.DataFrame'>\n",
      "RangeIndex: 2580 entries, 0 to 2579\n",
      "Data columns (total 7 columns):\n",
      " #   Column       Non-Null Count  Dtype \n",
      "---  ------       --------------  ----- \n",
      " 0   #PAGE_URL    2580 non-null   object\n",
      " 1   job_title    2580 non-null   object\n",
      " 2   company      2580 non-null   object\n",
      " 3   job-link     2580 non-null   object\n",
      " 4   job_profile  2580 non-null   object\n",
      " 5   description  2580 non-null   object\n",
      " 6   location     2580 non-null   object\n",
      "dtypes: object(7)\n",
      "memory usage: 141.2+ KB\n"
     ]
    }
   ],
   "source": [
    "df_20_copy.info()"
   ]
  },
  {
   "cell_type": "markdown",
   "id": "8d9f27d8",
   "metadata": {},
   "source": [
    "## Code"
   ]
  },
  {
   "cell_type": "code",
   "execution_count": 859,
   "id": "fad0439d",
   "metadata": {},
   "outputs": [],
   "source": [
    "df_20_copy = df_20_copy.drop( [ '#PAGE_URL' , 'job-link' ] ,axis = 1)"
   ]
  },
  {
   "cell_type": "markdown",
   "id": "680d74e1",
   "metadata": {},
   "source": [
    "## Test"
   ]
  },
  {
   "cell_type": "code",
   "execution_count": 860,
   "id": "8db0bb20",
   "metadata": {},
   "outputs": [
    {
     "name": "stdout",
     "output_type": "stream",
     "text": [
      "<class 'pandas.core.frame.DataFrame'>\n",
      "RangeIndex: 2580 entries, 0 to 2579\n",
      "Data columns (total 5 columns):\n",
      " #   Column       Non-Null Count  Dtype \n",
      "---  ------       --------------  ----- \n",
      " 0   job_title    2580 non-null   object\n",
      " 1   company      2580 non-null   object\n",
      " 2   job_profile  2580 non-null   object\n",
      " 3   description  2580 non-null   object\n",
      " 4   location     2580 non-null   object\n",
      "dtypes: object(5)\n",
      "memory usage: 100.9+ KB\n"
     ]
    }
   ],
   "source": [
    "df_20_copy.info()"
   ]
  },
  {
   "cell_type": "markdown",
   "id": "7f8bfb7a",
   "metadata": {},
   "source": [
    "## Define\n",
    "- some companies hide their names"
   ]
  },
  {
   "cell_type": "code",
   "execution_count": 861,
   "id": "df4218c2",
   "metadata": {},
   "outputs": [
    {
     "data": {
      "text/plain": [
       "                                                    277\n",
       "Ghassan Ahmed Alsulaiman for Electronic Services     21\n",
       "Cegedim                                              20\n",
       "Flairstech                                           20\n",
       "CrossWorkers                                         16\n",
       "                                                   ... \n",
       "Heliopolis University                                 1\n",
       "Concrete For Real Estate                              1\n",
       "digitex                                               1\n",
       "Ghyma for Tourism                                     1\n",
       "Zahran Market                                         1\n",
       "Name: company, Length: 983, dtype: int64"
      ]
     },
     "execution_count": 861,
     "metadata": {},
     "output_type": "execute_result"
    }
   ],
   "source": [
    "df_20_copy.company.value_counts()"
   ]
  },
  {
   "cell_type": "code",
   "execution_count": 862,
   "id": "cd3fa378",
   "metadata": {},
   "outputs": [
    {
     "data": {
      "text/plain": [
       "                                                    277\n",
       "Ghassan Ahmed Alsulaiman for Electronic Services     21\n",
       "Cegedim                                              20\n",
       "Flairstech                                           20\n",
       "CrossWorkers                                         16\n",
       "                                                   ... \n",
       "Heliopolis University                                 1\n",
       "Concrete For Real Estate                              1\n",
       "digitex                                               1\n",
       "Ghyma for Tourism                                     1\n",
       "Zahran Market                                         1\n",
       "Name: company, Length: 983, dtype: int64"
      ]
     },
     "execution_count": 862,
     "metadata": {},
     "output_type": "execute_result"
    }
   ],
   "source": [
    "df_20_copy.company.value_counts()"
   ]
  },
  {
   "cell_type": "markdown",
   "id": "3b2a455d",
   "metadata": {},
   "source": [
    "## Code"
   ]
  },
  {
   "cell_type": "code",
   "execution_count": 863,
   "id": "09dc5b59",
   "metadata": {},
   "outputs": [],
   "source": [
    "df_20_copy.company.replace(' ', np.nan , inplace=True)"
   ]
  },
  {
   "cell_type": "code",
   "execution_count": 864,
   "id": "5d0d2fdc",
   "metadata": {},
   "outputs": [],
   "source": [
    "df_20_copy.company.fillna('Hidden',inplace=True)"
   ]
  },
  {
   "cell_type": "markdown",
   "id": "812e91d6",
   "metadata": {},
   "source": [
    "## Test"
   ]
  },
  {
   "cell_type": "code",
   "execution_count": 865,
   "id": "ce212743",
   "metadata": {},
   "outputs": [
    {
     "data": {
      "text/plain": [
       "Hidden                                              277\n",
       "Ghassan Ahmed Alsulaiman for Electronic Services     21\n",
       "Flairstech                                           20\n",
       "Cegedim                                              20\n",
       "CrossWorkers                                         16\n",
       "Name: company, dtype: int64"
      ]
     },
     "execution_count": 865,
     "metadata": {},
     "output_type": "execute_result"
    }
   ],
   "source": [
    "df_20_copy.company.value_counts().head()"
   ]
  },
  {
   "cell_type": "markdown",
   "id": "e541f82c",
   "metadata": {},
   "source": [
    "## Define \n",
    "- Discription column will be divided to several columns"
   ]
  },
  {
   "cell_type": "markdown",
   "id": "3b930fc6",
   "metadata": {},
   "source": [
    "## Code"
   ]
  },
  {
   "cell_type": "code",
   "execution_count": 866,
   "id": "ae094238",
   "metadata": {},
   "outputs": [],
   "source": [
    "# first we will make a list contains all the levels\n",
    "job_desc=df_20_copy.description\n",
    "The_job_title=df_20_copy.job_title\n",
    "levels=[]\n",
    "for i in job_desc:\n",
    "    if 'Internship' in i:\n",
    "        levels.append('Internship')     \n",
    "    elif 'Entry Level' in i:\n",
    "        levels.append('Entry Level')\n",
    "    elif 'Experienced'  in i:\n",
    "        levels.append('Experienced') \n",
    "    elif 'Manager' or 'Senior Management' in i:\n",
    "        levels.append('Manager')        \n",
    "    else:\n",
    "        levels.append(i)    \n",
    "        \n",
    " \n",
    "    \n",
    "# second we will make a list of the job status or type\n",
    "status=[]\n",
    "for i in job_desc:\n",
    "    if 'Full Time' in i:\n",
    "        status.append('Full Time')     \n",
    "    elif 'Part Time'  in i:\n",
    "        status.append('Part Time') \n",
    "    elif 'Internship' in i:\n",
    "        status.append('Internship')               \n",
    "    elif 'Full Time' and 'Part Time' in i:\n",
    "        status.append('Full Time' and 'Part Time')\n",
    "    elif 'Work From Home' in i:\n",
    "        status.append('Work From Home') \n",
    "    elif 'Contract' in i:\n",
    "        status.append('Contract')     \n",
    "    else:\n",
    "        status.append('not mentioned')    \n",
    "        \n",
    "#Third we will make a list of standered job types \n",
    "\n",
    "Standered_title=[]\n",
    "for i in The_job_title:\n",
    "    if 'IT' in i:\n",
    "        Standered_title.append('IT')     \n",
    "    elif 'Full Stack' or 'full stack' or 'Developer' or 'developer' or 'END' or 'end' in i:\n",
    "        Standered_title.append('Software Engneering') \n",
    "\n",
    "    else:\n",
    "        Standered_title.append('not mentioned')    "
   ]
  },
  {
   "cell_type": "code",
   "execution_count": 867,
   "id": "40e2e4ea",
   "metadata": {},
   "outputs": [],
   "source": [
    "#we will need to add a column for the minimum years of experience required\n",
    "df_20_copy['experience_years']=df_20_copy.description.str.extract('(\\d+)')\n",
    "df_20_copy.experience_years=pd.to_numeric(df_20_copy.experience_years)\n",
    "mean=df_20_copy.experience_years.mean()\n",
    "df_20_copy.experience_years.replace(np.nan,mean,inplace=True)"
   ]
  },
  {
   "cell_type": "markdown",
   "id": "9d62bee7",
   "metadata": {},
   "source": [
    "## Test"
   ]
  },
  {
   "cell_type": "code",
   "execution_count": 868,
   "id": "20b0ffdf",
   "metadata": {},
   "outputs": [
    {
     "name": "stdout",
     "output_type": "stream",
     "text": [
      "{'not mentioned', 'Internship', 'Part Time', 'Work From Home', 'Full Time'}\n",
      "2580\n",
      "2580\n"
     ]
    }
   ],
   "source": [
    "#statues\n",
    "print(set(status))\n",
    "print(len(status))\n",
    "print(len(df_20_copy.description))\n",
    "\n"
   ]
  },
  {
   "cell_type": "code",
   "execution_count": 869,
   "id": "9e079bde",
   "metadata": {},
   "outputs": [
    {
     "name": "stdout",
     "output_type": "stream",
     "text": [
      "{'Internship', 'Entry Level', 'Experienced', 'Manager'}\n",
      "2580\n",
      "2580\n"
     ]
    }
   ],
   "source": [
    "#levels\n",
    "print(set(levels))\n",
    "print(len(levels))\n",
    "print(len(df_20_copy.description))"
   ]
  },
  {
   "cell_type": "code",
   "execution_count": 870,
   "id": "1c785350",
   "metadata": {},
   "outputs": [
    {
     "name": "stdout",
     "output_type": "stream",
     "text": [
      "{'IT', 'Software Engneering'}\n",
      "2580\n",
      "2580\n"
     ]
    }
   ],
   "source": [
    "#levels\n",
    "print(set(Standered_title))\n",
    "print(len(Standered_title))\n",
    "print(len(df_20_copy.job_title))"
   ]
  },
  {
   "cell_type": "code",
   "execution_count": 871,
   "id": "4aa88dd7",
   "metadata": {},
   "outputs": [],
   "source": [
    "df_20_copy['level']=levels\n",
    "df_20_copy['Type']=status\n",
    "df_20_copy['Standered_Title']=Standered_title\n"
   ]
  },
  {
   "cell_type": "code",
   "execution_count": 872,
   "id": "c91a3e97",
   "metadata": {},
   "outputs": [
    {
     "data": {
      "text/plain": [
       "job_title           0\n",
       "company             0\n",
       "job_profile         0\n",
       "description         0\n",
       "location            0\n",
       "experience_years    0\n",
       "level               0\n",
       "Type                0\n",
       "Standered_Title     0\n",
       "dtype: int64"
      ]
     },
     "execution_count": 872,
     "metadata": {},
     "output_type": "execute_result"
    }
   ],
   "source": [
    "df_20_copy.isnull().sum()"
   ]
  },
  {
   "cell_type": "markdown",
   "id": "50d3698c",
   "metadata": {},
   "source": [
    "## Define \n",
    "\n",
    "- we need to add a column for the post year\n"
   ]
  },
  {
   "cell_type": "markdown",
   "id": "a93cba42",
   "metadata": {},
   "source": [
    "## Code"
   ]
  },
  {
   "cell_type": "code",
   "execution_count": 873,
   "id": "9175eadd",
   "metadata": {},
   "outputs": [],
   "source": [
    "df_20_copy['year']=2020\n"
   ]
  },
  {
   "cell_type": "markdown",
   "id": "24b2dca1",
   "metadata": {},
   "source": [
    "## Test"
   ]
  },
  {
   "cell_type": "code",
   "execution_count": 874,
   "id": "d769d331",
   "metadata": {
    "scrolled": true
   },
   "outputs": [
    {
     "data": {
      "text/html": [
       "<div>\n",
       "<style scoped>\n",
       "    .dataframe tbody tr th:only-of-type {\n",
       "        vertical-align: middle;\n",
       "    }\n",
       "\n",
       "    .dataframe tbody tr th {\n",
       "        vertical-align: top;\n",
       "    }\n",
       "\n",
       "    .dataframe thead th {\n",
       "        text-align: right;\n",
       "    }\n",
       "</style>\n",
       "<table border=\"1\" class=\"dataframe\">\n",
       "  <thead>\n",
       "    <tr style=\"text-align: right;\">\n",
       "      <th></th>\n",
       "      <th>job_title</th>\n",
       "      <th>company</th>\n",
       "      <th>job_profile</th>\n",
       "      <th>description</th>\n",
       "      <th>location</th>\n",
       "      <th>experience_years</th>\n",
       "      <th>level</th>\n",
       "      <th>Type</th>\n",
       "      <th>Standered_Title</th>\n",
       "      <th>year</th>\n",
       "    </tr>\n",
       "  </thead>\n",
       "  <tbody>\n",
       "    <tr>\n",
       "      <th>0</th>\n",
       "      <td>Sales Supervisor - North Upper Egypt</td>\n",
       "      <td>PepsiCo International</td>\n",
       "      <td>https://wuzzuf.net/jobs/p/cc5848eb-a2c4-4055-9...</td>\n",
       "      <td>Full Time · Manager · 1-3 Yrs of Exp · FMCG · ...</td>\n",
       "      <td>Beni Suef, Egypt</td>\n",
       "      <td>1.0</td>\n",
       "      <td>Manager</td>\n",
       "      <td>Full Time</td>\n",
       "      <td>Software Engneering</td>\n",
       "      <td>2020</td>\n",
       "    </tr>\n",
       "    <tr>\n",
       "      <th>1</th>\n",
       "      <td>Junior Technical Support Engineer - Upper Egypt</td>\n",
       "      <td>MigrationIT.com</td>\n",
       "      <td>https://wuzzuf.net/jobs/p/39a68f94-611c-4a07-9...</td>\n",
       "      <td>Full Time · Entry Level · 1-2 Yrs of Exp · ITI...</td>\n",
       "      <td>Assiut, Egypt</td>\n",
       "      <td>1.0</td>\n",
       "      <td>Entry Level</td>\n",
       "      <td>Full Time</td>\n",
       "      <td>Software Engneering</td>\n",
       "      <td>2020</td>\n",
       "    </tr>\n",
       "    <tr>\n",
       "      <th>2</th>\n",
       "      <td>Software Developer</td>\n",
       "      <td>Rednet It Services</td>\n",
       "      <td>https://wuzzuf.net/jobs/p/7f3aec8d-1724-4f0c-9...</td>\n",
       "      <td>Full Time · Experienced · 2-3 Yrs of Exp · Sof...</td>\n",
       "      <td>Maadi, Cairo</td>\n",
       "      <td>2.0</td>\n",
       "      <td>Experienced</td>\n",
       "      <td>Full Time</td>\n",
       "      <td>Software Engneering</td>\n",
       "      <td>2020</td>\n",
       "    </tr>\n",
       "    <tr>\n",
       "      <th>3</th>\n",
       "      <td>Senior Software Quality Control Engineer</td>\n",
       "      <td>Bnsights</td>\n",
       "      <td>https://wuzzuf.net/jobs/p/bbc5d1cb-33ff-4c10-a...</td>\n",
       "      <td>Full Time · Experienced · 3-5 Yrs of Exp · Com...</td>\n",
       "      <td>New Cairo, Cairo</td>\n",
       "      <td>3.0</td>\n",
       "      <td>Experienced</td>\n",
       "      <td>Full Time</td>\n",
       "      <td>Software Engneering</td>\n",
       "      <td>2020</td>\n",
       "    </tr>\n",
       "    <tr>\n",
       "      <th>4</th>\n",
       "      <td>Senior E-Commerce Software Developer (Magento 2)</td>\n",
       "      <td>shop4build</td>\n",
       "      <td>https://wuzzuf.net/jobs/p/2be88ac7-5a6c-4a5a-8...</td>\n",
       "      <td>Full Time · Part Time · Work From Home · Exper...</td>\n",
       "      <td>Maadi, Cairo</td>\n",
       "      <td>2.0</td>\n",
       "      <td>Experienced</td>\n",
       "      <td>Full Time</td>\n",
       "      <td>Software Engneering</td>\n",
       "      <td>2020</td>\n",
       "    </tr>\n",
       "  </tbody>\n",
       "</table>\n",
       "</div>"
      ],
      "text/plain": [
       "                                          job_title                company  \\\n",
       "0              Sales Supervisor - North Upper Egypt  PepsiCo International   \n",
       "1   Junior Technical Support Engineer - Upper Egypt        MigrationIT.com   \n",
       "2                                Software Developer     Rednet It Services   \n",
       "3          Senior Software Quality Control Engineer               Bnsights   \n",
       "4  Senior E-Commerce Software Developer (Magento 2)             shop4build   \n",
       "\n",
       "                                         job_profile  \\\n",
       "0  https://wuzzuf.net/jobs/p/cc5848eb-a2c4-4055-9...   \n",
       "1  https://wuzzuf.net/jobs/p/39a68f94-611c-4a07-9...   \n",
       "2  https://wuzzuf.net/jobs/p/7f3aec8d-1724-4f0c-9...   \n",
       "3  https://wuzzuf.net/jobs/p/bbc5d1cb-33ff-4c10-a...   \n",
       "4  https://wuzzuf.net/jobs/p/2be88ac7-5a6c-4a5a-8...   \n",
       "\n",
       "                                         description          location  \\\n",
       "0  Full Time · Manager · 1-3 Yrs of Exp · FMCG · ...  Beni Suef, Egypt   \n",
       "1  Full Time · Entry Level · 1-2 Yrs of Exp · ITI...     Assiut, Egypt   \n",
       "2  Full Time · Experienced · 2-3 Yrs of Exp · Sof...      Maadi, Cairo   \n",
       "3  Full Time · Experienced · 3-5 Yrs of Exp · Com...  New Cairo, Cairo   \n",
       "4  Full Time · Part Time · Work From Home · Exper...      Maadi, Cairo   \n",
       "\n",
       "   experience_years        level       Type      Standered_Title  year  \n",
       "0               1.0      Manager  Full Time  Software Engneering  2020  \n",
       "1               1.0  Entry Level  Full Time  Software Engneering  2020  \n",
       "2               2.0  Experienced  Full Time  Software Engneering  2020  \n",
       "3               3.0  Experienced  Full Time  Software Engneering  2020  \n",
       "4               2.0  Experienced  Full Time  Software Engneering  2020  "
      ]
     },
     "execution_count": 874,
     "metadata": {},
     "output_type": "execute_result"
    }
   ],
   "source": [
    "df_20_copy.head()"
   ]
  },
  {
   "cell_type": "markdown",
   "id": "1874e8eb",
   "metadata": {},
   "source": [
    "##### `IT and Software jobs 2021` dataset\n",
    "\n",
    "- We need to rename some columns\n",
    "\n",
    "- Discription column and title column will be divided to several columns\n",
    "\n",
    "- some columns needed to be removed\n",
    "\n",
    "- some companies hide their names \n",
    "\n",
    "- we need to add a column for the post year"
   ]
  },
  {
   "cell_type": "code",
   "execution_count": 875,
   "id": "28dce3b4",
   "metadata": {},
   "outputs": [],
   "source": [
    "df_21_copy=df_21.copy()"
   ]
  },
  {
   "cell_type": "markdown",
   "id": "bfcb7a52",
   "metadata": {},
   "source": [
    "## Define\n",
    "-We need to rename some columns\n"
   ]
  },
  {
   "cell_type": "code",
   "execution_count": 876,
   "id": "d2a54fc8",
   "metadata": {},
   "outputs": [
    {
     "name": "stdout",
     "output_type": "stream",
     "text": [
      "<class 'pandas.core.frame.DataFrame'>\n",
      "RangeIndex: 2635 entries, 0 to 2634\n",
      "Data columns (total 7 columns):\n",
      " #   Column            Non-Null Count  Dtype \n",
      "---  ------            --------------  ----- \n",
      " 0   page_URL          2635 non-null   object\n",
      " 1   job_title         2635 non-null   object\n",
      " 2   company_names     2635 non-null   object\n",
      " 3   job_link          2635 non-null   object\n",
      " 4   job_link_link     2635 non-null   object\n",
      " 5    job_description  2635 non-null   object\n",
      " 6   location          2635 non-null   object\n",
      "dtypes: object(7)\n",
      "memory usage: 144.2+ KB\n"
     ]
    }
   ],
   "source": [
    "df_21_copy.info()"
   ]
  },
  {
   "cell_type": "markdown",
   "id": "2c4c3b3f",
   "metadata": {},
   "source": [
    "## Code  "
   ]
  },
  {
   "cell_type": "code",
   "execution_count": 877,
   "id": "50ea51f0",
   "metadata": {},
   "outputs": [
    {
     "data": {
      "text/plain": [
       "Index(['page_URL ', 'job_title ', 'company_names ', 'job_link ',\n",
       "       'job_link_link', ' job_description', 'location'],\n",
       "      dtype='object')"
      ]
     },
     "execution_count": 877,
     "metadata": {},
     "output_type": "execute_result"
    }
   ],
   "source": [
    "df_21_copy.columns"
   ]
  },
  {
   "cell_type": "code",
   "execution_count": 878,
   "id": "83884deb",
   "metadata": {},
   "outputs": [],
   "source": [
    "df_21_copy = df_21_copy.rename(columns = {'job_title ':'job_title','company_names ': 'company','job_link_link': 'job_profile',' job_description':'description'})"
   ]
  },
  {
   "cell_type": "markdown",
   "id": "27edd341",
   "metadata": {},
   "source": [
    "## Test "
   ]
  },
  {
   "cell_type": "code",
   "execution_count": 879,
   "id": "9259eb68",
   "metadata": {
    "scrolled": true
   },
   "outputs": [
    {
     "name": "stdout",
     "output_type": "stream",
     "text": [
      "<class 'pandas.core.frame.DataFrame'>\n",
      "RangeIndex: 2635 entries, 0 to 2634\n",
      "Data columns (total 7 columns):\n",
      " #   Column       Non-Null Count  Dtype \n",
      "---  ------       --------------  ----- \n",
      " 0   page_URL     2635 non-null   object\n",
      " 1   job_title    2635 non-null   object\n",
      " 2   company      2635 non-null   object\n",
      " 3   job_link     2635 non-null   object\n",
      " 4   job_profile  2635 non-null   object\n",
      " 5   description  2635 non-null   object\n",
      " 6   location     2635 non-null   object\n",
      "dtypes: object(7)\n",
      "memory usage: 144.2+ KB\n"
     ]
    }
   ],
   "source": [
    "df_21_copy.info()"
   ]
  },
  {
   "cell_type": "markdown",
   "id": "816d4c1e",
   "metadata": {},
   "source": [
    "## Define\n",
    "- some columns needed to be removed"
   ]
  },
  {
   "cell_type": "code",
   "execution_count": 880,
   "id": "47cff2e1",
   "metadata": {},
   "outputs": [
    {
     "name": "stdout",
     "output_type": "stream",
     "text": [
      "<class 'pandas.core.frame.DataFrame'>\n",
      "RangeIndex: 2635 entries, 0 to 2634\n",
      "Data columns (total 7 columns):\n",
      " #   Column       Non-Null Count  Dtype \n",
      "---  ------       --------------  ----- \n",
      " 0   page_URL     2635 non-null   object\n",
      " 1   job_title    2635 non-null   object\n",
      " 2   company      2635 non-null   object\n",
      " 3   job_link     2635 non-null   object\n",
      " 4   job_profile  2635 non-null   object\n",
      " 5   description  2635 non-null   object\n",
      " 6   location     2635 non-null   object\n",
      "dtypes: object(7)\n",
      "memory usage: 144.2+ KB\n"
     ]
    }
   ],
   "source": [
    "df_21_copy.info()"
   ]
  },
  {
   "cell_type": "markdown",
   "id": "4bd21d38",
   "metadata": {},
   "source": [
    "## Code"
   ]
  },
  {
   "cell_type": "code",
   "execution_count": 881,
   "id": "2a395d0d",
   "metadata": {},
   "outputs": [],
   "source": [
    "df_21_copy = df_21_copy.drop( [ 'page_URL ' , 'job_link ' ] ,axis = 1)"
   ]
  },
  {
   "cell_type": "markdown",
   "id": "5c876cf3",
   "metadata": {},
   "source": [
    "## Test"
   ]
  },
  {
   "cell_type": "code",
   "execution_count": 882,
   "id": "af6de7ec",
   "metadata": {},
   "outputs": [
    {
     "name": "stdout",
     "output_type": "stream",
     "text": [
      "<class 'pandas.core.frame.DataFrame'>\n",
      "RangeIndex: 2635 entries, 0 to 2634\n",
      "Data columns (total 5 columns):\n",
      " #   Column       Non-Null Count  Dtype \n",
      "---  ------       --------------  ----- \n",
      " 0   job_title    2635 non-null   object\n",
      " 1   company      2635 non-null   object\n",
      " 2   job_profile  2635 non-null   object\n",
      " 3   description  2635 non-null   object\n",
      " 4   location     2635 non-null   object\n",
      "dtypes: object(5)\n",
      "memory usage: 103.1+ KB\n"
     ]
    }
   ],
   "source": [
    "df_21_copy.info()"
   ]
  },
  {
   "cell_type": "markdown",
   "id": "7ce23892",
   "metadata": {},
   "source": [
    "## Define\n",
    "- some companies hide their names"
   ]
  },
  {
   "cell_type": "code",
   "execution_count": 883,
   "id": "0a9ec22d",
   "metadata": {},
   "outputs": [
    {
     "data": {
      "text/plain": [
       " Confidential                                   273\n",
       " FlairsTech                                      42\n",
       " Cegedim                                         31\n",
       " Fawry Banking & Payment Technology Services     20\n",
       " Perfect Presentation                            18\n",
       "                                               ... \n",
       " Innovito                                         1\n",
       " ALM-Atef Lamie&Co.                               1\n",
       " Maxab                                            1\n",
       " Max Muscle                                       1\n",
       " Hi Tech for medical devices and supplies         1\n",
       "Name: company, Length: 987, dtype: int64"
      ]
     },
     "execution_count": 883,
     "metadata": {},
     "output_type": "execute_result"
    }
   ],
   "source": [
    "df_21_copy.company.value_counts()"
   ]
  },
  {
   "cell_type": "markdown",
   "id": "c4041949",
   "metadata": {},
   "source": [
    "## Code"
   ]
  },
  {
   "cell_type": "code",
   "execution_count": 884,
   "id": "6497d86c",
   "metadata": {},
   "outputs": [],
   "source": [
    "df_21_copy.company.replace(' ', np.nan , inplace=True)"
   ]
  },
  {
   "cell_type": "code",
   "execution_count": 885,
   "id": "fe9dce8b",
   "metadata": {},
   "outputs": [],
   "source": [
    "df_21_copy.company.fillna('Hidden',inplace=True)"
   ]
  },
  {
   "cell_type": "markdown",
   "id": "e2dd746e",
   "metadata": {},
   "source": [
    "## Test"
   ]
  },
  {
   "cell_type": "code",
   "execution_count": 886,
   "id": "9ba4b9c9",
   "metadata": {},
   "outputs": [
    {
     "data": {
      "text/plain": [
       " Confidential                                   273\n",
       " FlairsTech                                      42\n",
       " Cegedim                                         31\n",
       " Fawry Banking & Payment Technology Services     20\n",
       " Perfect Presentation                            18\n",
       "Name: company, dtype: int64"
      ]
     },
     "execution_count": 886,
     "metadata": {},
     "output_type": "execute_result"
    }
   ],
   "source": [
    "df_21_copy.company.value_counts().head()"
   ]
  },
  {
   "cell_type": "markdown",
   "id": "87f42f2d",
   "metadata": {},
   "source": [
    "## Define \n",
    "- Discription column will be divided to several columns"
   ]
  },
  {
   "cell_type": "code",
   "execution_count": 887,
   "id": "75bdaf9f",
   "metadata": {},
   "outputs": [
    {
     "data": {
      "text/plain": [
       "job_title      object\n",
       "company        object\n",
       "job_profile    object\n",
       "description    object\n",
       "location       object\n",
       "dtype: object"
      ]
     },
     "execution_count": 887,
     "metadata": {},
     "output_type": "execute_result"
    }
   ],
   "source": [
    "df_21_copy.dtypes"
   ]
  },
  {
   "cell_type": "code",
   "execution_count": 888,
   "id": "d28637a0",
   "metadata": {},
   "outputs": [],
   "source": [
    "# first we will make a list contains all the levels\n",
    "job_desc=df_21_copy.description\n",
    "The_job_title=df_21_copy.job_title\n",
    "levels=[]\n",
    "for i in job_desc:\n",
    "    if 'Internship' in i:\n",
    "        levels.append('Internship')     \n",
    "    elif 'Entry Level' in i:\n",
    "        levels.append('Entry Level')\n",
    "    elif 'Experienced'  in i:\n",
    "        levels.append('Experienced') \n",
    "    elif 'Manager' or 'Senior Management' in i:\n",
    "        levels.append('Manager')        \n",
    "    else:\n",
    "        levels.append(i)    \n",
    "        \n",
    " \n",
    "    \n",
    "# second we will make a list of the job status or type\n",
    "status=[]\n",
    "for i in job_desc:\n",
    "    if 'Full Time' in i:\n",
    "        status.append('Full Time')     \n",
    "    elif 'Part Time'  in i:\n",
    "        status.append('Part Time') \n",
    "    elif 'Internship' in i:\n",
    "        status.append('Internship')               \n",
    "    elif 'Full Time' and 'Part Time' in i:\n",
    "        status.append('Full Time' and 'Part Time')\n",
    "    elif 'Work From Home' in i:\n",
    "        status.append('Work From Home') \n",
    "    elif 'Contract' in i:\n",
    "        status.append('Contract')     \n",
    "    else:\n",
    "        status.append('not mentioned')    \n",
    "        \n",
    "#Third we will make a list of standered job types \n",
    "\n",
    "Standered_title=[]\n",
    "for i in The_job_title:\n",
    "    if 'IT' in i:\n",
    "        Standered_title.append('IT')     \n",
    "    elif 'Full Stack' or 'full stack' or 'Developer' or 'developer' or 'END' or 'end' in i:\n",
    "        Standered_title.append('Software Engneering') \n",
    "\n",
    "    else:\n",
    "        Standered_title.append('not mentioned')    "
   ]
  },
  {
   "cell_type": "code",
   "execution_count": 889,
   "id": "5cafad6c",
   "metadata": {},
   "outputs": [],
   "source": [
    "#we will need to add a column for the minimum years of experience required\n",
    "df_21_copy['experience_years']=df_21_copy.description.str.extract('(\\d+)')\n",
    "df_21_copy.experience_years=pd.to_numeric(df_21_copy.experience_years)\n",
    "mean_21=df_21_copy.experience_years.mean()\n",
    "df_21_copy.experience_years.replace(np.nan,mean_21,inplace=True)"
   ]
  },
  {
   "cell_type": "markdown",
   "id": "300d064f",
   "metadata": {},
   "source": [
    "## Test"
   ]
  },
  {
   "cell_type": "code",
   "execution_count": 890,
   "id": "da299a29",
   "metadata": {},
   "outputs": [
    {
     "name": "stdout",
     "output_type": "stream",
     "text": [
      "{'Internship', 'Part Time', 'Contract', 'Work From Home', 'Full Time'}\n",
      "2635\n",
      "2635\n"
     ]
    }
   ],
   "source": [
    "#statues\n",
    "print(set(status))\n",
    "print(len(status))\n",
    "print(len(df_21_copy.description))"
   ]
  },
  {
   "cell_type": "code",
   "execution_count": 891,
   "id": "a791f73f",
   "metadata": {},
   "outputs": [
    {
     "name": "stdout",
     "output_type": "stream",
     "text": [
      "{'Internship', 'Experienced', 'Manager', 'Entry Level'}\n",
      "2635\n",
      "2635\n"
     ]
    }
   ],
   "source": [
    "#levels\n",
    "print(set(levels))\n",
    "print(len(levels))\n",
    "print(len(df_21_copy.description))"
   ]
  },
  {
   "cell_type": "code",
   "execution_count": 892,
   "id": "897b8114",
   "metadata": {},
   "outputs": [
    {
     "name": "stdout",
     "output_type": "stream",
     "text": [
      "{'IT', 'Software Engneering'}\n",
      "2635\n",
      "2635\n"
     ]
    }
   ],
   "source": [
    "#levels\n",
    "print(set(Standered_title))\n",
    "print(len(Standered_title))\n",
    "print(len(df_21_copy.job_title))"
   ]
  },
  {
   "cell_type": "code",
   "execution_count": 893,
   "id": "d0913d00",
   "metadata": {},
   "outputs": [],
   "source": [
    "df_21_copy['level']=levels\n",
    "df_21_copy['Type']=status\n",
    "df_21_copy['Standered_Title']=Standered_title\n"
   ]
  },
  {
   "cell_type": "markdown",
   "id": "abc93978",
   "metadata": {},
   "source": [
    "## Define \n",
    "\n",
    "- we need to add a column for the post year"
   ]
  },
  {
   "cell_type": "markdown",
   "id": "f10e716a",
   "metadata": {},
   "source": [
    "## Code\n",
    "\n"
   ]
  },
  {
   "cell_type": "code",
   "execution_count": 894,
   "id": "fb09d0c3",
   "metadata": {},
   "outputs": [],
   "source": [
    "df_21_copy['year']=2021\n"
   ]
  },
  {
   "cell_type": "markdown",
   "id": "6e3d8cad",
   "metadata": {},
   "source": [
    "## Test\n"
   ]
  },
  {
   "cell_type": "code",
   "execution_count": 895,
   "id": "23813780",
   "metadata": {},
   "outputs": [
    {
     "data": {
      "text/html": [
       "<div>\n",
       "<style scoped>\n",
       "    .dataframe tbody tr th:only-of-type {\n",
       "        vertical-align: middle;\n",
       "    }\n",
       "\n",
       "    .dataframe tbody tr th {\n",
       "        vertical-align: top;\n",
       "    }\n",
       "\n",
       "    .dataframe thead th {\n",
       "        text-align: right;\n",
       "    }\n",
       "</style>\n",
       "<table border=\"1\" class=\"dataframe\">\n",
       "  <thead>\n",
       "    <tr style=\"text-align: right;\">\n",
       "      <th></th>\n",
       "      <th>job_title</th>\n",
       "      <th>company</th>\n",
       "      <th>job_profile</th>\n",
       "      <th>description</th>\n",
       "      <th>location</th>\n",
       "      <th>experience_years</th>\n",
       "      <th>level</th>\n",
       "      <th>Type</th>\n",
       "      <th>Standered_Title</th>\n",
       "      <th>year</th>\n",
       "    </tr>\n",
       "  </thead>\n",
       "  <tbody>\n",
       "    <tr>\n",
       "      <th>0</th>\n",
       "      <td>Business Development Specialist - Upper Egypt</td>\n",
       "      <td>golden</td>\n",
       "      <td>https://wuzzuf.net/jobs/p/1623d22c-3de2-455a-...</td>\n",
       "      <td>Full Time · Experienced · 2+ Yrs of Exp · Bus...</td>\n",
       "      <td>- Aswan- Egypt</td>\n",
       "      <td>2.0</td>\n",
       "      <td>Experienced</td>\n",
       "      <td>Full Time</td>\n",
       "      <td>Software Engneering</td>\n",
       "      <td>2021</td>\n",
       "    </tr>\n",
       "    <tr>\n",
       "      <th>1</th>\n",
       "      <td>Senior/Intermediate .NET Core Developer (Remo...</td>\n",
       "      <td>Confidential</td>\n",
       "      <td>https://wuzzuf.net/jobs/p/0efb55cc-3264-47b4-...</td>\n",
       "      <td>Full Time · Experienced · 4+ Yrs of Exp · Sof...</td>\n",
       "      <td>- Cairo- Egypt</td>\n",
       "      <td>4.0</td>\n",
       "      <td>Experienced</td>\n",
       "      <td>Full Time</td>\n",
       "      <td>Software Engneering</td>\n",
       "      <td>2021</td>\n",
       "    </tr>\n",
       "    <tr>\n",
       "      <th>2</th>\n",
       "      <td>Senior Software Developer</td>\n",
       "      <td>Bnsights</td>\n",
       "      <td>https://wuzzuf.net/jobs/p/d76caa63-bc76-4839-...</td>\n",
       "      <td>Full Time · Experienced · 6-10 Yrs of Exp · S...</td>\n",
       "      <td>- New Cairo- Cairo</td>\n",
       "      <td>6.0</td>\n",
       "      <td>Experienced</td>\n",
       "      <td>Full Time</td>\n",
       "      <td>Software Engneering</td>\n",
       "      <td>2021</td>\n",
       "    </tr>\n",
       "    <tr>\n",
       "      <th>3</th>\n",
       "      <td>Software Developer / Desktop Development</td>\n",
       "      <td>ITS</td>\n",
       "      <td>https://wuzzuf.net/jobs/p/2ffe3403-b147-4b38-...</td>\n",
       "      <td>Full Time · Entry Level · 0-2 Yrs of Exp · Co...</td>\n",
       "      <td>- Nasr City- Cairo</td>\n",
       "      <td>0.0</td>\n",
       "      <td>Entry Level</td>\n",
       "      <td>Full Time</td>\n",
       "      <td>Software Engneering</td>\n",
       "      <td>2021</td>\n",
       "    </tr>\n",
       "    <tr>\n",
       "      <th>4</th>\n",
       "      <td>Senior Software Developer -Dynamics 365...</td>\n",
       "      <td>CrossWorkers</td>\n",
       "      <td>https://wuzzuf.net/jobs/p/b6ae6a6a-47b8-47f7-...</td>\n",
       "      <td>Full Time · Experienced · 4-12 Yrs of Exp · A...</td>\n",
       "      <td>- New Cairo- Cairo</td>\n",
       "      <td>4.0</td>\n",
       "      <td>Experienced</td>\n",
       "      <td>Full Time</td>\n",
       "      <td>Software Engneering</td>\n",
       "      <td>2021</td>\n",
       "    </tr>\n",
       "  </tbody>\n",
       "</table>\n",
       "</div>"
      ],
      "text/plain": [
       "                                           job_title        company  \\\n",
       "0      Business Development Specialist - Upper Egypt         golden   \n",
       "1   Senior/Intermediate .NET Core Developer (Remo...   Confidential   \n",
       "2                          Senior Software Developer       Bnsights   \n",
       "3           Software Developer / Desktop Development            ITS   \n",
       "4         Senior Software Developer -Dynamics 365...   CrossWorkers   \n",
       "\n",
       "                                         job_profile  \\\n",
       "0   https://wuzzuf.net/jobs/p/1623d22c-3de2-455a-...   \n",
       "1   https://wuzzuf.net/jobs/p/0efb55cc-3264-47b4-...   \n",
       "2   https://wuzzuf.net/jobs/p/d76caa63-bc76-4839-...   \n",
       "3   https://wuzzuf.net/jobs/p/2ffe3403-b147-4b38-...   \n",
       "4   https://wuzzuf.net/jobs/p/b6ae6a6a-47b8-47f7-...   \n",
       "\n",
       "                                         description             location  \\\n",
       "0   Full Time · Experienced · 2+ Yrs of Exp · Bus...       - Aswan- Egypt   \n",
       "1   Full Time · Experienced · 4+ Yrs of Exp · Sof...       - Cairo- Egypt   \n",
       "2   Full Time · Experienced · 6-10 Yrs of Exp · S...   - New Cairo- Cairo   \n",
       "3   Full Time · Entry Level · 0-2 Yrs of Exp · Co...   - Nasr City- Cairo   \n",
       "4   Full Time · Experienced · 4-12 Yrs of Exp · A...   - New Cairo- Cairo   \n",
       "\n",
       "   experience_years        level       Type      Standered_Title  year  \n",
       "0               2.0  Experienced  Full Time  Software Engneering  2021  \n",
       "1               4.0  Experienced  Full Time  Software Engneering  2021  \n",
       "2               6.0  Experienced  Full Time  Software Engneering  2021  \n",
       "3               0.0  Entry Level  Full Time  Software Engneering  2021  \n",
       "4               4.0  Experienced  Full Time  Software Engneering  2021  "
      ]
     },
     "execution_count": 895,
     "metadata": {},
     "output_type": "execute_result"
    }
   ],
   "source": [
    "df_21_copy.head()"
   ]
  },
  {
   "cell_type": "markdown",
   "id": "28d4fc1f",
   "metadata": {},
   "source": [
    "# we will concat the 3 dataframes"
   ]
  },
  {
   "cell_type": "code",
   "execution_count": 896,
   "id": "6af07641",
   "metadata": {},
   "outputs": [
    {
     "data": {
      "text/html": [
       "<div>\n",
       "<style scoped>\n",
       "    .dataframe tbody tr th:only-of-type {\n",
       "        vertical-align: middle;\n",
       "    }\n",
       "\n",
       "    .dataframe tbody tr th {\n",
       "        vertical-align: top;\n",
       "    }\n",
       "\n",
       "    .dataframe thead th {\n",
       "        text-align: right;\n",
       "    }\n",
       "</style>\n",
       "<table border=\"1\" class=\"dataframe\">\n",
       "  <thead>\n",
       "    <tr style=\"text-align: right;\">\n",
       "      <th></th>\n",
       "      <th>job_title</th>\n",
       "      <th>company</th>\n",
       "      <th>job_profile</th>\n",
       "      <th>description</th>\n",
       "      <th>location</th>\n",
       "      <th>experience_years</th>\n",
       "      <th>level</th>\n",
       "      <th>Type</th>\n",
       "      <th>Standered_Title</th>\n",
       "      <th>year</th>\n",
       "    </tr>\n",
       "  </thead>\n",
       "  <tbody>\n",
       "    <tr>\n",
       "      <th>0</th>\n",
       "      <td>Business Development Specialist - Upper Egypt</td>\n",
       "      <td>golden</td>\n",
       "      <td>https://wuzzuf.net/jobs/p/1623d22c-3de2-455a-...</td>\n",
       "      <td>Full Time · Experienced · 2+ Yrs of Exp · Bus...</td>\n",
       "      <td>- Aswan- Egypt</td>\n",
       "      <td>2.0</td>\n",
       "      <td>Experienced</td>\n",
       "      <td>Full Time</td>\n",
       "      <td>Software Engneering</td>\n",
       "      <td>2021</td>\n",
       "    </tr>\n",
       "  </tbody>\n",
       "</table>\n",
       "</div>"
      ],
      "text/plain": [
       "                                        job_title  company  \\\n",
       "0   Business Development Specialist - Upper Egypt   golden   \n",
       "\n",
       "                                         job_profile  \\\n",
       "0   https://wuzzuf.net/jobs/p/1623d22c-3de2-455a-...   \n",
       "\n",
       "                                         description         location  \\\n",
       "0   Full Time · Experienced · 2+ Yrs of Exp · Bus...   - Aswan- Egypt   \n",
       "\n",
       "   experience_years        level       Type      Standered_Title  year  \n",
       "0               2.0  Experienced  Full Time  Software Engneering  2021  "
      ]
     },
     "execution_count": 896,
     "metadata": {},
     "output_type": "execute_result"
    }
   ],
   "source": [
    "df_21_copy.head(1)"
   ]
  },
  {
   "cell_type": "code",
   "execution_count": 897,
   "id": "0ed840b3",
   "metadata": {},
   "outputs": [
    {
     "data": {
      "text/html": [
       "<div>\n",
       "<style scoped>\n",
       "    .dataframe tbody tr th:only-of-type {\n",
       "        vertical-align: middle;\n",
       "    }\n",
       "\n",
       "    .dataframe tbody tr th {\n",
       "        vertical-align: top;\n",
       "    }\n",
       "\n",
       "    .dataframe thead th {\n",
       "        text-align: right;\n",
       "    }\n",
       "</style>\n",
       "<table border=\"1\" class=\"dataframe\">\n",
       "  <thead>\n",
       "    <tr style=\"text-align: right;\">\n",
       "      <th></th>\n",
       "      <th>job_title</th>\n",
       "      <th>company</th>\n",
       "      <th>job_profile</th>\n",
       "      <th>description</th>\n",
       "      <th>location</th>\n",
       "      <th>experience_years</th>\n",
       "      <th>level</th>\n",
       "      <th>Type</th>\n",
       "      <th>Standered_Title</th>\n",
       "      <th>year</th>\n",
       "    </tr>\n",
       "  </thead>\n",
       "  <tbody>\n",
       "    <tr>\n",
       "      <th>0</th>\n",
       "      <td>Sales Supervisor - North Upper Egypt</td>\n",
       "      <td>PepsiCo International</td>\n",
       "      <td>https://wuzzuf.net/jobs/p/cc5848eb-a2c4-4055-9...</td>\n",
       "      <td>Full Time · Manager · 1-3 Yrs of Exp · FMCG · ...</td>\n",
       "      <td>Beni Suef, Egypt</td>\n",
       "      <td>1.0</td>\n",
       "      <td>Manager</td>\n",
       "      <td>Full Time</td>\n",
       "      <td>Software Engneering</td>\n",
       "      <td>2020</td>\n",
       "    </tr>\n",
       "  </tbody>\n",
       "</table>\n",
       "</div>"
      ],
      "text/plain": [
       "                              job_title                company  \\\n",
       "0  Sales Supervisor - North Upper Egypt  PepsiCo International   \n",
       "\n",
       "                                         job_profile  \\\n",
       "0  https://wuzzuf.net/jobs/p/cc5848eb-a2c4-4055-9...   \n",
       "\n",
       "                                         description          location  \\\n",
       "0  Full Time · Manager · 1-3 Yrs of Exp · FMCG · ...  Beni Suef, Egypt   \n",
       "\n",
       "   experience_years    level       Type      Standered_Title  year  \n",
       "0               1.0  Manager  Full Time  Software Engneering  2020  "
      ]
     },
     "execution_count": 897,
     "metadata": {},
     "output_type": "execute_result"
    }
   ],
   "source": [
    "df_20_copy.head(1)"
   ]
  },
  {
   "cell_type": "code",
   "execution_count": 898,
   "id": "83f33cee",
   "metadata": {
    "scrolled": true
   },
   "outputs": [
    {
     "data": {
      "text/html": [
       "<div>\n",
       "<style scoped>\n",
       "    .dataframe tbody tr th:only-of-type {\n",
       "        vertical-align: middle;\n",
       "    }\n",
       "\n",
       "    .dataframe tbody tr th {\n",
       "        vertical-align: top;\n",
       "    }\n",
       "\n",
       "    .dataframe thead th {\n",
       "        text-align: right;\n",
       "    }\n",
       "</style>\n",
       "<table border=\"1\" class=\"dataframe\">\n",
       "  <thead>\n",
       "    <tr style=\"text-align: right;\">\n",
       "      <th></th>\n",
       "      <th>location</th>\n",
       "      <th>job_title</th>\n",
       "      <th>Standered_Title</th>\n",
       "      <th>job_industry</th>\n",
       "      <th>salary_minimum</th>\n",
       "      <th>salary_maximum</th>\n",
       "      <th>num_vacancies</th>\n",
       "      <th>level</th>\n",
       "      <th>experience_years</th>\n",
       "      <th>views</th>\n",
       "      <th>description</th>\n",
       "      <th>job_requirements</th>\n",
       "      <th>payment_period</th>\n",
       "      <th>currency</th>\n",
       "      <th>year</th>\n",
       "    </tr>\n",
       "  </thead>\n",
       "  <tbody>\n",
       "    <tr>\n",
       "      <th>0</th>\n",
       "      <td>Cairo</td>\n",
       "      <td>Senior PHP Developer</td>\n",
       "      <td>Software Engneering</td>\n",
       "      <td>Computer Software</td>\n",
       "      <td>3500.0</td>\n",
       "      <td>7500.0</td>\n",
       "      <td>5.0</td>\n",
       "      <td>Experienced (Non-Manager)</td>\n",
       "      <td>7</td>\n",
       "      <td>1055.0</td>\n",
       "      <td>Desired Experience  PHP Development Experience...</td>\n",
       "      <td>1. Solid commercial knowledge of PHP, XHTML, C...</td>\n",
       "      <td>Per Month</td>\n",
       "      <td>Egyptian Pound</td>\n",
       "      <td>2014</td>\n",
       "    </tr>\n",
       "  </tbody>\n",
       "</table>\n",
       "</div>"
      ],
      "text/plain": [
       "  location             job_title      Standered_Title       job_industry  \\\n",
       "0    Cairo  Senior PHP Developer  Software Engneering  Computer Software   \n",
       "\n",
       "   salary_minimum  salary_maximum  num_vacancies                      level  \\\n",
       "0          3500.0          7500.0            5.0  Experienced (Non-Manager)   \n",
       "\n",
       "   experience_years   views  \\\n",
       "0                 7  1055.0   \n",
       "\n",
       "                                         description  \\\n",
       "0  Desired Experience  PHP Development Experience...   \n",
       "\n",
       "                                    job_requirements payment_period  \\\n",
       "0  1. Solid commercial knowledge of PHP, XHTML, C...      Per Month   \n",
       "\n",
       "         currency  year  \n",
       "0  Egyptian Pound  2014  "
      ]
     },
     "execution_count": 898,
     "metadata": {},
     "output_type": "execute_result"
    }
   ],
   "source": [
    "df_14_16_copy.head(1)"
   ]
  },
  {
   "cell_type": "code",
   "execution_count": 899,
   "id": "73c29849",
   "metadata": {},
   "outputs": [],
   "source": [
    "# we will drop the column which are not in all of them \n",
    "df_20_copy = df_20_copy.drop( [ 'job_profile' ] ,axis = 1)\n",
    "df_21_copy = df_21_copy.drop( [ 'job_profile' ] ,axis = 1)\n",
    "df_14_16_copy = df_14_16_copy.drop( ['views','currency','num_vacancies','job_requirements' ] ,axis = 1)"
   ]
  },
  {
   "cell_type": "code",
   "execution_count": 900,
   "id": "29d87bd6",
   "metadata": {},
   "outputs": [],
   "source": [
    "df_14_16_copy.level.replace('Experienced (Non-Manager)','Experienced',inplace=True)\n",
    "df_14_16_copy.level.replace('Student','Internship',inplace=True)\n"
   ]
  },
  {
   "cell_type": "markdown",
   "id": "22e657bf",
   "metadata": {},
   "source": [
    "## Analysis of the new DataFrame"
   ]
  },
  {
   "cell_type": "code",
   "execution_count": 901,
   "id": "b64c7f63",
   "metadata": {},
   "outputs": [
    {
     "data": {
      "text/plain": [
       "1211"
      ]
     },
     "execution_count": 901,
     "metadata": {},
     "output_type": "execute_result"
    }
   ],
   "source": [
    "# Are there any duplicated values \n",
    "df.duplicated().sum()"
   ]
  },
  {
   "cell_type": "code",
   "execution_count": 934,
   "id": "bcc1380a",
   "metadata": {},
   "outputs": [
    {
     "data": {
      "text/plain": [
       "0"
      ]
     },
     "execution_count": 934,
     "metadata": {},
     "output_type": "execute_result"
    }
   ],
   "source": [
    "df.drop_duplicates(inplace=True)\n",
    "df.duplicated().sum()"
   ]
  },
  {
   "cell_type": "code",
   "execution_count": 903,
   "id": "94209188",
   "metadata": {},
   "outputs": [],
   "source": [
    "y=pd.concat([df_21_copy, df_20_copy], axis=0)\n",
    "df=pd.concat([df_14_16_copy, y], axis=0)\n",
    "df.Type.fillna('not mentioned',inplace=True)\n",
    "df.job_industry.fillna('not mentioned',inplace=True)\n",
    "df.salary_minimum.fillna('not mentioned',inplace=True)\n",
    "df.salary_maximum .fillna('not mentioned',inplace=True)\n",
    "df.payment_period.fillna('not mentioned',inplace=True)\n",
    "df.company.fillna('not mentioned',inplace=True)\n"
   ]
  },
  {
   "cell_type": "code",
   "execution_count": 904,
   "id": "57524a31",
   "metadata": {},
   "outputs": [
    {
     "data": {
      "text/plain": [
       "3.585188909165276"
      ]
     },
     "execution_count": 904,
     "metadata": {},
     "output_type": "execute_result"
    }
   ],
   "source": [
    "df.experience_years.mean()"
   ]
  },
  {
   "cell_type": "code",
   "execution_count": 935,
   "id": "eb5ed09b",
   "metadata": {
    "scrolled": true
   },
   "outputs": [
    {
     "data": {
      "text/plain": [
       "location            0\n",
       "job_title           0\n",
       "Standered_Title     0\n",
       "job_industry        0\n",
       "salary_minimum      0\n",
       "salary_maximum      0\n",
       "level               0\n",
       "experience_years    0\n",
       "description         0\n",
       "payment_period      0\n",
       "year                0\n",
       "company             0\n",
       "Type                0\n",
       "dtype: int64"
      ]
     },
     "execution_count": 935,
     "metadata": {},
     "output_type": "execute_result"
    }
   ],
   "source": [
    "df.isnull().sum()"
   ]
  },
  {
   "cell_type": "code",
   "execution_count": 907,
   "id": "2e1f1c0f",
   "metadata": {},
   "outputs": [
    {
     "data": {
      "text/plain": [
       "location             object\n",
       "job_title            object\n",
       "Standered_Title      object\n",
       "job_industry         object\n",
       "salary_minimum       object\n",
       "salary_maximum       object\n",
       "level                object\n",
       "experience_years    float64\n",
       "description          object\n",
       "payment_period       object\n",
       "year                  int64\n",
       "company              object\n",
       "Type                 object\n",
       "dtype: object"
      ]
     },
     "execution_count": 907,
     "metadata": {},
     "output_type": "execute_result"
    }
   ],
   "source": [
    "df.dtypes"
   ]
  },
  {
   "cell_type": "code",
   "execution_count": 908,
   "id": "6febeb15",
   "metadata": {},
   "outputs": [
    {
     "data": {
      "text/plain": [
       "location            0\n",
       "job_title           0\n",
       "Standered_Title     0\n",
       "job_industry        0\n",
       "salary_minimum      0\n",
       "salary_maximum      0\n",
       "level               0\n",
       "experience_years    0\n",
       "description         0\n",
       "payment_period      0\n",
       "year                0\n",
       "company             0\n",
       "Type                0\n",
       "dtype: int64"
      ]
     },
     "execution_count": 908,
     "metadata": {},
     "output_type": "execute_result"
    }
   ],
   "source": [
    "df.isnull().sum()"
   ]
  },
  {
   "cell_type": "code",
   "execution_count": 909,
   "id": "a09ddaf6",
   "metadata": {},
   "outputs": [
    {
     "data": {
      "text/html": [
       "<div>\n",
       "<style scoped>\n",
       "    .dataframe tbody tr th:only-of-type {\n",
       "        vertical-align: middle;\n",
       "    }\n",
       "\n",
       "    .dataframe tbody tr th {\n",
       "        vertical-align: top;\n",
       "    }\n",
       "\n",
       "    .dataframe thead th {\n",
       "        text-align: right;\n",
       "    }\n",
       "</style>\n",
       "<table border=\"1\" class=\"dataframe\">\n",
       "  <thead>\n",
       "    <tr style=\"text-align: right;\">\n",
       "      <th></th>\n",
       "      <th>location</th>\n",
       "      <th>job_title</th>\n",
       "      <th>Standered_Title</th>\n",
       "      <th>job_industry</th>\n",
       "      <th>salary_minimum</th>\n",
       "      <th>salary_maximum</th>\n",
       "      <th>level</th>\n",
       "      <th>experience_years</th>\n",
       "      <th>description</th>\n",
       "      <th>payment_period</th>\n",
       "      <th>year</th>\n",
       "      <th>company</th>\n",
       "      <th>Type</th>\n",
       "    </tr>\n",
       "  </thead>\n",
       "  <tbody>\n",
       "    <tr>\n",
       "      <th>0</th>\n",
       "      <td>Cairo</td>\n",
       "      <td>Senior PHP Developer</td>\n",
       "      <td>Software Engneering</td>\n",
       "      <td>Computer Software</td>\n",
       "      <td>3500.0</td>\n",
       "      <td>7500.0</td>\n",
       "      <td>Experienced</td>\n",
       "      <td>7.0</td>\n",
       "      <td>Desired Experience  PHP Development Experience...</td>\n",
       "      <td>Per Month</td>\n",
       "      <td>2014</td>\n",
       "      <td>not mentioned</td>\n",
       "      <td>not mentioned</td>\n",
       "    </tr>\n",
       "    <tr>\n",
       "      <th>1</th>\n",
       "      <td>Alexandria</td>\n",
       "      <td>Secretary</td>\n",
       "      <td>Software Engneering</td>\n",
       "      <td>Medical Devices and Supplies</td>\n",
       "      <td>1200.0</td>\n",
       "      <td>1800.0</td>\n",
       "      <td>Entry Level</td>\n",
       "      <td>0.0</td>\n",
       "      <td>Job Description: Coordination for departments,...</td>\n",
       "      <td>Per Month</td>\n",
       "      <td>2014</td>\n",
       "      <td>not mentioned</td>\n",
       "      <td>not mentioned</td>\n",
       "    </tr>\n",
       "    <tr>\n",
       "      <th>2</th>\n",
       "      <td>Cairo</td>\n",
       "      <td>Tour operator and Social Media Associate</td>\n",
       "      <td>Software Engneering</td>\n",
       "      <td>Online Media</td>\n",
       "      <td>800.0</td>\n",
       "      <td>1700.0</td>\n",
       "      <td>Experienced</td>\n",
       "      <td>2.0</td>\n",
       "      <td>We are looking for a super star who have past ...</td>\n",
       "      <td>Per Month</td>\n",
       "      <td>2014</td>\n",
       "      <td>not mentioned</td>\n",
       "      <td>not mentioned</td>\n",
       "    </tr>\n",
       "    <tr>\n",
       "      <th>3</th>\n",
       "      <td>Cairo</td>\n",
       "      <td>Web Developer</td>\n",
       "      <td>Software Engneering</td>\n",
       "      <td>Computer Software</td>\n",
       "      <td>2000.0</td>\n",
       "      <td>3000.0</td>\n",
       "      <td>Entry Level</td>\n",
       "      <td>2.0</td>\n",
       "      <td>Write your job summary and responsibilities.</td>\n",
       "      <td>Per Month</td>\n",
       "      <td>2014</td>\n",
       "      <td>not mentioned</td>\n",
       "      <td>not mentioned</td>\n",
       "    </tr>\n",
       "    <tr>\n",
       "      <th>4</th>\n",
       "      <td>Cairo</td>\n",
       "      <td>Business Intelligence</td>\n",
       "      <td>Software Engneering</td>\n",
       "      <td>Computer Software</td>\n",
       "      <td>4000.0</td>\n",
       "      <td>6000.0</td>\n",
       "      <td>Experienced</td>\n",
       "      <td>2.0</td>\n",
       "      <td>Performs a variety of development assignments...</td>\n",
       "      <td>Per Month</td>\n",
       "      <td>2014</td>\n",
       "      <td>not mentioned</td>\n",
       "      <td>not mentioned</td>\n",
       "    </tr>\n",
       "  </tbody>\n",
       "</table>\n",
       "</div>"
      ],
      "text/plain": [
       "     location                                 job_title      Standered_Title  \\\n",
       "0       Cairo                      Senior PHP Developer  Software Engneering   \n",
       "1  Alexandria                                Secretary   Software Engneering   \n",
       "2       Cairo  Tour operator and Social Media Associate  Software Engneering   \n",
       "3       Cairo                             Web Developer  Software Engneering   \n",
       "4       Cairo                    Business Intelligence   Software Engneering   \n",
       "\n",
       "                   job_industry salary_minimum salary_maximum        level  \\\n",
       "0             Computer Software         3500.0         7500.0  Experienced   \n",
       "1  Medical Devices and Supplies         1200.0         1800.0  Entry Level   \n",
       "2               Online Media             800.0         1700.0  Experienced   \n",
       "3             Computer Software         2000.0         3000.0  Entry Level   \n",
       "4             Computer Software         4000.0         6000.0  Experienced   \n",
       "\n",
       "   experience_years                                        description  \\\n",
       "0               7.0  Desired Experience  PHP Development Experience...   \n",
       "1               0.0  Job Description: Coordination for departments,...   \n",
       "2               2.0  We are looking for a super star who have past ...   \n",
       "3               2.0       Write your job summary and responsibilities.   \n",
       "4               2.0   Performs a variety of development assignments...   \n",
       "\n",
       "  payment_period  year        company           Type  \n",
       "0      Per Month  2014  not mentioned  not mentioned  \n",
       "1      Per Month  2014  not mentioned  not mentioned  \n",
       "2      Per Month  2014  not mentioned  not mentioned  \n",
       "3      Per Month  2014  not mentioned  not mentioned  \n",
       "4      Per Month  2014  not mentioned  not mentioned  "
      ]
     },
     "execution_count": 909,
     "metadata": {},
     "output_type": "execute_result"
    }
   ],
   "source": [
    "df.head()"
   ]
  },
  {
   "cell_type": "code",
   "execution_count": 910,
   "id": "7ce3eca6",
   "metadata": {},
   "outputs": [
    {
     "data": {
      "text/plain": [
       "Experienced    11752\n",
       "Entry Level     4112\n",
       "Manager         1832\n",
       "Name: level, dtype: int64"
      ]
     },
     "execution_count": 910,
     "metadata": {},
     "output_type": "execute_result"
    }
   ],
   "source": [
    "df['level'].value_counts()[:3]"
   ]
  },
  {
   "cell_type": "code",
   "execution_count": 1006,
   "id": "b674960d",
   "metadata": {},
   "outputs": [
    {
     "data": {
      "text/plain": [
       "<AxesSubplot:>"
      ]
     },
     "execution_count": 1006,
     "metadata": {},
     "output_type": "execute_result"
    },
    {
     "data": {
      "image/png": "[encoded data removed]",
      "text/plain": [
       "<Figure size 432x288 with 1 Axes>"
      ]
     },
     "metadata": {
      "needs_background": "light"
     },
     "output_type": "display_data"
    }
   ],
   "source": [
    "levels=df['level'].value_counts().head()\n",
    "levels.plot(kind='barh')"
   ]
  },
  {
   "cell_type": "markdown",
   "id": "4aaeecd6",
   "metadata": {},
   "source": [
    "- we conclude that more than 10000 offers are for Experienced people and in the second place comed the Entry level jobs"
   ]
  },
  {
   "cell_type": "code",
   "execution_count": 1005,
   "id": "10b0acb7",
   "metadata": {},
   "outputs": [
    {
     "data": {
      "image/png": "[encoded data removed]",
      "text/plain": [
       "<Figure size 576x576 with 1 Axes>"
      ]
     },
     "metadata": {},
     "output_type": "display_data"
    }
   ],
   "source": [
    "levels.plot(kind='pie',figsize=(8,8));"
   ]
  },
  {
   "cell_type": "markdown",
   "id": "fbbbd168",
   "metadata": {},
   "source": [
    "- This pie chart shows clearly the big difference between the Experienced and the rest"
   ]
  },
  {
   "cell_type": "code",
   "execution_count": 913,
   "id": "ab2794af",
   "metadata": {},
   "outputs": [
    {
     "data": {
      "image/png": "[encoded data removed]",
      "text/plain": [
       "<Figure size 432x288 with 1 Axes>"
      ]
     },
     "metadata": {
      "needs_background": "light"
     },
     "output_type": "display_data"
    }
   ],
   "source": [
    "df.Type.value_counts()[1:].plot(kind='bar');"
   ]
  },
  {
   "cell_type": "markdown",
   "id": "36962902",
   "metadata": {},
   "source": [
    "- we can conclude from here that most of the job offers are full time job offers "
   ]
  },
  {
   "cell_type": "code",
   "execution_count": 949,
   "id": "53d6107c",
   "metadata": {},
   "outputs": [
    {
     "data": {
      "image/png": "[encoded data removed]",
      "text/plain": [
       "<Figure size 432x288 with 1 Axes>"
      ]
     },
     "metadata": {
      "needs_background": "light"
     },
     "output_type": "display_data"
    }
   ],
   "source": [
    "ax=df.job_title.value_counts()[:15].plot(kind='barh');"
   ]
  },
  {
   "cell_type": "markdown",
   "id": "fece50b4",
   "metadata": {},
   "source": [
    "**we conclude that the most wanted job in the concatenated dataset is graphic designer**"
   ]
  },
  {
   "cell_type": "code",
   "execution_count": 994,
   "id": "e51a4a0a",
   "metadata": {},
   "outputs": [
    {
     "data": {
      "image/png": "[encoded data removed]",
      "text/plain": [
       "<Figure size 432x288 with 1 Axes>"
      ]
     },
     "metadata": {
      "needs_background": "light"
     },
     "output_type": "display_data"
    }
   ],
   "source": [
    "df[df.year == 2021].job_title.value_counts()[:8].plot(kind='barh',title='2021');\n"
   ]
  },
  {
   "cell_type": "markdown",
   "id": "1a5b2f55",
   "metadata": {},
   "source": [
    "**we conclude that the most wanted job in 2021 is IT Specialist**\n"
   ]
  },
  {
   "cell_type": "code",
   "execution_count": 985,
   "id": "0b06a586",
   "metadata": {},
   "outputs": [
    {
     "data": {
      "image/png": "[encoded data removed]",
      "text/plain": [
       "<Figure size 432x288 with 1 Axes>"
      ]
     },
     "metadata": {
      "needs_background": "light"
     },
     "output_type": "display_data"
    }
   ],
   "source": [
    "df.location.value_counts()[:3].plot(kind='barh');"
   ]
  },
  {
   "cell_type": "markdown",
   "id": "6450840a",
   "metadata": {},
   "source": [
    "**we can conclude here that most of the job offers are in Cairo then Giza**"
   ]
  },
  {
   "cell_type": "code",
   "execution_count": 916,
   "id": "49beaefa",
   "metadata": {},
   "outputs": [
    {
     "data": {
      "image/png": "[encoded data removed]",
      "text/plain": [
       "<Figure size 432x288 with 1 Axes>"
      ]
     },
     "metadata": {
      "needs_background": "light"
     },
     "output_type": "display_data"
    }
   ],
   "source": [
    "df.Standered_Title.value_counts()[:12].plot(kind='barh');"
   ]
  },
  {
   "cell_type": "markdown",
   "id": "13b20d9f",
   "metadata": {},
   "source": [
    "**we can conclude from here that the most wanted job is Software engineering  then IT**"
   ]
  },
  {
   "cell_type": "code",
   "execution_count": 990,
   "id": "81affeb1",
   "metadata": {},
   "outputs": [
    {
     "data": {
      "image/png": "[encoded data removed]",
      "text/plain": [
       "<Figure size 432x288 with 1 Axes>"
      ]
     },
     "metadata": {
      "needs_background": "light"
     },
     "output_type": "display_data"
    }
   ],
   "source": [
    "df.company.value_counts()[1:12].plot(kind='barh');"
   ]
  },
  {
   "cell_type": "markdown",
   "id": "d9ca3864",
   "metadata": {},
   "source": [
    "**Most of the job offers comes from these companies and it's obvious that alot of companies hide their name**"
   ]
  },
  {
   "cell_type": "code",
   "execution_count": 1004,
   "id": "0a90ab9c",
   "metadata": {},
   "outputs": [
    {
     "data": {
      "image/png": "[encoded data removed]",
      "text/plain": [
       "<Figure size 432x432 with 1 Axes>"
      ]
     },
     "metadata": {},
     "output_type": "display_data"
    }
   ],
   "source": [
    "df.Type.value_counts()[1:4].plot(kind='pie',figsize=(6,6));"
   ]
  },
  {
   "cell_type": "markdown",
   "id": "b8e21c8c",
   "metadata": {},
   "source": [
    "**Full time is the most wanted job type**"
   ]
  },
  {
   "cell_type": "code",
   "execution_count": 917,
   "id": "e4eaafe6",
   "metadata": {
    "scrolled": true
   },
   "outputs": [
    {
     "data": {
      "text/html": [
       "<div>\n",
       "<style scoped>\n",
       "    .dataframe tbody tr th:only-of-type {\n",
       "        vertical-align: middle;\n",
       "    }\n",
       "\n",
       "    .dataframe tbody tr th {\n",
       "        vertical-align: top;\n",
       "    }\n",
       "\n",
       "    .dataframe thead th {\n",
       "        text-align: right;\n",
       "    }\n",
       "</style>\n",
       "<table border=\"1\" class=\"dataframe\">\n",
       "  <thead>\n",
       "    <tr style=\"text-align: right;\">\n",
       "      <th></th>\n",
       "      <th>location</th>\n",
       "      <th>job_title</th>\n",
       "      <th>Standered_Title</th>\n",
       "      <th>job_industry</th>\n",
       "      <th>salary_minimum</th>\n",
       "      <th>salary_maximum</th>\n",
       "      <th>level</th>\n",
       "      <th>experience_years</th>\n",
       "      <th>description</th>\n",
       "      <th>payment_period</th>\n",
       "      <th>year</th>\n",
       "      <th>company</th>\n",
       "      <th>Type</th>\n",
       "    </tr>\n",
       "  </thead>\n",
       "  <tbody>\n",
       "    <tr>\n",
       "      <th>2570</th>\n",
       "      <td>Alexandria, Egypt</td>\n",
       "      <td>Back-End (PHP) Developer - Alexandria</td>\n",
       "      <td>Software Engneering</td>\n",
       "      <td>not mentioned</td>\n",
       "      <td>not mentioned</td>\n",
       "      <td>not mentioned</td>\n",
       "      <td>Experienced</td>\n",
       "      <td>3.0</td>\n",
       "      <td>Full Time · Experienced · 3+ Yrs of Exp · HTML...</td>\n",
       "      <td>not mentioned</td>\n",
       "      <td>2020</td>\n",
       "      <td>Caduceus Lane</td>\n",
       "      <td>Full Time</td>\n",
       "    </tr>\n",
       "    <tr>\n",
       "      <th>2571</th>\n",
       "      <td>Dokki, Giza</td>\n",
       "      <td>Sr. Flutter Developer</td>\n",
       "      <td>Software Engneering</td>\n",
       "      <td>not mentioned</td>\n",
       "      <td>not mentioned</td>\n",
       "      <td>not mentioned</td>\n",
       "      <td>Experienced</td>\n",
       "      <td>2.0</td>\n",
       "      <td>Full Time · Experienced · 2-3 Yrs of Exp · Mob...</td>\n",
       "      <td>not mentioned</td>\n",
       "      <td>2020</td>\n",
       "      <td>3i Vision LTD.</td>\n",
       "      <td>Full Time</td>\n",
       "    </tr>\n",
       "    <tr>\n",
       "      <th>2572</th>\n",
       "      <td>Nasr City, Cairo</td>\n",
       "      <td>Senior Web Developer</td>\n",
       "      <td>Software Engneering</td>\n",
       "      <td>not mentioned</td>\n",
       "      <td>not mentioned</td>\n",
       "      <td>not mentioned</td>\n",
       "      <td>Experienced</td>\n",
       "      <td>3.0</td>\n",
       "      <td>Full Time · Experienced · 3+ Yrs of Exp · Web ...</td>\n",
       "      <td>not mentioned</td>\n",
       "      <td>2020</td>\n",
       "      <td>Glamera</td>\n",
       "      <td>Full Time</td>\n",
       "    </tr>\n",
       "    <tr>\n",
       "      <th>2573</th>\n",
       "      <td>Nasr City, Cairo</td>\n",
       "      <td>Senior Full Stack Developer - Nasr City</td>\n",
       "      <td>Software Engneering</td>\n",
       "      <td>not mentioned</td>\n",
       "      <td>not mentioned</td>\n",
       "      <td>not mentioned</td>\n",
       "      <td>Experienced</td>\n",
       "      <td>3.0</td>\n",
       "      <td>Full Time · Experienced · 3+ Yrs of Exp · Info...</td>\n",
       "      <td>not mentioned</td>\n",
       "      <td>2020</td>\n",
       "      <td>Superior Business Solutions</td>\n",
       "      <td>Full Time</td>\n",
       "    </tr>\n",
       "    <tr>\n",
       "      <th>2574</th>\n",
       "      <td>Maadi, Cairo</td>\n",
       "      <td>Outsourcing Technical Support Specialist</td>\n",
       "      <td>Software Engneering</td>\n",
       "      <td>not mentioned</td>\n",
       "      <td>not mentioned</td>\n",
       "      <td>not mentioned</td>\n",
       "      <td>Experienced</td>\n",
       "      <td>3.0</td>\n",
       "      <td>Full Time · Shift Based · Experienced · 3+ Yrs...</td>\n",
       "      <td>not mentioned</td>\n",
       "      <td>2020</td>\n",
       "      <td>Interact Technology Solutions</td>\n",
       "      <td>Full Time</td>\n",
       "    </tr>\n",
       "    <tr>\n",
       "      <th>2575</th>\n",
       "      <td>New Cairo, Cairo</td>\n",
       "      <td>Senior .Net Developer (NetEDI)</td>\n",
       "      <td>Software Engneering</td>\n",
       "      <td>not mentioned</td>\n",
       "      <td>not mentioned</td>\n",
       "      <td>not mentioned</td>\n",
       "      <td>Experienced</td>\n",
       "      <td>5.0</td>\n",
       "      <td>Full Time · Experienced · 5+ Yrs of Exp · C# ·...</td>\n",
       "      <td>not mentioned</td>\n",
       "      <td>2020</td>\n",
       "      <td>Cegedim</td>\n",
       "      <td>Full Time</td>\n",
       "    </tr>\n",
       "    <tr>\n",
       "      <th>2576</th>\n",
       "      <td>Maadi, Cairo</td>\n",
       "      <td>Senior Front End Developer</td>\n",
       "      <td>Software Engneering</td>\n",
       "      <td>not mentioned</td>\n",
       "      <td>not mentioned</td>\n",
       "      <td>not mentioned</td>\n",
       "      <td>Experienced</td>\n",
       "      <td>3.0</td>\n",
       "      <td>Full Time · Experienced · 3+ Yrs of Exp · Git ...</td>\n",
       "      <td>not mentioned</td>\n",
       "      <td>2020</td>\n",
       "      <td>Automated Systems</td>\n",
       "      <td>Full Time</td>\n",
       "    </tr>\n",
       "    <tr>\n",
       "      <th>2577</th>\n",
       "      <td>Nasr City, Cairo</td>\n",
       "      <td>Senior PHP Developer - Nasr City</td>\n",
       "      <td>Software Engneering</td>\n",
       "      <td>not mentioned</td>\n",
       "      <td>not mentioned</td>\n",
       "      <td>not mentioned</td>\n",
       "      <td>Experienced</td>\n",
       "      <td>3.0</td>\n",
       "      <td>Full Time · Experienced · 3-10 Yrs of Exp · So...</td>\n",
       "      <td>not mentioned</td>\n",
       "      <td>2020</td>\n",
       "      <td>Maxycode</td>\n",
       "      <td>Full Time</td>\n",
       "    </tr>\n",
       "    <tr>\n",
       "      <th>2578</th>\n",
       "      <td>Nasr City, Cairo</td>\n",
       "      <td>PHP Developer - intern</td>\n",
       "      <td>Software Engneering</td>\n",
       "      <td>not mentioned</td>\n",
       "      <td>not mentioned</td>\n",
       "      <td>not mentioned</td>\n",
       "      <td>Internship</td>\n",
       "      <td>0.0</td>\n",
       "      <td>Internship · Student · 0-1 Yrs of Exp · PHP · ...</td>\n",
       "      <td>not mentioned</td>\n",
       "      <td>2020</td>\n",
       "      <td>Magdsoft</td>\n",
       "      <td>Internship</td>\n",
       "    </tr>\n",
       "    <tr>\n",
       "      <th>2579</th>\n",
       "      <td>New Cairo, Cairo</td>\n",
       "      <td>Php Back-end Developer</td>\n",
       "      <td>Software Engneering</td>\n",
       "      <td>not mentioned</td>\n",
       "      <td>not mentioned</td>\n",
       "      <td>not mentioned</td>\n",
       "      <td>Experienced</td>\n",
       "      <td>2.0</td>\n",
       "      <td>Full Time · Experienced · 2-5 Yrs of Exp · PHP...</td>\n",
       "      <td>not mentioned</td>\n",
       "      <td>2020</td>\n",
       "      <td>IPC</td>\n",
       "      <td>Full Time</td>\n",
       "    </tr>\n",
       "  </tbody>\n",
       "</table>\n",
       "</div>"
      ],
      "text/plain": [
       "               location                                 job_title  \\\n",
       "2570  Alexandria, Egypt     Back-End (PHP) Developer - Alexandria   \n",
       "2571        Dokki, Giza                     Sr. Flutter Developer   \n",
       "2572   Nasr City, Cairo                      Senior Web Developer   \n",
       "2573   Nasr City, Cairo   Senior Full Stack Developer - Nasr City   \n",
       "2574       Maadi, Cairo  Outsourcing Technical Support Specialist   \n",
       "2575   New Cairo, Cairo            Senior .Net Developer (NetEDI)   \n",
       "2576       Maadi, Cairo                Senior Front End Developer   \n",
       "2577   Nasr City, Cairo          Senior PHP Developer - Nasr City   \n",
       "2578   Nasr City, Cairo                    PHP Developer - intern   \n",
       "2579   New Cairo, Cairo                    Php Back-end Developer   \n",
       "\n",
       "          Standered_Title   job_industry salary_minimum salary_maximum  \\\n",
       "2570  Software Engneering  not mentioned  not mentioned  not mentioned   \n",
       "2571  Software Engneering  not mentioned  not mentioned  not mentioned   \n",
       "2572  Software Engneering  not mentioned  not mentioned  not mentioned   \n",
       "2573  Software Engneering  not mentioned  not mentioned  not mentioned   \n",
       "2574  Software Engneering  not mentioned  not mentioned  not mentioned   \n",
       "2575  Software Engneering  not mentioned  not mentioned  not mentioned   \n",
       "2576  Software Engneering  not mentioned  not mentioned  not mentioned   \n",
       "2577  Software Engneering  not mentioned  not mentioned  not mentioned   \n",
       "2578  Software Engneering  not mentioned  not mentioned  not mentioned   \n",
       "2579  Software Engneering  not mentioned  not mentioned  not mentioned   \n",
       "\n",
       "            level  experience_years  \\\n",
       "2570  Experienced               3.0   \n",
       "2571  Experienced               2.0   \n",
       "2572  Experienced               3.0   \n",
       "2573  Experienced               3.0   \n",
       "2574  Experienced               3.0   \n",
       "2575  Experienced               5.0   \n",
       "2576  Experienced               3.0   \n",
       "2577  Experienced               3.0   \n",
       "2578   Internship               0.0   \n",
       "2579  Experienced               2.0   \n",
       "\n",
       "                                            description payment_period  year  \\\n",
       "2570  Full Time · Experienced · 3+ Yrs of Exp · HTML...  not mentioned  2020   \n",
       "2571  Full Time · Experienced · 2-3 Yrs of Exp · Mob...  not mentioned  2020   \n",
       "2572  Full Time · Experienced · 3+ Yrs of Exp · Web ...  not mentioned  2020   \n",
       "2573  Full Time · Experienced · 3+ Yrs of Exp · Info...  not mentioned  2020   \n",
       "2574  Full Time · Shift Based · Experienced · 3+ Yrs...  not mentioned  2020   \n",
       "2575  Full Time · Experienced · 5+ Yrs of Exp · C# ·...  not mentioned  2020   \n",
       "2576  Full Time · Experienced · 3+ Yrs of Exp · Git ...  not mentioned  2020   \n",
       "2577  Full Time · Experienced · 3-10 Yrs of Exp · So...  not mentioned  2020   \n",
       "2578  Internship · Student · 0-1 Yrs of Exp · PHP · ...  not mentioned  2020   \n",
       "2579  Full Time · Experienced · 2-5 Yrs of Exp · PHP...  not mentioned  2020   \n",
       "\n",
       "                            company        Type  \n",
       "2570                  Caduceus Lane   Full Time  \n",
       "2571                 3i Vision LTD.   Full Time  \n",
       "2572                        Glamera   Full Time  \n",
       "2573    Superior Business Solutions   Full Time  \n",
       "2574  Interact Technology Solutions   Full Time  \n",
       "2575                        Cegedim   Full Time  \n",
       "2576              Automated Systems   Full Time  \n",
       "2577                       Maxycode   Full Time  \n",
       "2578                       Magdsoft  Internship  \n",
       "2579                            IPC   Full Time  "
      ]
     },
     "execution_count": 917,
     "metadata": {},
     "output_type": "execute_result"
    }
   ],
   "source": [
    "df.tail(10)"
   ]
  }
 ],
 "metadata": {
  "kernelspec": {
   "display_name": "Python 3",
   "language": "python",
   "name": "python3"
  },
  "language_info": {
   "codemirror_mode": {
    "name": "ipython",
    "version": 3
   },
   "file_extension": ".py",
   "mimetype": "text/x-python",
   "name": "python",
   "nbconvert_exporter": "python",
   "pygments_lexer": "ipython3",
   "version": "3.8.8"
  }
 },
 "nbformat": 4,
 "nbformat_minor": 5
}
