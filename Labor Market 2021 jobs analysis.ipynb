{
 "cells": [
  {
   "cell_type": "markdown",
   "id": "1674b49a",
   "metadata": {},
   "source": [
    "# Gathering"
   ]
  },
  {
   "cell_type": "code",
   "execution_count": 126,
   "id": "883aef77",
   "metadata": {},
   "outputs": [],
   "source": [
    "import pandas as pd\n",
    "import numpy as np\n",
    "\n",
    "df_21=pd.read_csv('ًwuzzaf9_8_2021.csv')\n"
   ]
  },
  {
   "cell_type": "markdown",
   "id": "1ce73d64",
   "metadata": {},
   "source": [
    "# Assess"
   ]
  },
  {
   "cell_type": "markdown",
   "id": "6506df89",
   "metadata": {},
   "source": [
    "Accounting and finance dataset"
   ]
  },
  {
   "cell_type": "code",
   "execution_count": 127,
   "id": "5c1d66b7",
   "metadata": {
    "scrolled": false
   },
   "outputs": [
    {
     "data": {
      "text/html": [
       "<div>\n",
       "<style scoped>\n",
       "    .dataframe tbody tr th:only-of-type {\n",
       "        vertical-align: middle;\n",
       "    }\n",
       "\n",
       "    .dataframe tbody tr th {\n",
       "        vertical-align: top;\n",
       "    }\n",
       "\n",
       "    .dataframe thead th {\n",
       "        text-align: right;\n",
       "    }\n",
       "</style>\n",
       "<table border=\"1\" class=\"dataframe\">\n",
       "  <thead>\n",
       "    <tr style=\"text-align: right;\">\n",
       "      <th></th>\n",
       "      <th>page_URL</th>\n",
       "      <th>job_title</th>\n",
       "      <th>company_names</th>\n",
       "      <th>job_link</th>\n",
       "      <th>job_link_link</th>\n",
       "      <th>job_description</th>\n",
       "      <th>location</th>\n",
       "    </tr>\n",
       "  </thead>\n",
       "  <tbody>\n",
       "    <tr>\n",
       "      <th>0</th>\n",
       "      <td>https://wuzzuf.net/a/IT-Software-Development-J...</td>\n",
       "      <td>Business Development Specialist - Upper Egypt</td>\n",
       "      <td>golden</td>\n",
       "      <td>Business Development Specialist - Upper Egypt</td>\n",
       "      <td>https://wuzzuf.net/jobs/p/1623d22c-3de2-455a-...</td>\n",
       "      <td>Full Time · Experienced · 2+ Yrs of Exp · Bus...</td>\n",
       "      <td>- Aswan- Egypt</td>\n",
       "    </tr>\n",
       "    <tr>\n",
       "      <th>1</th>\n",
       "      <td>https://wuzzuf.net/a/IT-Software-Development-...</td>\n",
       "      <td>Senior/Intermediate .NET Core Developer (Remo...</td>\n",
       "      <td>Confidential</td>\n",
       "      <td>Senior/Intermediate .NET Core Developer (Remo...</td>\n",
       "      <td>https://wuzzuf.net/jobs/p/0efb55cc-3264-47b4-...</td>\n",
       "      <td>Full Time · Experienced · 4+ Yrs of Exp · Sof...</td>\n",
       "      <td>- Cairo- Egypt</td>\n",
       "    </tr>\n",
       "    <tr>\n",
       "      <th>2</th>\n",
       "      <td>https://wuzzuf.net/a/IT-Software-Development-...</td>\n",
       "      <td>Senior Software Developer</td>\n",
       "      <td>Bnsights</td>\n",
       "      <td>Senior Software Developer</td>\n",
       "      <td>https://wuzzuf.net/jobs/p/d76caa63-bc76-4839-...</td>\n",
       "      <td>Full Time · Experienced · 6-10 Yrs of Exp · S...</td>\n",
       "      <td>- New Cairo- Cairo</td>\n",
       "    </tr>\n",
       "    <tr>\n",
       "      <th>3</th>\n",
       "      <td>https://wuzzuf.net/a/IT-Software-Development-...</td>\n",
       "      <td>Software Developer / Desktop Development</td>\n",
       "      <td>ITS</td>\n",
       "      <td>Software Developer / Desktop Development</td>\n",
       "      <td>https://wuzzuf.net/jobs/p/2ffe3403-b147-4b38-...</td>\n",
       "      <td>Full Time · Entry Level · 0-2 Yrs of Exp · Co...</td>\n",
       "      <td>- Nasr City- Cairo</td>\n",
       "    </tr>\n",
       "    <tr>\n",
       "      <th>4</th>\n",
       "      <td>https://wuzzuf.net/a/IT-Software-Development-...</td>\n",
       "      <td>Senior Software Developer -Dynamics 365...</td>\n",
       "      <td>CrossWorkers</td>\n",
       "      <td>Senior Software Developer -Dynamics 365...</td>\n",
       "      <td>https://wuzzuf.net/jobs/p/b6ae6a6a-47b8-47f7-...</td>\n",
       "      <td>Full Time · Experienced · 4-12 Yrs of Exp · A...</td>\n",
       "      <td>- New Cairo- Cairo</td>\n",
       "    </tr>\n",
       "  </tbody>\n",
       "</table>\n",
       "</div>"
      ],
      "text/plain": [
       "                                           page_URL   \\\n",
       "0  https://wuzzuf.net/a/IT-Software-Development-J...   \n",
       "1   https://wuzzuf.net/a/IT-Software-Development-...   \n",
       "2   https://wuzzuf.net/a/IT-Software-Development-...   \n",
       "3   https://wuzzuf.net/a/IT-Software-Development-...   \n",
       "4   https://wuzzuf.net/a/IT-Software-Development-...   \n",
       "\n",
       "                                          job_title  company_names   \\\n",
       "0      Business Development Specialist - Upper Egypt         golden   \n",
       "1   Senior/Intermediate .NET Core Developer (Remo...   Confidential   \n",
       "2                          Senior Software Developer       Bnsights   \n",
       "3           Software Developer / Desktop Development            ITS   \n",
       "4         Senior Software Developer -Dynamics 365...   CrossWorkers   \n",
       "\n",
       "                                           job_link   \\\n",
       "0      Business Development Specialist - Upper Egypt   \n",
       "1   Senior/Intermediate .NET Core Developer (Remo...   \n",
       "2                          Senior Software Developer   \n",
       "3           Software Developer / Desktop Development   \n",
       "4         Senior Software Developer -Dynamics 365...   \n",
       "\n",
       "                                       job_link_link  \\\n",
       "0   https://wuzzuf.net/jobs/p/1623d22c-3de2-455a-...   \n",
       "1   https://wuzzuf.net/jobs/p/0efb55cc-3264-47b4-...   \n",
       "2   https://wuzzuf.net/jobs/p/d76caa63-bc76-4839-...   \n",
       "3   https://wuzzuf.net/jobs/p/2ffe3403-b147-4b38-...   \n",
       "4   https://wuzzuf.net/jobs/p/b6ae6a6a-47b8-47f7-...   \n",
       "\n",
       "                                     job_description             location  \n",
       "0   Full Time · Experienced · 2+ Yrs of Exp · Bus...       - Aswan- Egypt  \n",
       "1   Full Time · Experienced · 4+ Yrs of Exp · Sof...       - Cairo- Egypt  \n",
       "2   Full Time · Experienced · 6-10 Yrs of Exp · S...   - New Cairo- Cairo  \n",
       "3   Full Time · Entry Level · 0-2 Yrs of Exp · Co...   - Nasr City- Cairo  \n",
       "4   Full Time · Experienced · 4-12 Yrs of Exp · A...   - New Cairo- Cairo  "
      ]
     },
     "execution_count": 127,
     "metadata": {},
     "output_type": "execute_result"
    }
   ],
   "source": [
    "df_21.head(5)"
   ]
  },
  {
   "cell_type": "code",
   "execution_count": 128,
   "id": "4f6994bb",
   "metadata": {},
   "outputs": [
    {
     "name": "stdout",
     "output_type": "stream",
     "text": [
      "<class 'pandas.core.frame.DataFrame'>\n",
      "RangeIndex: 2635 entries, 0 to 2634\n",
      "Data columns (total 7 columns):\n",
      " #   Column            Non-Null Count  Dtype \n",
      "---  ------            --------------  ----- \n",
      " 0   page_URL          2635 non-null   object\n",
      " 1   job_title         2635 non-null   object\n",
      " 2   company_names     2635 non-null   object\n",
      " 3   job_link          2635 non-null   object\n",
      " 4   job_link_link     2635 non-null   object\n",
      " 5    job_description  2635 non-null   object\n",
      " 6   location          2635 non-null   object\n",
      "dtypes: object(7)\n",
      "memory usage: 144.2+ KB\n"
     ]
    }
   ],
   "source": [
    "df_21.info()"
   ]
  },
  {
   "cell_type": "code",
   "execution_count": 129,
   "id": "33f24d65",
   "metadata": {},
   "outputs": [
    {
     "data": {
      "text/plain": [
       "Index(['page_URL ', 'job_title ', 'company_names ', 'job_link ',\n",
       "       'job_link_link', ' job_description', 'location'],\n",
       "      dtype='object')"
      ]
     },
     "execution_count": 129,
     "metadata": {},
     "output_type": "execute_result"
    }
   ],
   "source": [
    "df_21.columns"
   ]
  },
  {
   "cell_type": "code",
   "execution_count": 130,
   "id": "b4401d84",
   "metadata": {},
   "outputs": [
    {
     "data": {
      "text/plain": [
       "page_URL            0\n",
       "job_title           0\n",
       "company_names       0\n",
       "job_link            0\n",
       "job_link_link       0\n",
       " job_description    0\n",
       "location            0\n",
       "dtype: int64"
      ]
     },
     "execution_count": 130,
     "metadata": {},
     "output_type": "execute_result"
    }
   ],
   "source": [
    "# check for null values\n",
    "df_21.isnull().sum()"
   ]
  },
  {
   "cell_type": "code",
   "execution_count": 131,
   "id": "2ab8f9f7",
   "metadata": {},
   "outputs": [
    {
     "data": {
      "text/plain": [
       "0"
      ]
     },
     "execution_count": 131,
     "metadata": {},
     "output_type": "execute_result"
    }
   ],
   "source": [
    "#check for duplicates\n",
    "df_21.duplicated().sum()"
   ]
  },
  {
   "cell_type": "code",
   "execution_count": 132,
   "id": "9798669c",
   "metadata": {},
   "outputs": [
    {
     "data": {
      "text/plain": [
       " IT Specialist                                       21\n",
       " Business Analyst                                    18\n",
       " Front End Developer                                 15\n",
       " IT Help Desk Specialist                             14\n",
       " Graphic Designer                                    13\n",
       "                                                     ..\n",
       " Senior React Native Mobile Developer/Team leader     1\n",
       " Webflow & Javascript Developer                       1\n",
       " SAP ABAP Consultant                                  1\n",
       " Hardware Development Engineer                        1\n",
       " Fraud Risk Manager French Speaker                    1\n",
       "Name: job_title , Length: 1910, dtype: int64"
      ]
     },
     "execution_count": 132,
     "metadata": {},
     "output_type": "execute_result"
    }
   ],
   "source": [
    "df_21['job_title '].value_counts()"
   ]
  },
  {
   "cell_type": "code",
   "execution_count": 133,
   "id": "4812d137",
   "metadata": {},
   "outputs": [
    {
     "data": {
      "text/plain": [
       " Confidential                                   273\n",
       " FlairsTech                                      42\n",
       " Cegedim                                         31\n",
       " Fawry Banking & Payment Technology Services     20\n",
       " Perfect Presentation                            18\n",
       "                                               ... \n",
       " Professional Service - Proserv                   1\n",
       " Trust Creative Solutions                         1\n",
       " MTI Automotive                                   1\n",
       " nWeave LLC                                       1\n",
       " Giza power                                       1\n",
       "Name: company_names , Length: 987, dtype: int64"
      ]
     },
     "execution_count": 133,
     "metadata": {},
     "output_type": "execute_result"
    }
   ],
   "source": [
    "df_21['company_names '].value_counts()"
   ]
  },
  {
   "cell_type": "markdown",
   "id": "5dd28a37",
   "metadata": {},
   "source": [
    "Wuzzuf 2020 dataset"
   ]
  },
  {
   "cell_type": "markdown",
   "id": "266f2755",
   "metadata": {},
   "source": [
    "## Assessing Results"
   ]
  },
  {
   "cell_type": "markdown",
   "id": "fec42760",
   "metadata": {},
   "source": [
    "##### `IT and Software jobs  2021` datasets\n",
    "\n",
    "-We need to rename some columns\n",
    "\n",
    "-Discription column and title column will be divided to several columns\n",
    "\n",
    "-some columns needed to be removed\n",
    "\n",
    "-some companies hide their names "
   ]
  },
  {
   "cell_type": "markdown",
   "id": "40dc5454",
   "metadata": {},
   "source": [
    "# Cleaning"
   ]
  },
  {
   "cell_type": "code",
   "execution_count": 134,
   "id": "28dce3b4",
   "metadata": {},
   "outputs": [],
   "source": [
    "df_21_copy=df_21.copy()"
   ]
  },
  {
   "cell_type": "markdown",
   "id": "bfcb7a52",
   "metadata": {},
   "source": [
    "## Define\n",
    "-We need to rename some columns\n"
   ]
  },
  {
   "cell_type": "code",
   "execution_count": 135,
   "id": "d2a54fc8",
   "metadata": {},
   "outputs": [
    {
     "name": "stdout",
     "output_type": "stream",
     "text": [
      "<class 'pandas.core.frame.DataFrame'>\n",
      "RangeIndex: 2635 entries, 0 to 2634\n",
      "Data columns (total 7 columns):\n",
      " #   Column            Non-Null Count  Dtype \n",
      "---  ------            --------------  ----- \n",
      " 0   page_URL          2635 non-null   object\n",
      " 1   job_title         2635 non-null   object\n",
      " 2   company_names     2635 non-null   object\n",
      " 3   job_link          2635 non-null   object\n",
      " 4   job_link_link     2635 non-null   object\n",
      " 5    job_description  2635 non-null   object\n",
      " 6   location          2635 non-null   object\n",
      "dtypes: object(7)\n",
      "memory usage: 144.2+ KB\n"
     ]
    }
   ],
   "source": [
    "df_21_copy.info()"
   ]
  },
  {
   "cell_type": "markdown",
   "id": "2c4c3b3f",
   "metadata": {},
   "source": [
    "## Code  "
   ]
  },
  {
   "cell_type": "code",
   "execution_count": 136,
   "id": "50ea51f0",
   "metadata": {},
   "outputs": [
    {
     "data": {
      "text/plain": [
       "Index(['page_URL ', 'job_title ', 'company_names ', 'job_link ',\n",
       "       'job_link_link', ' job_description', 'location'],\n",
       "      dtype='object')"
      ]
     },
     "execution_count": 136,
     "metadata": {},
     "output_type": "execute_result"
    }
   ],
   "source": [
    "df_21_copy.columns"
   ]
  },
  {
   "cell_type": "code",
   "execution_count": 137,
   "id": "83884deb",
   "metadata": {},
   "outputs": [],
   "source": [
    "df_21_copy = df_21_copy.rename(columns = {'job_title ':'job_title','company_names ': 'company','job_link_link': 'job_profile',' job_description':'description'})"
   ]
  },
  {
   "cell_type": "markdown",
   "id": "27edd341",
   "metadata": {},
   "source": [
    "## Test "
   ]
  },
  {
   "cell_type": "code",
   "execution_count": 138,
   "id": "9259eb68",
   "metadata": {
    "scrolled": true
   },
   "outputs": [
    {
     "name": "stdout",
     "output_type": "stream",
     "text": [
      "<class 'pandas.core.frame.DataFrame'>\n",
      "RangeIndex: 2635 entries, 0 to 2634\n",
      "Data columns (total 7 columns):\n",
      " #   Column       Non-Null Count  Dtype \n",
      "---  ------       --------------  ----- \n",
      " 0   page_URL     2635 non-null   object\n",
      " 1   job_title    2635 non-null   object\n",
      " 2   company      2635 non-null   object\n",
      " 3   job_link     2635 non-null   object\n",
      " 4   job_profile  2635 non-null   object\n",
      " 5   description  2635 non-null   object\n",
      " 6   location     2635 non-null   object\n",
      "dtypes: object(7)\n",
      "memory usage: 144.2+ KB\n"
     ]
    }
   ],
   "source": [
    "df_21_copy.info()"
   ]
  },
  {
   "cell_type": "markdown",
   "id": "816d4c1e",
   "metadata": {},
   "source": [
    "## Define\n",
    "- some columns needed to be removed"
   ]
  },
  {
   "cell_type": "code",
   "execution_count": 139,
   "id": "47cff2e1",
   "metadata": {},
   "outputs": [
    {
     "name": "stdout",
     "output_type": "stream",
     "text": [
      "<class 'pandas.core.frame.DataFrame'>\n",
      "RangeIndex: 2635 entries, 0 to 2634\n",
      "Data columns (total 7 columns):\n",
      " #   Column       Non-Null Count  Dtype \n",
      "---  ------       --------------  ----- \n",
      " 0   page_URL     2635 non-null   object\n",
      " 1   job_title    2635 non-null   object\n",
      " 2   company      2635 non-null   object\n",
      " 3   job_link     2635 non-null   object\n",
      " 4   job_profile  2635 non-null   object\n",
      " 5   description  2635 non-null   object\n",
      " 6   location     2635 non-null   object\n",
      "dtypes: object(7)\n",
      "memory usage: 144.2+ KB\n"
     ]
    }
   ],
   "source": [
    "df_21_copy.info()"
   ]
  },
  {
   "cell_type": "markdown",
   "id": "4bd21d38",
   "metadata": {},
   "source": [
    "## Code"
   ]
  },
  {
   "cell_type": "code",
   "execution_count": 140,
   "id": "2a395d0d",
   "metadata": {},
   "outputs": [],
   "source": [
    "df_21_copy = df_21_copy.drop( [ 'page_URL ' , 'job_link ' ] ,axis = 1)"
   ]
  },
  {
   "cell_type": "markdown",
   "id": "5c876cf3",
   "metadata": {},
   "source": [
    "## Test"
   ]
  },
  {
   "cell_type": "code",
   "execution_count": 141,
   "id": "af6de7ec",
   "metadata": {},
   "outputs": [
    {
     "name": "stdout",
     "output_type": "stream",
     "text": [
      "<class 'pandas.core.frame.DataFrame'>\n",
      "RangeIndex: 2635 entries, 0 to 2634\n",
      "Data columns (total 5 columns):\n",
      " #   Column       Non-Null Count  Dtype \n",
      "---  ------       --------------  ----- \n",
      " 0   job_title    2635 non-null   object\n",
      " 1   company      2635 non-null   object\n",
      " 2   job_profile  2635 non-null   object\n",
      " 3   description  2635 non-null   object\n",
      " 4   location     2635 non-null   object\n",
      "dtypes: object(5)\n",
      "memory usage: 103.1+ KB\n"
     ]
    }
   ],
   "source": [
    "df_21_copy.info()"
   ]
  },
  {
   "cell_type": "markdown",
   "id": "7ce23892",
   "metadata": {},
   "source": [
    "## Define\n",
    "- some companies hide their names"
   ]
  },
  {
   "cell_type": "code",
   "execution_count": 142,
   "id": "0a9ec22d",
   "metadata": {},
   "outputs": [
    {
     "data": {
      "text/plain": [
       " Confidential                                   273\n",
       " FlairsTech                                      42\n",
       " Cegedim                                         31\n",
       " Fawry Banking & Payment Technology Services     20\n",
       " Perfect Presentation                            18\n",
       "                                               ... \n",
       " Professional Service - Proserv                   1\n",
       " Trust Creative Solutions                         1\n",
       " MTI Automotive                                   1\n",
       " nWeave LLC                                       1\n",
       " Giza power                                       1\n",
       "Name: company, Length: 987, dtype: int64"
      ]
     },
     "execution_count": 142,
     "metadata": {},
     "output_type": "execute_result"
    }
   ],
   "source": [
    "df_21_copy.company.value_counts()"
   ]
  },
  {
   "cell_type": "markdown",
   "id": "c4041949",
   "metadata": {},
   "source": [
    "## Code"
   ]
  },
  {
   "cell_type": "code",
   "execution_count": 143,
   "id": "6497d86c",
   "metadata": {},
   "outputs": [],
   "source": [
    "df_21_copy.company.replace(' ', np.nan , inplace=True)"
   ]
  },
  {
   "cell_type": "code",
   "execution_count": 144,
   "id": "fe9dce8b",
   "metadata": {},
   "outputs": [],
   "source": [
    "df_21_copy.company.fillna('Hidden',inplace=True)"
   ]
  },
  {
   "cell_type": "markdown",
   "id": "e2dd746e",
   "metadata": {},
   "source": [
    "## Test"
   ]
  },
  {
   "cell_type": "code",
   "execution_count": 145,
   "id": "9ba4b9c9",
   "metadata": {},
   "outputs": [
    {
     "data": {
      "text/plain": [
       " Confidential                                   273\n",
       " FlairsTech                                      42\n",
       " Cegedim                                         31\n",
       " Fawry Banking & Payment Technology Services     20\n",
       " Perfect Presentation                            18\n",
       "Name: company, dtype: int64"
      ]
     },
     "execution_count": 145,
     "metadata": {},
     "output_type": "execute_result"
    }
   ],
   "source": [
    "df_21_copy.company.value_counts().head()"
   ]
  },
  {
   "cell_type": "markdown",
   "id": "87f42f2d",
   "metadata": {},
   "source": [
    "## Define \n",
    "- Discription column will be divided to several columns"
   ]
  },
  {
   "cell_type": "code",
   "execution_count": 146,
   "id": "d28637a0",
   "metadata": {},
   "outputs": [],
   "source": [
    "# first we will make a list contains all the levels\n",
    "job_desc=df_21_copy.description\n",
    "The_job_title=df_21_copy.job_title\n",
    "levels=[]\n",
    "for i in job_desc:\n",
    "    if 'Internship' in i:\n",
    "        levels.append('Internship')     \n",
    "    elif 'Entry Level' in i:\n",
    "        levels.append('Entry Level')\n",
    "    elif 'Experienced'  in i:\n",
    "        levels.append('Experienced') \n",
    "    elif 'Manager' or 'Senior Management' in i:\n",
    "        levels.append('Manager')        \n",
    "    else:\n",
    "        levels.append(i)    \n",
    "        \n",
    " \n",
    "    \n",
    "# second we will make a list of the job status or type\n",
    "status=[]\n",
    "for i in job_desc:\n",
    "    if 'Full Time' in i:\n",
    "        status.append('Full Time')     \n",
    "    elif 'Part Time'  in i:\n",
    "        status.append('Part Time') \n",
    "    elif 'Internship' in i:\n",
    "        status.append('Internship')               \n",
    "    elif 'Full Time' and 'Part Time' in i:\n",
    "        status.append('Full Time' and 'Part Time')\n",
    "    elif 'Work From Home' in i:\n",
    "        status.append('Work From Home') \n",
    "    elif 'Contract' in i:\n",
    "        status.append('Contract')     \n",
    "    else:\n",
    "        status.append('not mentioned')    \n",
    "        \n",
    "#Third we will make a list of standered job types \n",
    "\n",
    "Standered_title=[]\n",
    "for i in The_job_title:\n",
    "    if 'IT' in i:\n",
    "        Standered_title.append('IT')     \n",
    "    elif 'Full Stack' or 'full stack' or 'Developer' or 'developer' or 'END' or 'end' in i:\n",
    "        Standered_title.append('Software Engneering') \n",
    "\n",
    "    else:\n",
    "        Standered_title.append('not mentioned')    "
   ]
  },
  {
   "cell_type": "markdown",
   "id": "300d064f",
   "metadata": {},
   "source": [
    "## Test"
   ]
  },
  {
   "cell_type": "code",
   "execution_count": 147,
   "id": "da299a29",
   "metadata": {},
   "outputs": [
    {
     "name": "stdout",
     "output_type": "stream",
     "text": [
      "{'Contract', 'Full Time', 'Part Time', 'Work From Home', 'Internship'}\n",
      "2635\n",
      "2635\n"
     ]
    }
   ],
   "source": [
    "#statues\n",
    "print(set(status))\n",
    "print(len(status))\n",
    "print(len(df_21_copy.description))"
   ]
  },
  {
   "cell_type": "code",
   "execution_count": 148,
   "id": "a791f73f",
   "metadata": {},
   "outputs": [
    {
     "name": "stdout",
     "output_type": "stream",
     "text": [
      "{'Manager', 'Experienced', 'Internship', 'Entry Level'}\n",
      "2635\n",
      "2635\n"
     ]
    }
   ],
   "source": [
    "#levels\n",
    "print(set(levels))\n",
    "print(len(levels))\n",
    "print(len(df_21_copy.description))"
   ]
  },
  {
   "cell_type": "code",
   "execution_count": 149,
   "id": "897b8114",
   "metadata": {},
   "outputs": [
    {
     "name": "stdout",
     "output_type": "stream",
     "text": [
      "{'IT', 'Software Engneering'}\n",
      "2635\n",
      "2635\n"
     ]
    }
   ],
   "source": [
    "#levels\n",
    "print(set(Standered_title))\n",
    "print(len(Standered_title))\n",
    "print(len(df_21_copy.job_title))"
   ]
  },
  {
   "cell_type": "code",
   "execution_count": 150,
   "id": "d0913d00",
   "metadata": {},
   "outputs": [],
   "source": [
    "df_21_copy['level']=levels\n",
    "df_21_copy['Type']=status\n",
    "df_21_copy['Standered_Title']=Standered_title\n"
   ]
  },
  {
   "cell_type": "code",
   "execution_count": 151,
   "id": "eb39066f",
   "metadata": {},
   "outputs": [
    {
     "data": {
      "text/html": [
       "<div>\n",
       "<style scoped>\n",
       "    .dataframe tbody tr th:only-of-type {\n",
       "        vertical-align: middle;\n",
       "    }\n",
       "\n",
       "    .dataframe tbody tr th {\n",
       "        vertical-align: top;\n",
       "    }\n",
       "\n",
       "    .dataframe thead th {\n",
       "        text-align: right;\n",
       "    }\n",
       "</style>\n",
       "<table border=\"1\" class=\"dataframe\">\n",
       "  <thead>\n",
       "    <tr style=\"text-align: right;\">\n",
       "      <th></th>\n",
       "      <th>job_title</th>\n",
       "      <th>company</th>\n",
       "      <th>job_profile</th>\n",
       "      <th>description</th>\n",
       "      <th>location</th>\n",
       "      <th>level</th>\n",
       "      <th>Type</th>\n",
       "      <th>Standered_Title</th>\n",
       "    </tr>\n",
       "  </thead>\n",
       "  <tbody>\n",
       "    <tr>\n",
       "      <th>0</th>\n",
       "      <td>Business Development Specialist - Upper Egypt</td>\n",
       "      <td>golden</td>\n",
       "      <td>https://wuzzuf.net/jobs/p/1623d22c-3de2-455a-...</td>\n",
       "      <td>Full Time · Experienced · 2+ Yrs of Exp · Bus...</td>\n",
       "      <td>- Aswan- Egypt</td>\n",
       "      <td>Experienced</td>\n",
       "      <td>Full Time</td>\n",
       "      <td>Software Engneering</td>\n",
       "    </tr>\n",
       "    <tr>\n",
       "      <th>1</th>\n",
       "      <td>Senior/Intermediate .NET Core Developer (Remo...</td>\n",
       "      <td>Confidential</td>\n",
       "      <td>https://wuzzuf.net/jobs/p/0efb55cc-3264-47b4-...</td>\n",
       "      <td>Full Time · Experienced · 4+ Yrs of Exp · Sof...</td>\n",
       "      <td>- Cairo- Egypt</td>\n",
       "      <td>Experienced</td>\n",
       "      <td>Full Time</td>\n",
       "      <td>Software Engneering</td>\n",
       "    </tr>\n",
       "    <tr>\n",
       "      <th>2</th>\n",
       "      <td>Senior Software Developer</td>\n",
       "      <td>Bnsights</td>\n",
       "      <td>https://wuzzuf.net/jobs/p/d76caa63-bc76-4839-...</td>\n",
       "      <td>Full Time · Experienced · 6-10 Yrs of Exp · S...</td>\n",
       "      <td>- New Cairo- Cairo</td>\n",
       "      <td>Experienced</td>\n",
       "      <td>Full Time</td>\n",
       "      <td>Software Engneering</td>\n",
       "    </tr>\n",
       "    <tr>\n",
       "      <th>3</th>\n",
       "      <td>Software Developer / Desktop Development</td>\n",
       "      <td>ITS</td>\n",
       "      <td>https://wuzzuf.net/jobs/p/2ffe3403-b147-4b38-...</td>\n",
       "      <td>Full Time · Entry Level · 0-2 Yrs of Exp · Co...</td>\n",
       "      <td>- Nasr City- Cairo</td>\n",
       "      <td>Entry Level</td>\n",
       "      <td>Full Time</td>\n",
       "      <td>Software Engneering</td>\n",
       "    </tr>\n",
       "    <tr>\n",
       "      <th>4</th>\n",
       "      <td>Senior Software Developer -Dynamics 365...</td>\n",
       "      <td>CrossWorkers</td>\n",
       "      <td>https://wuzzuf.net/jobs/p/b6ae6a6a-47b8-47f7-...</td>\n",
       "      <td>Full Time · Experienced · 4-12 Yrs of Exp · A...</td>\n",
       "      <td>- New Cairo- Cairo</td>\n",
       "      <td>Experienced</td>\n",
       "      <td>Full Time</td>\n",
       "      <td>Software Engneering</td>\n",
       "    </tr>\n",
       "  </tbody>\n",
       "</table>\n",
       "</div>"
      ],
      "text/plain": [
       "                                           job_title        company  \\\n",
       "0      Business Development Specialist - Upper Egypt         golden   \n",
       "1   Senior/Intermediate .NET Core Developer (Remo...   Confidential   \n",
       "2                          Senior Software Developer       Bnsights   \n",
       "3           Software Developer / Desktop Development            ITS   \n",
       "4         Senior Software Developer -Dynamics 365...   CrossWorkers   \n",
       "\n",
       "                                         job_profile  \\\n",
       "0   https://wuzzuf.net/jobs/p/1623d22c-3de2-455a-...   \n",
       "1   https://wuzzuf.net/jobs/p/0efb55cc-3264-47b4-...   \n",
       "2   https://wuzzuf.net/jobs/p/d76caa63-bc76-4839-...   \n",
       "3   https://wuzzuf.net/jobs/p/2ffe3403-b147-4b38-...   \n",
       "4   https://wuzzuf.net/jobs/p/b6ae6a6a-47b8-47f7-...   \n",
       "\n",
       "                                         description             location  \\\n",
       "0   Full Time · Experienced · 2+ Yrs of Exp · Bus...       - Aswan- Egypt   \n",
       "1   Full Time · Experienced · 4+ Yrs of Exp · Sof...       - Cairo- Egypt   \n",
       "2   Full Time · Experienced · 6-10 Yrs of Exp · S...   - New Cairo- Cairo   \n",
       "3   Full Time · Entry Level · 0-2 Yrs of Exp · Co...   - Nasr City- Cairo   \n",
       "4   Full Time · Experienced · 4-12 Yrs of Exp · A...   - New Cairo- Cairo   \n",
       "\n",
       "         level       Type      Standered_Title  \n",
       "0  Experienced  Full Time  Software Engneering  \n",
       "1  Experienced  Full Time  Software Engneering  \n",
       "2  Experienced  Full Time  Software Engneering  \n",
       "3  Entry Level  Full Time  Software Engneering  \n",
       "4  Experienced  Full Time  Software Engneering  "
      ]
     },
     "execution_count": 151,
     "metadata": {},
     "output_type": "execute_result"
    }
   ],
   "source": [
    "df_21_copy.head()"
   ]
  },
  {
   "cell_type": "markdown",
   "id": "28d4fc1f",
   "metadata": {},
   "source": [
    "# EDA"
   ]
  },
  {
   "cell_type": "code",
   "execution_count": 152,
   "id": "f8d099fd",
   "metadata": {},
   "outputs": [],
   "source": [
    "governates=[]\n",
    "#From my analysis I found the this governates are the most repeated governates in Egypt\n",
    "\n",
    "for i in df_21_copy.location:\n",
    "    if 'Cairo' in i:\n",
    "        governates.append('Cairo')     \n",
    "    elif  'Giza' in i:\n",
    "        governates.append('Giza')  \n",
    "    elif  'Alexandria' in i:\n",
    "        governates.append('Alexandria')     \n",
    "    elif  'Dakahlia' in i:\n",
    "        governates.append('Dakahlia')            \n",
    "    elif  'Assiut' in i:\n",
    "        governates.append('Assiut')            \n",
    "    elif  'Sharqia' in i:\n",
    "        governates.append('Sharqia')     \n",
    "    elif  'Aswan' in i:\n",
    "        governates.append('Aswan')      \n",
    "    else:\n",
    "        governates.append(i)\n",
    "        \n",
    "df_21_copy['Governates']=governates"
   ]
  },
  {
   "cell_type": "code",
   "execution_count": 153,
   "id": "94209188",
   "metadata": {},
   "outputs": [],
   "source": [
    "df_21_copy.Type.fillna('not mentioned',inplace=True)"
   ]
  },
  {
   "cell_type": "code",
   "execution_count": 154,
   "id": "79c849c6",
   "metadata": {},
   "outputs": [
    {
     "data": {
      "text/plain": [
       "Full Time         2543\n",
       "Internship          37\n",
       "Part Time           32\n",
       "Contract            14\n",
       "Work From Home       9\n",
       "Name: Type, dtype: int64"
      ]
     },
     "execution_count": 154,
     "metadata": {},
     "output_type": "execute_result"
    }
   ],
   "source": [
    "df_21_copy.Type.value_counts()"
   ]
  },
  {
   "cell_type": "code",
   "execution_count": 155,
   "id": "7ce3eca6",
   "metadata": {},
   "outputs": [
    {
     "data": {
      "text/plain": [
       "Experienced    1692\n",
       "Entry Level     535\n",
       "Manager         371\n",
       "Name: level, dtype: int64"
      ]
     },
     "execution_count": 155,
     "metadata": {},
     "output_type": "execute_result"
    }
   ],
   "source": [
    "df_21_copy['level'].value_counts()[:3]"
   ]
  },
  {
   "cell_type": "code",
   "execution_count": 156,
   "id": "b674960d",
   "metadata": {},
   "outputs": [
    {
     "data": {
      "text/plain": [
       "<AxesSubplot:>"
      ]
     },
     "execution_count": 156,
     "metadata": {},
     "output_type": "execute_result"
    },
    {
     "data": {
      "image/png": "[encoded data removed]",
      "text/plain": [
       "<Figure size 432x288 with 1 Axes>"
      ]
     },
     "metadata": {
      "needs_background": "light"
     },
     "output_type": "display_data"
    }
   ],
   "source": [
    "levels=df_21_copy['level'].value_counts().head()\n",
    "levels.plot(kind='bar')"
   ]
  },
  {
   "cell_type": "markdown",
   "id": "4aaeecd6",
   "metadata": {},
   "source": [
    "- we conclude that more than 1600 offers are for Experienced people and in the second place comes the Entry level jobs"
   ]
  },
  {
   "cell_type": "code",
   "execution_count": 157,
   "id": "10b0acb7",
   "metadata": {},
   "outputs": [
    {
     "data": {
      "image/png": "[encoded data removed]",
      "text/plain": [
       "<Figure size 432x432 with 1 Axes>"
      ]
     },
     "metadata": {},
     "output_type": "display_data"
    }
   ],
   "source": [
    "levels.plot(kind='pie',figsize=(6,6));"
   ]
  },
  {
   "cell_type": "markdown",
   "id": "fbbbd168",
   "metadata": {},
   "source": [
    "- This pie chart shows clearly the big difference between the Experienced and the rest"
   ]
  },
  {
   "cell_type": "code",
   "execution_count": 158,
   "id": "ab2794af",
   "metadata": {},
   "outputs": [
    {
     "data": {
      "image/png": "[encoded data removed]",
      "text/plain": [
       "<Figure size 432x288 with 1 Axes>"
      ]
     },
     "metadata": {
      "needs_background": "light"
     },
     "output_type": "display_data"
    }
   ],
   "source": [
    "df_21_copy.Type.value_counts().plot(kind='barh');"
   ]
  },
  {
   "cell_type": "markdown",
   "id": "36962902",
   "metadata": {},
   "source": [
    "- we can conclude from here that most of the job offers are full time jobs"
   ]
  },
  {
   "cell_type": "code",
   "execution_count": 159,
   "id": "af5764ee",
   "metadata": {},
   "outputs": [
    {
     "data": {
      "image/png": "[encoded data removed]",
      "text/plain": [
       "<Figure size 432x288 with 1 Axes>"
      ]
     },
     "metadata": {
      "needs_background": "light"
     },
     "output_type": "display_data"
    }
   ],
   "source": [
    "df_21_copy.Governates.value_counts()[:5].plot(kind='barh');"
   ]
  },
  {
   "cell_type": "markdown",
   "id": "6450840a",
   "metadata": {},
   "source": [
    "- we can conclude here that most of the job offers are in Cairo then Giza"
   ]
  },
  {
   "cell_type": "code",
   "execution_count": 160,
   "id": "49beaefa",
   "metadata": {},
   "outputs": [
    {
     "data": {
      "image/png": "[encoded data removed]",
      "text/plain": [
       "<Figure size 432x288 with 1 Axes>"
      ]
     },
     "metadata": {
      "needs_background": "light"
     },
     "output_type": "display_data"
    }
   ],
   "source": [
    "df_21_copy.Standered_Title.value_counts().plot(kind='barh');"
   ]
  },
  {
   "cell_type": "markdown",
   "id": "13b20d9f",
   "metadata": {},
   "source": [
    "- we can conclude from here that the most wanted job is Software engineering  then IT"
   ]
  },
  {
   "cell_type": "code",
   "execution_count": 161,
   "id": "9c0c41ae",
   "metadata": {},
   "outputs": [
    {
     "data": {
      "image/png": "[encoded data removed]",
      "text/plain": [
       "<Figure size 432x288 with 1 Axes>"
      ]
     },
     "metadata": {
      "needs_background": "light"
     },
     "output_type": "display_data"
    }
   ],
   "source": [
    "df_21_copy.company.value_counts()[:12].plot(kind='barh');"
   ]
  },
  {
   "cell_type": "markdown",
   "id": "189ebeef",
   "metadata": {},
   "source": [
    "- it's obvious here that the country with the most hob offers are Confidential then FlairsTech"
   ]
  },
  {
   "cell_type": "code",
   "execution_count": 162,
   "id": "e4eaafe6",
   "metadata": {
    "scrolled": true
   },
   "outputs": [
    {
     "data": {
      "text/html": [
       "<div>\n",
       "<style scoped>\n",
       "    .dataframe tbody tr th:only-of-type {\n",
       "        vertical-align: middle;\n",
       "    }\n",
       "\n",
       "    .dataframe tbody tr th {\n",
       "        vertical-align: top;\n",
       "    }\n",
       "\n",
       "    .dataframe thead th {\n",
       "        text-align: right;\n",
       "    }\n",
       "</style>\n",
       "<table border=\"1\" class=\"dataframe\">\n",
       "  <thead>\n",
       "    <tr style=\"text-align: right;\">\n",
       "      <th></th>\n",
       "      <th>job_title</th>\n",
       "      <th>company</th>\n",
       "      <th>job_profile</th>\n",
       "      <th>description</th>\n",
       "      <th>location</th>\n",
       "      <th>level</th>\n",
       "      <th>Type</th>\n",
       "      <th>Standered_Title</th>\n",
       "      <th>Governates</th>\n",
       "    </tr>\n",
       "  </thead>\n",
       "  <tbody>\n",
       "    <tr>\n",
       "      <th>0</th>\n",
       "      <td>Business Development Specialist - Upper Egypt</td>\n",
       "      <td>golden</td>\n",
       "      <td>https://wuzzuf.net/jobs/p/1623d22c-3de2-455a-...</td>\n",
       "      <td>Full Time · Experienced · 2+ Yrs of Exp · Bus...</td>\n",
       "      <td>- Aswan- Egypt</td>\n",
       "      <td>Experienced</td>\n",
       "      <td>Full Time</td>\n",
       "      <td>Software Engneering</td>\n",
       "      <td>Aswan</td>\n",
       "    </tr>\n",
       "    <tr>\n",
       "      <th>1</th>\n",
       "      <td>Senior/Intermediate .NET Core Developer (Remo...</td>\n",
       "      <td>Confidential</td>\n",
       "      <td>https://wuzzuf.net/jobs/p/0efb55cc-3264-47b4-...</td>\n",
       "      <td>Full Time · Experienced · 4+ Yrs of Exp · Sof...</td>\n",
       "      <td>- Cairo- Egypt</td>\n",
       "      <td>Experienced</td>\n",
       "      <td>Full Time</td>\n",
       "      <td>Software Engneering</td>\n",
       "      <td>Cairo</td>\n",
       "    </tr>\n",
       "    <tr>\n",
       "      <th>2</th>\n",
       "      <td>Senior Software Developer</td>\n",
       "      <td>Bnsights</td>\n",
       "      <td>https://wuzzuf.net/jobs/p/d76caa63-bc76-4839-...</td>\n",
       "      <td>Full Time · Experienced · 6-10 Yrs of Exp · S...</td>\n",
       "      <td>- New Cairo- Cairo</td>\n",
       "      <td>Experienced</td>\n",
       "      <td>Full Time</td>\n",
       "      <td>Software Engneering</td>\n",
       "      <td>Cairo</td>\n",
       "    </tr>\n",
       "    <tr>\n",
       "      <th>3</th>\n",
       "      <td>Software Developer / Desktop Development</td>\n",
       "      <td>ITS</td>\n",
       "      <td>https://wuzzuf.net/jobs/p/2ffe3403-b147-4b38-...</td>\n",
       "      <td>Full Time · Entry Level · 0-2 Yrs of Exp · Co...</td>\n",
       "      <td>- Nasr City- Cairo</td>\n",
       "      <td>Entry Level</td>\n",
       "      <td>Full Time</td>\n",
       "      <td>Software Engneering</td>\n",
       "      <td>Cairo</td>\n",
       "    </tr>\n",
       "    <tr>\n",
       "      <th>4</th>\n",
       "      <td>Senior Software Developer -Dynamics 365...</td>\n",
       "      <td>CrossWorkers</td>\n",
       "      <td>https://wuzzuf.net/jobs/p/b6ae6a6a-47b8-47f7-...</td>\n",
       "      <td>Full Time · Experienced · 4-12 Yrs of Exp · A...</td>\n",
       "      <td>- New Cairo- Cairo</td>\n",
       "      <td>Experienced</td>\n",
       "      <td>Full Time</td>\n",
       "      <td>Software Engneering</td>\n",
       "      <td>Cairo</td>\n",
       "    </tr>\n",
       "    <tr>\n",
       "      <th>5</th>\n",
       "      <td>Senior Software Developer - Java</td>\n",
       "      <td>CrossWorkers</td>\n",
       "      <td>https://wuzzuf.net/jobs/p/2e2c1f50-862c-41d9-...</td>\n",
       "      <td>Full Time · Experienced · 4+ Yrs of Exp · Inf...</td>\n",
       "      <td>- New Cairo- Cairo</td>\n",
       "      <td>Experienced</td>\n",
       "      <td>Full Time</td>\n",
       "      <td>Software Engneering</td>\n",
       "      <td>Cairo</td>\n",
       "    </tr>\n",
       "    <tr>\n",
       "      <th>6</th>\n",
       "      <td>Vodafone Egypt Customer Care Advisor</td>\n",
       "      <td>Vodafone Egypt</td>\n",
       "      <td>https://wuzzuf.net/jobs/p/f396ac99-f24e-4d88-...</td>\n",
       "      <td>Full Time · Entry Level · 0-3 Yrs of Exp · Ad...</td>\n",
       "      <td>- Maadi- Cairo</td>\n",
       "      <td>Entry Level</td>\n",
       "      <td>Full Time</td>\n",
       "      <td>Software Engneering</td>\n",
       "      <td>Cairo</td>\n",
       "    </tr>\n",
       "    <tr>\n",
       "      <th>7</th>\n",
       "      <td>Software Developer - As/400 Developer</td>\n",
       "      <td>Target Recruitment  &amp; HR Solutions</td>\n",
       "      <td>https://wuzzuf.net/jobs/p/9aa73514-5bc1-49e1-...</td>\n",
       "      <td>Full Time · Experienced · 5-10 Yrs of Exp · S...</td>\n",
       "      <td>- Cairo- Egypt</td>\n",
       "      <td>Experienced</td>\n",
       "      <td>Full Time</td>\n",
       "      <td>Software Engneering</td>\n",
       "      <td>Cairo</td>\n",
       "    </tr>\n",
       "    <tr>\n",
       "      <th>8</th>\n",
       "      <td>IT Developer</td>\n",
       "      <td>Confidential</td>\n",
       "      <td>https://wuzzuf.net/jobs/p/f84fc572-b364-491a-...</td>\n",
       "      <td>Full Time · Experienced · 2-3 Yrs of Exp · Co...</td>\n",
       "      <td>- New Cairo- Cairo</td>\n",
       "      <td>Experienced</td>\n",
       "      <td>Full Time</td>\n",
       "      <td>IT</td>\n",
       "      <td>Cairo</td>\n",
       "    </tr>\n",
       "    <tr>\n",
       "      <th>9</th>\n",
       "      <td>Software Developer</td>\n",
       "      <td>Off-Beat</td>\n",
       "      <td>https://wuzzuf.net/jobs/p/ffbd3e09-4982-42a4-...</td>\n",
       "      <td>Full Time · Entry Level · 0-1 Yrs of Exp · So...</td>\n",
       "      <td>- New Cairo- Cairo</td>\n",
       "      <td>Entry Level</td>\n",
       "      <td>Full Time</td>\n",
       "      <td>Software Engneering</td>\n",
       "      <td>Cairo</td>\n",
       "    </tr>\n",
       "  </tbody>\n",
       "</table>\n",
       "</div>"
      ],
      "text/plain": [
       "                                           job_title  \\\n",
       "0      Business Development Specialist - Upper Egypt   \n",
       "1   Senior/Intermediate .NET Core Developer (Remo...   \n",
       "2                          Senior Software Developer   \n",
       "3           Software Developer / Desktop Development   \n",
       "4         Senior Software Developer -Dynamics 365...   \n",
       "5                   Senior Software Developer - Java   \n",
       "6               Vodafone Egypt Customer Care Advisor   \n",
       "7              Software Developer - As/400 Developer   \n",
       "8                                       IT Developer   \n",
       "9                                 Software Developer   \n",
       "\n",
       "                               company  \\\n",
       "0                               golden   \n",
       "1                         Confidential   \n",
       "2                             Bnsights   \n",
       "3                                  ITS   \n",
       "4                         CrossWorkers   \n",
       "5                         CrossWorkers   \n",
       "6                       Vodafone Egypt   \n",
       "7   Target Recruitment  & HR Solutions   \n",
       "8                         Confidential   \n",
       "9                             Off-Beat   \n",
       "\n",
       "                                         job_profile  \\\n",
       "0   https://wuzzuf.net/jobs/p/1623d22c-3de2-455a-...   \n",
       "1   https://wuzzuf.net/jobs/p/0efb55cc-3264-47b4-...   \n",
       "2   https://wuzzuf.net/jobs/p/d76caa63-bc76-4839-...   \n",
       "3   https://wuzzuf.net/jobs/p/2ffe3403-b147-4b38-...   \n",
       "4   https://wuzzuf.net/jobs/p/b6ae6a6a-47b8-47f7-...   \n",
       "5   https://wuzzuf.net/jobs/p/2e2c1f50-862c-41d9-...   \n",
       "6   https://wuzzuf.net/jobs/p/f396ac99-f24e-4d88-...   \n",
       "7   https://wuzzuf.net/jobs/p/9aa73514-5bc1-49e1-...   \n",
       "8   https://wuzzuf.net/jobs/p/f84fc572-b364-491a-...   \n",
       "9   https://wuzzuf.net/jobs/p/ffbd3e09-4982-42a4-...   \n",
       "\n",
       "                                         description             location  \\\n",
       "0   Full Time · Experienced · 2+ Yrs of Exp · Bus...       - Aswan- Egypt   \n",
       "1   Full Time · Experienced · 4+ Yrs of Exp · Sof...       - Cairo- Egypt   \n",
       "2   Full Time · Experienced · 6-10 Yrs of Exp · S...   - New Cairo- Cairo   \n",
       "3   Full Time · Entry Level · 0-2 Yrs of Exp · Co...   - Nasr City- Cairo   \n",
       "4   Full Time · Experienced · 4-12 Yrs of Exp · A...   - New Cairo- Cairo   \n",
       "5   Full Time · Experienced · 4+ Yrs of Exp · Inf...   - New Cairo- Cairo   \n",
       "6   Full Time · Entry Level · 0-3 Yrs of Exp · Ad...       - Maadi- Cairo   \n",
       "7   Full Time · Experienced · 5-10 Yrs of Exp · S...       - Cairo- Egypt   \n",
       "8   Full Time · Experienced · 2-3 Yrs of Exp · Co...   - New Cairo- Cairo   \n",
       "9   Full Time · Entry Level · 0-1 Yrs of Exp · So...   - New Cairo- Cairo   \n",
       "\n",
       "         level       Type      Standered_Title Governates  \n",
       "0  Experienced  Full Time  Software Engneering      Aswan  \n",
       "1  Experienced  Full Time  Software Engneering      Cairo  \n",
       "2  Experienced  Full Time  Software Engneering      Cairo  \n",
       "3  Entry Level  Full Time  Software Engneering      Cairo  \n",
       "4  Experienced  Full Time  Software Engneering      Cairo  \n",
       "5  Experienced  Full Time  Software Engneering      Cairo  \n",
       "6  Entry Level  Full Time  Software Engneering      Cairo  \n",
       "7  Experienced  Full Time  Software Engneering      Cairo  \n",
       "8  Experienced  Full Time                   IT      Cairo  \n",
       "9  Entry Level  Full Time  Software Engneering      Cairo  "
      ]
     },
     "execution_count": 162,
     "metadata": {},
     "output_type": "execute_result"
    }
   ],
   "source": [
    "df.head(10)"
   ]
  },
  {
   "cell_type": "code",
   "execution_count": 163,
   "id": "877c94c3",
   "metadata": {},
   "outputs": [],
   "source": [
    "df.to_excel(\"Final.xlsx\",index=False)  "
   ]
  }
 ],
 "metadata": {
  "kernelspec": {
   "display_name": "Python 3",
   "language": "python",
   "name": "python3"
  },
  "language_info": {
   "codemirror_mode": {
    "name": "ipython",
    "version": 3
   },
   "file_extension": ".py",
   "mimetype": "text/x-python",
   "name": "python",
   "nbconvert_exporter": "python",
   "pygments_lexer": "ipython3",
   "version": "3.8.8"
  }
 },
 "nbformat": 4,
 "nbformat_minor": 5
}
